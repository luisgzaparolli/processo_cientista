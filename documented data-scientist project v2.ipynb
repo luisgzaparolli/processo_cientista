{
 "cells": [
  {
   "cell_type": "markdown",
   "metadata": {},
   "source": [
    "# Importing Libraries"
   ]
  },
  {
   "cell_type": "code",
   "execution_count": 1,
   "metadata": {},
   "outputs": [
    {
     "name": "stderr",
     "output_type": "stream",
     "text": [
      "C:\\Users\\pedro\\Anaconda3\\lib\\site-packages\\statsmodels\\tools\\_testing.py:19: FutureWarning: pandas.util.testing is deprecated. Use the functions in the public API at pandas.testing instead.\n",
      "  import pandas.util.testing as tm\n",
      "C:\\Users\\pedro\\Anaconda3\\lib\\site-packages\\sklearn\\utils\\deprecation.py:144: FutureWarning: The sklearn.metrics.classification module is  deprecated in version 0.22 and will be removed in version 0.24. The corresponding classes / functions should instead be imported from sklearn.metrics. Anything that cannot be imported from sklearn.metrics is now part of the private API.\n",
      "  warnings.warn(message, FutureWarning)\n"
     ]
    }
   ],
   "source": [
    "import pandas as pd\n",
    "import numpy as np\n",
    "import matplotlib.pyplot as plt\n",
    "import seaborn as sns\n",
    "\n",
    "#SKLearn\n",
    "from sklearn.linear_model import LogisticRegression\n",
    "from sklearn.model_selection import train_test_split\n",
    "from sklearn.metrics import confusion_matrix, plot_confusion_matrix, precision_score, recall_score, plot_roc_curve\n",
    "from sklearn.preprocessing import StandardScaler\n",
    "from sklearn.cluster import DBSCAN\n",
    "from sklearn.cluster import KMeans\n",
    "from sklearn.decomposition import PCA\n",
    "\n",
    "\n",
    "#Yellowbrick\n",
    "from yellowbrick.cluster import KElbowVisualizer\n",
    "from yellowbrick.cluster import SilhouetteVisualizer\n",
    "from yellowbrick.features.pca import PCADecomposition"
   ]
  },
  {
   "cell_type": "markdown",
   "metadata": {},
   "source": [
    "# Displaying all columns"
   ]
  },
  {
   "cell_type": "code",
   "execution_count": 2,
   "metadata": {},
   "outputs": [],
   "source": [
    "pd.options.display.max_columns = None"
   ]
  },
  {
   "cell_type": "markdown",
   "metadata": {},
   "source": [
    "# Exploratory Data Analysis"
   ]
  },
  {
   "cell_type": "code",
   "execution_count": 3,
   "metadata": {},
   "outputs": [],
   "source": [
    "rain = pd.read_csv('./data/rain_data_aus.csv')"
   ]
  },
  {
   "cell_type": "code",
   "execution_count": 4,
   "metadata": {},
   "outputs": [
    {
     "data": {
      "text/plain": [
       "(142193, 23)"
      ]
     },
     "execution_count": 4,
     "metadata": {},
     "output_type": "execute_result"
    }
   ],
   "source": [
    "rain.shape"
   ]
  },
  {
   "cell_type": "code",
   "execution_count": 5,
   "metadata": {},
   "outputs": [
    {
     "data": {
      "text/html": [
       "<div>\n",
       "<style scoped>\n",
       "    .dataframe tbody tr th:only-of-type {\n",
       "        vertical-align: middle;\n",
       "    }\n",
       "\n",
       "    .dataframe tbody tr th {\n",
       "        vertical-align: top;\n",
       "    }\n",
       "\n",
       "    .dataframe thead th {\n",
       "        text-align: right;\n",
       "    }\n",
       "</style>\n",
       "<table border=\"1\" class=\"dataframe\">\n",
       "  <thead>\n",
       "    <tr style=\"text-align: right;\">\n",
       "      <th></th>\n",
       "      <th>date</th>\n",
       "      <th>location</th>\n",
       "      <th>mintemp</th>\n",
       "      <th>maxtemp</th>\n",
       "      <th>rainfall</th>\n",
       "      <th>evaporation</th>\n",
       "      <th>sunshine</th>\n",
       "      <th>humidity9am</th>\n",
       "      <th>humidity3pm</th>\n",
       "      <th>pressure9am</th>\n",
       "      <th>pressure3pm</th>\n",
       "      <th>cloud9am</th>\n",
       "      <th>cloud3pm</th>\n",
       "      <th>temp9am</th>\n",
       "      <th>temp3pm</th>\n",
       "      <th>raintoday</th>\n",
       "      <th>amountOfRain</th>\n",
       "      <th>raintomorrow</th>\n",
       "      <th>temp</th>\n",
       "      <th>humidity</th>\n",
       "      <th>precipitation3pm</th>\n",
       "      <th>precipitation9am</th>\n",
       "      <th>modelo_vigente</th>\n",
       "    </tr>\n",
       "  </thead>\n",
       "  <tbody>\n",
       "    <tr>\n",
       "      <th>0</th>\n",
       "      <td>2008-12-01</td>\n",
       "      <td>Albury</td>\n",
       "      <td>13.4</td>\n",
       "      <td>22.9</td>\n",
       "      <td>0.6</td>\n",
       "      <td>NaN</td>\n",
       "      <td>NaN</td>\n",
       "      <td>71.0</td>\n",
       "      <td>22.0</td>\n",
       "      <td>1007.7</td>\n",
       "      <td>1007.1</td>\n",
       "      <td>8.0</td>\n",
       "      <td>NaN</td>\n",
       "      <td>16.9</td>\n",
       "      <td>21.8</td>\n",
       "      <td>No</td>\n",
       "      <td>0.0</td>\n",
       "      <td>No</td>\n",
       "      <td>29.48</td>\n",
       "      <td>28.400000</td>\n",
       "      <td>12</td>\n",
       "      <td>5.115360</td>\n",
       "      <td>0.089825</td>\n",
       "    </tr>\n",
       "    <tr>\n",
       "      <th>1</th>\n",
       "      <td>2008-12-02</td>\n",
       "      <td>Albury</td>\n",
       "      <td>7.4</td>\n",
       "      <td>25.1</td>\n",
       "      <td>0.0</td>\n",
       "      <td>NaN</td>\n",
       "      <td>NaN</td>\n",
       "      <td>44.0</td>\n",
       "      <td>25.0</td>\n",
       "      <td>1010.6</td>\n",
       "      <td>1007.8</td>\n",
       "      <td>NaN</td>\n",
       "      <td>NaN</td>\n",
       "      <td>17.2</td>\n",
       "      <td>24.3</td>\n",
       "      <td>No</td>\n",
       "      <td>0.0</td>\n",
       "      <td>No</td>\n",
       "      <td>32.12</td>\n",
       "      <td>2.208569</td>\n",
       "      <td>10</td>\n",
       "      <td>21.497100</td>\n",
       "      <td>0.023477</td>\n",
       "    </tr>\n",
       "    <tr>\n",
       "      <th>2</th>\n",
       "      <td>2008-12-03</td>\n",
       "      <td>Albury</td>\n",
       "      <td>12.9</td>\n",
       "      <td>25.7</td>\n",
       "      <td>0.0</td>\n",
       "      <td>NaN</td>\n",
       "      <td>NaN</td>\n",
       "      <td>38.0</td>\n",
       "      <td>30.0</td>\n",
       "      <td>1007.6</td>\n",
       "      <td>1008.7</td>\n",
       "      <td>NaN</td>\n",
       "      <td>2.0</td>\n",
       "      <td>21.0</td>\n",
       "      <td>23.2</td>\n",
       "      <td>No</td>\n",
       "      <td>0.0</td>\n",
       "      <td>No</td>\n",
       "      <td>32.84</td>\n",
       "      <td>38.000000</td>\n",
       "      <td>17</td>\n",
       "      <td>20.782859</td>\n",
       "      <td>0.027580</td>\n",
       "    </tr>\n",
       "    <tr>\n",
       "      <th>3</th>\n",
       "      <td>2008-12-04</td>\n",
       "      <td>Albury</td>\n",
       "      <td>9.2</td>\n",
       "      <td>28.0</td>\n",
       "      <td>0.0</td>\n",
       "      <td>NaN</td>\n",
       "      <td>NaN</td>\n",
       "      <td>45.0</td>\n",
       "      <td>16.0</td>\n",
       "      <td>1017.6</td>\n",
       "      <td>1012.8</td>\n",
       "      <td>NaN</td>\n",
       "      <td>NaN</td>\n",
       "      <td>18.1</td>\n",
       "      <td>26.5</td>\n",
       "      <td>No</td>\n",
       "      <td>1.0</td>\n",
       "      <td>No</td>\n",
       "      <td>35.60</td>\n",
       "      <td>21.200000</td>\n",
       "      <td>8</td>\n",
       "      <td>12.028646</td>\n",
       "      <td>0.023962</td>\n",
       "    </tr>\n",
       "    <tr>\n",
       "      <th>4</th>\n",
       "      <td>2008-12-05</td>\n",
       "      <td>Albury</td>\n",
       "      <td>17.5</td>\n",
       "      <td>32.3</td>\n",
       "      <td>1.0</td>\n",
       "      <td>NaN</td>\n",
       "      <td>NaN</td>\n",
       "      <td>82.0</td>\n",
       "      <td>33.0</td>\n",
       "      <td>1010.8</td>\n",
       "      <td>1006.0</td>\n",
       "      <td>7.0</td>\n",
       "      <td>8.0</td>\n",
       "      <td>17.8</td>\n",
       "      <td>29.7</td>\n",
       "      <td>No</td>\n",
       "      <td>0.2</td>\n",
       "      <td>No</td>\n",
       "      <td>40.76</td>\n",
       "      <td>41.600000</td>\n",
       "      <td>9</td>\n",
       "      <td>11.883546</td>\n",
       "      <td>0.220164</td>\n",
       "    </tr>\n",
       "  </tbody>\n",
       "</table>\n",
       "</div>"
      ],
      "text/plain": [
       "         date location  mintemp  maxtemp  rainfall  evaporation  sunshine  \\\n",
       "0  2008-12-01   Albury     13.4     22.9       0.6          NaN       NaN   \n",
       "1  2008-12-02   Albury      7.4     25.1       0.0          NaN       NaN   \n",
       "2  2008-12-03   Albury     12.9     25.7       0.0          NaN       NaN   \n",
       "3  2008-12-04   Albury      9.2     28.0       0.0          NaN       NaN   \n",
       "4  2008-12-05   Albury     17.5     32.3       1.0          NaN       NaN   \n",
       "\n",
       "   humidity9am  humidity3pm  pressure9am  pressure3pm  cloud9am  cloud3pm  \\\n",
       "0         71.0         22.0       1007.7       1007.1       8.0       NaN   \n",
       "1         44.0         25.0       1010.6       1007.8       NaN       NaN   \n",
       "2         38.0         30.0       1007.6       1008.7       NaN       2.0   \n",
       "3         45.0         16.0       1017.6       1012.8       NaN       NaN   \n",
       "4         82.0         33.0       1010.8       1006.0       7.0       8.0   \n",
       "\n",
       "   temp9am  temp3pm raintoday  amountOfRain raintomorrow   temp   humidity  \\\n",
       "0     16.9     21.8        No           0.0           No  29.48  28.400000   \n",
       "1     17.2     24.3        No           0.0           No  32.12   2.208569   \n",
       "2     21.0     23.2        No           0.0           No  32.84  38.000000   \n",
       "3     18.1     26.5        No           1.0           No  35.60  21.200000   \n",
       "4     17.8     29.7        No           0.2           No  40.76  41.600000   \n",
       "\n",
       "   precipitation3pm  precipitation9am  modelo_vigente  \n",
       "0                12          5.115360        0.089825  \n",
       "1                10         21.497100        0.023477  \n",
       "2                17         20.782859        0.027580  \n",
       "3                 8         12.028646        0.023962  \n",
       "4                 9         11.883546        0.220164  "
      ]
     },
     "execution_count": 5,
     "metadata": {},
     "output_type": "execute_result"
    }
   ],
   "source": [
    "rain.head()"
   ]
  },
  {
   "cell_type": "code",
   "execution_count": 6,
   "metadata": {},
   "outputs": [
    {
     "name": "stdout",
     "output_type": "stream",
     "text": [
      "<class 'pandas.core.frame.DataFrame'>\n",
      "RangeIndex: 142193 entries, 0 to 142192\n",
      "Data columns (total 23 columns):\n",
      " #   Column            Non-Null Count   Dtype  \n",
      "---  ------            --------------   -----  \n",
      " 0   date              142193 non-null  object \n",
      " 1   location          142193 non-null  object \n",
      " 2   mintemp           141556 non-null  float64\n",
      " 3   maxtemp           141871 non-null  float64\n",
      " 4   rainfall          140787 non-null  float64\n",
      " 5   evaporation       81350 non-null   float64\n",
      " 6   sunshine          74377 non-null   float64\n",
      " 7   humidity9am       140419 non-null  float64\n",
      " 8   humidity3pm       138583 non-null  float64\n",
      " 9   pressure9am       128179 non-null  float64\n",
      " 10  pressure3pm       128212 non-null  float64\n",
      " 11  cloud9am          88536 non-null   float64\n",
      " 12  cloud3pm          85099 non-null   float64\n",
      " 13  temp9am           141289 non-null  float64\n",
      " 14  temp3pm           139467 non-null  float64\n",
      " 15  raintoday         140787 non-null  object \n",
      " 16  amountOfRain      142193 non-null  float64\n",
      " 17  raintomorrow      142193 non-null  object \n",
      " 18  temp              141871 non-null  float64\n",
      " 19  humidity          138583 non-null  float64\n",
      " 20  precipitation3pm  142193 non-null  int64  \n",
      " 21  precipitation9am  142193 non-null  float64\n",
      " 22  modelo_vigente    142193 non-null  float64\n",
      "dtypes: float64(18), int64(1), object(4)\n",
      "memory usage: 25.0+ MB\n"
     ]
    }
   ],
   "source": [
    "rain.info()"
   ]
  },
  {
   "cell_type": "markdown",
   "metadata": {},
   "source": [
    "There are 4 object columns: "
   ]
  },
  {
   "cell_type": "code",
   "execution_count": 7,
   "metadata": {},
   "outputs": [
    {
     "data": {
      "image/png": "[encoded data removed]",
      "text/plain": [
       "<Figure size 1440x720 with 1 Axes>"
      ]
     },
     "metadata": {},
     "output_type": "display_data"
    }
   ],
   "source": [
    "fig, ax = plt.subplots(figsize=(20, 10))\n",
    "sns.heatmap(rain.isnull(), cbar=False);"
   ]
  },
  {
   "cell_type": "code",
   "execution_count": 8,
   "metadata": {},
   "outputs": [
    {
     "data": {
      "text/plain": [
       "Index(['date', 'location', 'raintoday', 'raintomorrow'], dtype='object')"
      ]
     },
     "execution_count": 8,
     "metadata": {},
     "output_type": "execute_result"
    }
   ],
   "source": [
    "rain.select_dtypes(include='object').columns"
   ]
  },
  {
   "cell_type": "markdown",
   "metadata": {},
   "source": [
    "Looking for missing values"
   ]
  },
  {
   "cell_type": "code",
   "execution_count": 9,
   "metadata": {},
   "outputs": [
    {
     "data": {
      "text/plain": [
       "date                    0\n",
       "location                0\n",
       "mintemp               637\n",
       "maxtemp               322\n",
       "rainfall             1406\n",
       "evaporation         60843\n",
       "sunshine            67816\n",
       "humidity9am          1774\n",
       "humidity3pm          3610\n",
       "pressure9am         14014\n",
       "pressure3pm         13981\n",
       "cloud9am            53657\n",
       "cloud3pm            57094\n",
       "temp9am               904\n",
       "temp3pm              2726\n",
       "raintoday            1406\n",
       "amountOfRain            0\n",
       "raintomorrow            0\n",
       "temp                  322\n",
       "humidity             3610\n",
       "precipitation3pm        0\n",
       "precipitation9am        0\n",
       "modelo_vigente          0\n",
       "dtype: int64"
      ]
     },
     "execution_count": 9,
     "metadata": {},
     "output_type": "execute_result"
    }
   ],
   "source": [
    "rain.isnull().sum()"
   ]
  },
  {
   "cell_type": "markdown",
   "metadata": {},
   "source": [
    "# Simple Baseline"
   ]
  },
  {
   "cell_type": "markdown",
   "metadata": {},
   "source": [
    "Then we decided to do a simple baseline so we can run the logistic regression"
   ]
  },
  {
   "cell_type": "markdown",
   "metadata": {},
   "source": [
    "## Treating missing values"
   ]
  },
  {
   "cell_type": "markdown",
   "metadata": {},
   "source": [
    "Let's drop the columns with high missing values. We decided to drop the columns that have more than 1/3 of missing values"
   ]
  },
  {
   "cell_type": "code",
   "execution_count": 10,
   "metadata": {},
   "outputs": [
    {
     "data": {
      "text/plain": [
       "['evaporation', 'sunshine', 'cloud9am', 'cloud3pm']"
      ]
     },
     "execution_count": 10,
     "metadata": {},
     "output_type": "execute_result"
    }
   ],
   "source": [
    "nan = rain.isnull().sum()\n",
    "cols_to_drop = []\n",
    "\n",
    "for i, value in enumerate(nan.values):\n",
    "    if value > rain.shape[0]/3:\n",
    "        cols_to_drop.append(nan.index[i])\n",
    "        \n",
    "cols_to_drop"
   ]
  },
  {
   "cell_type": "code",
   "execution_count": 11,
   "metadata": {},
   "outputs": [],
   "source": [
    "rain = rain.drop(cols_to_drop, axis=1)"
   ]
  },
  {
   "cell_type": "code",
   "execution_count": 12,
   "metadata": {},
   "outputs": [
    {
     "data": {
      "text/plain": [
       "(142193, 19)"
      ]
     },
     "execution_count": 12,
     "metadata": {},
     "output_type": "execute_result"
    }
   ],
   "source": [
    "rain.shape"
   ]
  },
  {
   "cell_type": "markdown",
   "metadata": {},
   "source": [
    "We also decided to drop 'pressure9am' and 'pressure3pm' columns"
   ]
  },
  {
   "cell_type": "code",
   "execution_count": 13,
   "metadata": {},
   "outputs": [
    {
     "data": {
      "text/plain": [
       "False    0.901444\n",
       "True     0.098556\n",
       "Name: pressure9am, dtype: float64"
      ]
     },
     "execution_count": 13,
     "metadata": {},
     "output_type": "execute_result"
    }
   ],
   "source": [
    "#Almost 10% of null values\n",
    "rain['pressure9am'].isnull().value_counts(normalize=True)"
   ]
  },
  {
   "cell_type": "code",
   "execution_count": 14,
   "metadata": {},
   "outputs": [
    {
     "data": {
      "text/plain": [
       "False    0.901676\n",
       "True     0.098324\n",
       "Name: pressure3pm, dtype: float64"
      ]
     },
     "execution_count": 14,
     "metadata": {},
     "output_type": "execute_result"
    }
   ],
   "source": [
    "#Almost 10% of null values too\n",
    "rain['pressure3pm'].isnull().value_counts(normalize=True)"
   ]
  },
  {
   "cell_type": "code",
   "execution_count": 15,
   "metadata": {},
   "outputs": [
    {
     "data": {
      "text/html": [
       "<div>\n",
       "<style scoped>\n",
       "    .dataframe tbody tr th:only-of-type {\n",
       "        vertical-align: middle;\n",
       "    }\n",
       "\n",
       "    .dataframe tbody tr th {\n",
       "        vertical-align: top;\n",
       "    }\n",
       "\n",
       "    .dataframe thead tr th {\n",
       "        text-align: left;\n",
       "    }\n",
       "\n",
       "    .dataframe thead tr:last-of-type th {\n",
       "        text-align: right;\n",
       "    }\n",
       "</style>\n",
       "<table border=\"1\" class=\"dataframe\">\n",
       "  <thead>\n",
       "    <tr>\n",
       "      <th></th>\n",
       "      <th colspan=\"8\" halign=\"left\">pressure9am</th>\n",
       "      <th colspan=\"8\" halign=\"left\">pressure3pm</th>\n",
       "    </tr>\n",
       "    <tr>\n",
       "      <th></th>\n",
       "      <th>count</th>\n",
       "      <th>mean</th>\n",
       "      <th>std</th>\n",
       "      <th>min</th>\n",
       "      <th>25%</th>\n",
       "      <th>50%</th>\n",
       "      <th>75%</th>\n",
       "      <th>max</th>\n",
       "      <th>count</th>\n",
       "      <th>mean</th>\n",
       "      <th>std</th>\n",
       "      <th>min</th>\n",
       "      <th>25%</th>\n",
       "      <th>50%</th>\n",
       "      <th>75%</th>\n",
       "      <th>max</th>\n",
       "    </tr>\n",
       "    <tr>\n",
       "      <th>location</th>\n",
       "      <th></th>\n",
       "      <th></th>\n",
       "      <th></th>\n",
       "      <th></th>\n",
       "      <th></th>\n",
       "      <th></th>\n",
       "      <th></th>\n",
       "      <th></th>\n",
       "      <th></th>\n",
       "      <th></th>\n",
       "      <th></th>\n",
       "      <th></th>\n",
       "      <th></th>\n",
       "      <th></th>\n",
       "      <th></th>\n",
       "      <th></th>\n",
       "    </tr>\n",
       "  </thead>\n",
       "  <tbody>\n",
       "    <tr>\n",
       "      <th>Adelaide</th>\n",
       "      <td>3082.0</td>\n",
       "      <td>1018.727579</td>\n",
       "      <td>7.357987</td>\n",
       "      <td>982.3</td>\n",
       "      <td>1013.700</td>\n",
       "      <td>1018.70</td>\n",
       "      <td>1023.700</td>\n",
       "      <td>1039.2</td>\n",
       "      <td>3083.0</td>\n",
       "      <td>1016.772202</td>\n",
       "      <td>7.121669</td>\n",
       "      <td>986.4</td>\n",
       "      <td>1011.900</td>\n",
       "      <td>1016.80</td>\n",
       "      <td>1021.500</td>\n",
       "      <td>1036.8</td>\n",
       "    </tr>\n",
       "    <tr>\n",
       "      <th>Albany</th>\n",
       "      <td>2991.0</td>\n",
       "      <td>1018.283049</td>\n",
       "      <td>7.251447</td>\n",
       "      <td>989.2</td>\n",
       "      <td>1013.600</td>\n",
       "      <td>1018.50</td>\n",
       "      <td>1023.300</td>\n",
       "      <td>1040.9</td>\n",
       "      <td>2992.0</td>\n",
       "      <td>1016.500668</td>\n",
       "      <td>7.087741</td>\n",
       "      <td>986.9</td>\n",
       "      <td>1012.000</td>\n",
       "      <td>1016.60</td>\n",
       "      <td>1021.400</td>\n",
       "      <td>1038.2</td>\n",
       "    </tr>\n",
       "    <tr>\n",
       "      <th>Albury</th>\n",
       "      <td>3011.0</td>\n",
       "      <td>1018.367253</td>\n",
       "      <td>7.361457</td>\n",
       "      <td>989.8</td>\n",
       "      <td>1013.400</td>\n",
       "      <td>1018.40</td>\n",
       "      <td>1023.300</td>\n",
       "      <td>1039.9</td>\n",
       "      <td>3007.0</td>\n",
       "      <td>1015.755504</td>\n",
       "      <td>7.111794</td>\n",
       "      <td>982.9</td>\n",
       "      <td>1010.700</td>\n",
       "      <td>1015.60</td>\n",
       "      <td>1020.500</td>\n",
       "      <td>1036.1</td>\n",
       "    </tr>\n",
       "    <tr>\n",
       "      <th>AliceSprings</th>\n",
       "      <td>3030.0</td>\n",
       "      <td>1016.699670</td>\n",
       "      <td>6.409189</td>\n",
       "      <td>997.7</td>\n",
       "      <td>1011.725</td>\n",
       "      <td>1016.70</td>\n",
       "      <td>1021.700</td>\n",
       "      <td>1034.1</td>\n",
       "      <td>3028.0</td>\n",
       "      <td>1012.884478</td>\n",
       "      <td>6.407147</td>\n",
       "      <td>995.0</td>\n",
       "      <td>1007.900</td>\n",
       "      <td>1012.70</td>\n",
       "      <td>1017.800</td>\n",
       "      <td>1029.2</td>\n",
       "    </tr>\n",
       "    <tr>\n",
       "      <th>BadgerysCreek</th>\n",
       "      <td>2785.0</td>\n",
       "      <td>1018.450880</td>\n",
       "      <td>7.014221</td>\n",
       "      <td>996.8</td>\n",
       "      <td>1013.900</td>\n",
       "      <td>1018.60</td>\n",
       "      <td>1023.200</td>\n",
       "      <td>1039.2</td>\n",
       "      <td>2780.0</td>\n",
       "      <td>1015.632806</td>\n",
       "      <td>7.023405</td>\n",
       "      <td>993.1</td>\n",
       "      <td>1010.800</td>\n",
       "      <td>1015.80</td>\n",
       "      <td>1020.400</td>\n",
       "      <td>1036.8</td>\n",
       "    </tr>\n",
       "    <tr>\n",
       "      <th>Ballarat</th>\n",
       "      <td>3004.0</td>\n",
       "      <td>1017.855293</td>\n",
       "      <td>7.611270</td>\n",
       "      <td>989.4</td>\n",
       "      <td>1012.900</td>\n",
       "      <td>1017.90</td>\n",
       "      <td>1023.000</td>\n",
       "      <td>1039.5</td>\n",
       "      <td>3004.0</td>\n",
       "      <td>1016.274967</td>\n",
       "      <td>7.449705</td>\n",
       "      <td>987.3</td>\n",
       "      <td>1011.400</td>\n",
       "      <td>1016.35</td>\n",
       "      <td>1021.300</td>\n",
       "      <td>1036.3</td>\n",
       "    </tr>\n",
       "    <tr>\n",
       "      <th>Bendigo</th>\n",
       "      <td>3020.0</td>\n",
       "      <td>1018.024272</td>\n",
       "      <td>7.448458</td>\n",
       "      <td>989.5</td>\n",
       "      <td>1013.000</td>\n",
       "      <td>1018.10</td>\n",
       "      <td>1023.100</td>\n",
       "      <td>1039.3</td>\n",
       "      <td>3025.0</td>\n",
       "      <td>1015.869521</td>\n",
       "      <td>7.278211</td>\n",
       "      <td>988.6</td>\n",
       "      <td>1011.100</td>\n",
       "      <td>1015.90</td>\n",
       "      <td>1020.700</td>\n",
       "      <td>1036.3</td>\n",
       "    </tr>\n",
       "    <tr>\n",
       "      <th>Brisbane</th>\n",
       "      <td>3161.0</td>\n",
       "      <td>1018.246947</td>\n",
       "      <td>5.461651</td>\n",
       "      <td>997.8</td>\n",
       "      <td>1014.600</td>\n",
       "      <td>1018.30</td>\n",
       "      <td>1022.000</td>\n",
       "      <td>1033.9</td>\n",
       "      <td>3159.0</td>\n",
       "      <td>1015.116714</td>\n",
       "      <td>5.490139</td>\n",
       "      <td>993.2</td>\n",
       "      <td>1011.500</td>\n",
       "      <td>1015.20</td>\n",
       "      <td>1018.800</td>\n",
       "      <td>1031.5</td>\n",
       "    </tr>\n",
       "    <tr>\n",
       "      <th>Cairns</th>\n",
       "      <td>2988.0</td>\n",
       "      <td>1014.154284</td>\n",
       "      <td>4.183403</td>\n",
       "      <td>994.4</td>\n",
       "      <td>1011.400</td>\n",
       "      <td>1014.70</td>\n",
       "      <td>1017.300</td>\n",
       "      <td>1024.2</td>\n",
       "      <td>2988.0</td>\n",
       "      <td>1011.103447</td>\n",
       "      <td>4.143253</td>\n",
       "      <td>992.4</td>\n",
       "      <td>1008.400</td>\n",
       "      <td>1011.55</td>\n",
       "      <td>1014.200</td>\n",
       "      <td>1021.9</td>\n",
       "    </tr>\n",
       "    <tr>\n",
       "      <th>Canberra</th>\n",
       "      <td>3194.0</td>\n",
       "      <td>1018.986725</td>\n",
       "      <td>7.492871</td>\n",
       "      <td>987.4</td>\n",
       "      <td>1013.925</td>\n",
       "      <td>1018.90</td>\n",
       "      <td>1024.100</td>\n",
       "      <td>1040.6</td>\n",
       "      <td>3198.0</td>\n",
       "      <td>1016.235272</td>\n",
       "      <td>7.151006</td>\n",
       "      <td>985.5</td>\n",
       "      <td>1011.400</td>\n",
       "      <td>1016.10</td>\n",
       "      <td>1021.075</td>\n",
       "      <td>1037.9</td>\n",
       "    </tr>\n",
       "    <tr>\n",
       "      <th>Cobar</th>\n",
       "      <td>2961.0</td>\n",
       "      <td>1017.995137</td>\n",
       "      <td>6.462880</td>\n",
       "      <td>991.7</td>\n",
       "      <td>1013.300</td>\n",
       "      <td>1017.90</td>\n",
       "      <td>1022.700</td>\n",
       "      <td>1036.6</td>\n",
       "      <td>2963.0</td>\n",
       "      <td>1015.330037</td>\n",
       "      <td>6.293080</td>\n",
       "      <td>993.8</td>\n",
       "      <td>1010.700</td>\n",
       "      <td>1015.20</td>\n",
       "      <td>1019.800</td>\n",
       "      <td>1033.3</td>\n",
       "    </tr>\n",
       "    <tr>\n",
       "      <th>CoffsHarbour</th>\n",
       "      <td>2688.0</td>\n",
       "      <td>1018.222731</td>\n",
       "      <td>6.076822</td>\n",
       "      <td>998.3</td>\n",
       "      <td>1014.100</td>\n",
       "      <td>1018.30</td>\n",
       "      <td>1022.325</td>\n",
       "      <td>1036.8</td>\n",
       "      <td>2687.0</td>\n",
       "      <td>1015.833122</td>\n",
       "      <td>6.107954</td>\n",
       "      <td>993.7</td>\n",
       "      <td>1011.900</td>\n",
       "      <td>1015.90</td>\n",
       "      <td>1019.900</td>\n",
       "      <td>1035.0</td>\n",
       "    </tr>\n",
       "    <tr>\n",
       "      <th>Dartmoor</th>\n",
       "      <td>2942.0</td>\n",
       "      <td>1017.997621</td>\n",
       "      <td>7.962654</td>\n",
       "      <td>986.2</td>\n",
       "      <td>1012.800</td>\n",
       "      <td>1018.20</td>\n",
       "      <td>1023.400</td>\n",
       "      <td>1038.9</td>\n",
       "      <td>2941.0</td>\n",
       "      <td>1016.505304</td>\n",
       "      <td>7.792334</td>\n",
       "      <td>985.2</td>\n",
       "      <td>1011.400</td>\n",
       "      <td>1016.90</td>\n",
       "      <td>1021.900</td>\n",
       "      <td>1036.9</td>\n",
       "    </tr>\n",
       "    <tr>\n",
       "      <th>Darwin</th>\n",
       "      <td>3191.0</td>\n",
       "      <td>1011.888154</td>\n",
       "      <td>3.355192</td>\n",
       "      <td>996.3</td>\n",
       "      <td>1009.600</td>\n",
       "      <td>1012.20</td>\n",
       "      <td>1014.400</td>\n",
       "      <td>1019.3</td>\n",
       "      <td>3190.0</td>\n",
       "      <td>1008.348370</td>\n",
       "      <td>2.909818</td>\n",
       "      <td>996.0</td>\n",
       "      <td>1006.400</td>\n",
       "      <td>1008.60</td>\n",
       "      <td>1010.500</td>\n",
       "      <td>1015.4</td>\n",
       "    </tr>\n",
       "    <tr>\n",
       "      <th>GoldCoast</th>\n",
       "      <td>2980.0</td>\n",
       "      <td>1017.932081</td>\n",
       "      <td>5.457297</td>\n",
       "      <td>999.5</td>\n",
       "      <td>1014.200</td>\n",
       "      <td>1017.90</td>\n",
       "      <td>1021.700</td>\n",
       "      <td>1033.5</td>\n",
       "      <td>2980.0</td>\n",
       "      <td>1015.225101</td>\n",
       "      <td>5.543619</td>\n",
       "      <td>997.6</td>\n",
       "      <td>1011.500</td>\n",
       "      <td>1015.35</td>\n",
       "      <td>1019.000</td>\n",
       "      <td>1031.8</td>\n",
       "    </tr>\n",
       "    <tr>\n",
       "      <th>Hobart</th>\n",
       "      <td>3187.0</td>\n",
       "      <td>1014.526828</td>\n",
       "      <td>9.964205</td>\n",
       "      <td>982.2</td>\n",
       "      <td>1008.200</td>\n",
       "      <td>1015.40</td>\n",
       "      <td>1021.600</td>\n",
       "      <td>1040.4</td>\n",
       "      <td>3187.0</td>\n",
       "      <td>1012.955130</td>\n",
       "      <td>9.825168</td>\n",
       "      <td>977.1</td>\n",
       "      <td>1006.700</td>\n",
       "      <td>1013.90</td>\n",
       "      <td>1019.900</td>\n",
       "      <td>1038.9</td>\n",
       "    </tr>\n",
       "    <tr>\n",
       "      <th>Katherine</th>\n",
       "      <td>1558.0</td>\n",
       "      <td>1012.840244</td>\n",
       "      <td>3.797706</td>\n",
       "      <td>998.9</td>\n",
       "      <td>1010.125</td>\n",
       "      <td>1013.00</td>\n",
       "      <td>1015.600</td>\n",
       "      <td>1022.2</td>\n",
       "      <td>1554.0</td>\n",
       "      <td>1008.531660</td>\n",
       "      <td>3.632798</td>\n",
       "      <td>996.6</td>\n",
       "      <td>1005.900</td>\n",
       "      <td>1008.60</td>\n",
       "      <td>1011.200</td>\n",
       "      <td>1017.2</td>\n",
       "    </tr>\n",
       "    <tr>\n",
       "      <th>Launceston</th>\n",
       "      <td>1882.0</td>\n",
       "      <td>1015.666578</td>\n",
       "      <td>9.238052</td>\n",
       "      <td>985.0</td>\n",
       "      <td>1009.900</td>\n",
       "      <td>1016.35</td>\n",
       "      <td>1022.100</td>\n",
       "      <td>1040.5</td>\n",
       "      <td>1882.0</td>\n",
       "      <td>1013.745377</td>\n",
       "      <td>8.952101</td>\n",
       "      <td>980.2</td>\n",
       "      <td>1008.100</td>\n",
       "      <td>1014.30</td>\n",
       "      <td>1019.900</td>\n",
       "      <td>1039.6</td>\n",
       "    </tr>\n",
       "    <tr>\n",
       "      <th>Melbourne</th>\n",
       "      <td>2434.0</td>\n",
       "      <td>1017.732580</td>\n",
       "      <td>7.834652</td>\n",
       "      <td>988.9</td>\n",
       "      <td>1012.625</td>\n",
       "      <td>1018.00</td>\n",
       "      <td>1023.075</td>\n",
       "      <td>1039.0</td>\n",
       "      <td>2432.0</td>\n",
       "      <td>1015.847451</td>\n",
       "      <td>7.641476</td>\n",
       "      <td>988.3</td>\n",
       "      <td>1010.800</td>\n",
       "      <td>1016.30</td>\n",
       "      <td>1021.100</td>\n",
       "      <td>1035.8</td>\n",
       "    </tr>\n",
       "    <tr>\n",
       "      <th>MelbourneAirport</th>\n",
       "      <td>3009.0</td>\n",
       "      <td>1018.087670</td>\n",
       "      <td>7.682523</td>\n",
       "      <td>989.7</td>\n",
       "      <td>1013.100</td>\n",
       "      <td>1018.30</td>\n",
       "      <td>1023.300</td>\n",
       "      <td>1039.3</td>\n",
       "      <td>3009.0</td>\n",
       "      <td>1016.279096</td>\n",
       "      <td>7.531829</td>\n",
       "      <td>988.2</td>\n",
       "      <td>1011.300</td>\n",
       "      <td>1016.70</td>\n",
       "      <td>1021.400</td>\n",
       "      <td>1036.0</td>\n",
       "    </tr>\n",
       "    <tr>\n",
       "      <th>Mildura</th>\n",
       "      <td>3003.0</td>\n",
       "      <td>1018.771029</td>\n",
       "      <td>7.053044</td>\n",
       "      <td>991.3</td>\n",
       "      <td>1013.900</td>\n",
       "      <td>1018.70</td>\n",
       "      <td>1023.750</td>\n",
       "      <td>1038.6</td>\n",
       "      <td>3005.0</td>\n",
       "      <td>1016.262429</td>\n",
       "      <td>6.872942</td>\n",
       "      <td>987.7</td>\n",
       "      <td>1011.600</td>\n",
       "      <td>1016.20</td>\n",
       "      <td>1020.900</td>\n",
       "      <td>1036.0</td>\n",
       "    </tr>\n",
       "    <tr>\n",
       "      <th>Moree</th>\n",
       "      <td>2854.0</td>\n",
       "      <td>1018.309706</td>\n",
       "      <td>5.952067</td>\n",
       "      <td>999.0</td>\n",
       "      <td>1014.000</td>\n",
       "      <td>1018.30</td>\n",
       "      <td>1022.400</td>\n",
       "      <td>1035.9</td>\n",
       "      <td>2853.0</td>\n",
       "      <td>1014.935682</td>\n",
       "      <td>5.782420</td>\n",
       "      <td>995.9</td>\n",
       "      <td>1010.900</td>\n",
       "      <td>1014.90</td>\n",
       "      <td>1018.900</td>\n",
       "      <td>1032.3</td>\n",
       "    </tr>\n",
       "    <tr>\n",
       "      <th>MountGambier</th>\n",
       "      <td>3029.0</td>\n",
       "      <td>1017.940112</td>\n",
       "      <td>7.934820</td>\n",
       "      <td>985.1</td>\n",
       "      <td>1012.800</td>\n",
       "      <td>1018.20</td>\n",
       "      <td>1023.300</td>\n",
       "      <td>1038.8</td>\n",
       "      <td>3025.0</td>\n",
       "      <td>1016.380595</td>\n",
       "      <td>7.713794</td>\n",
       "      <td>984.9</td>\n",
       "      <td>1011.300</td>\n",
       "      <td>1016.60</td>\n",
       "      <td>1021.700</td>\n",
       "      <td>1036.9</td>\n",
       "    </tr>\n",
       "    <tr>\n",
       "      <th>MountGinini</th>\n",
       "      <td>0.0</td>\n",
       "      <td>NaN</td>\n",
       "      <td>NaN</td>\n",
       "      <td>NaN</td>\n",
       "      <td>NaN</td>\n",
       "      <td>NaN</td>\n",
       "      <td>NaN</td>\n",
       "      <td>NaN</td>\n",
       "      <td>0.0</td>\n",
       "      <td>NaN</td>\n",
       "      <td>NaN</td>\n",
       "      <td>NaN</td>\n",
       "      <td>NaN</td>\n",
       "      <td>NaN</td>\n",
       "      <td>NaN</td>\n",
       "      <td>NaN</td>\n",
       "    </tr>\n",
       "    <tr>\n",
       "      <th>Newcastle</th>\n",
       "      <td>0.0</td>\n",
       "      <td>NaN</td>\n",
       "      <td>NaN</td>\n",
       "      <td>NaN</td>\n",
       "      <td>NaN</td>\n",
       "      <td>NaN</td>\n",
       "      <td>NaN</td>\n",
       "      <td>NaN</td>\n",
       "      <td>0.0</td>\n",
       "      <td>NaN</td>\n",
       "      <td>NaN</td>\n",
       "      <td>NaN</td>\n",
       "      <td>NaN</td>\n",
       "      <td>NaN</td>\n",
       "      <td>NaN</td>\n",
       "      <td>NaN</td>\n",
       "    </tr>\n",
       "    <tr>\n",
       "      <th>Nhil</th>\n",
       "      <td>1569.0</td>\n",
       "      <td>1018.546335</td>\n",
       "      <td>7.543523</td>\n",
       "      <td>986.9</td>\n",
       "      <td>1013.500</td>\n",
       "      <td>1018.50</td>\n",
       "      <td>1023.600</td>\n",
       "      <td>1038.5</td>\n",
       "      <td>1569.0</td>\n",
       "      <td>1016.401402</td>\n",
       "      <td>7.334483</td>\n",
       "      <td>982.6</td>\n",
       "      <td>1011.500</td>\n",
       "      <td>1016.40</td>\n",
       "      <td>1021.300</td>\n",
       "      <td>1036.3</td>\n",
       "    </tr>\n",
       "    <tr>\n",
       "      <th>NorahHead</th>\n",
       "      <td>2917.0</td>\n",
       "      <td>1018.259033</td>\n",
       "      <td>6.732356</td>\n",
       "      <td>996.5</td>\n",
       "      <td>1013.900</td>\n",
       "      <td>1018.30</td>\n",
       "      <td>1022.800</td>\n",
       "      <td>1038.4</td>\n",
       "      <td>2921.0</td>\n",
       "      <td>1016.014824</td>\n",
       "      <td>6.815338</td>\n",
       "      <td>991.6</td>\n",
       "      <td>1011.500</td>\n",
       "      <td>1016.20</td>\n",
       "      <td>1020.600</td>\n",
       "      <td>1035.9</td>\n",
       "    </tr>\n",
       "    <tr>\n",
       "      <th>NorfolkIsland</th>\n",
       "      <td>2956.0</td>\n",
       "      <td>1017.631360</td>\n",
       "      <td>5.510219</td>\n",
       "      <td>980.5</td>\n",
       "      <td>1014.200</td>\n",
       "      <td>1018.00</td>\n",
       "      <td>1021.500</td>\n",
       "      <td>1033.0</td>\n",
       "      <td>2962.0</td>\n",
       "      <td>1015.887576</td>\n",
       "      <td>5.353440</td>\n",
       "      <td>979.0</td>\n",
       "      <td>1012.600</td>\n",
       "      <td>1016.20</td>\n",
       "      <td>1019.600</td>\n",
       "      <td>1030.6</td>\n",
       "    </tr>\n",
       "    <tr>\n",
       "      <th>Nuriootpa</th>\n",
       "      <td>2995.0</td>\n",
       "      <td>1018.915793</td>\n",
       "      <td>7.154657</td>\n",
       "      <td>982.0</td>\n",
       "      <td>1014.100</td>\n",
       "      <td>1018.80</td>\n",
       "      <td>1023.800</td>\n",
       "      <td>1038.7</td>\n",
       "      <td>2994.0</td>\n",
       "      <td>1016.791316</td>\n",
       "      <td>6.944641</td>\n",
       "      <td>986.4</td>\n",
       "      <td>1012.200</td>\n",
       "      <td>1016.70</td>\n",
       "      <td>1021.375</td>\n",
       "      <td>1036.4</td>\n",
       "    </tr>\n",
       "    <tr>\n",
       "      <th>PearceRAAF</th>\n",
       "      <td>2744.0</td>\n",
       "      <td>1017.746902</td>\n",
       "      <td>6.311765</td>\n",
       "      <td>996.9</td>\n",
       "      <td>1013.200</td>\n",
       "      <td>1017.50</td>\n",
       "      <td>1022.200</td>\n",
       "      <td>1038.2</td>\n",
       "      <td>2738.0</td>\n",
       "      <td>1015.177575</td>\n",
       "      <td>6.071857</td>\n",
       "      <td>992.6</td>\n",
       "      <td>1010.700</td>\n",
       "      <td>1014.90</td>\n",
       "      <td>1019.500</td>\n",
       "      <td>1033.8</td>\n",
       "    </tr>\n",
       "    <tr>\n",
       "      <th>Penrith</th>\n",
       "      <td>0.0</td>\n",
       "      <td>NaN</td>\n",
       "      <td>NaN</td>\n",
       "      <td>NaN</td>\n",
       "      <td>NaN</td>\n",
       "      <td>NaN</td>\n",
       "      <td>NaN</td>\n",
       "      <td>NaN</td>\n",
       "      <td>0.0</td>\n",
       "      <td>NaN</td>\n",
       "      <td>NaN</td>\n",
       "      <td>NaN</td>\n",
       "      <td>NaN</td>\n",
       "      <td>NaN</td>\n",
       "      <td>NaN</td>\n",
       "      <td>NaN</td>\n",
       "    </tr>\n",
       "    <tr>\n",
       "      <th>Perth</th>\n",
       "      <td>3192.0</td>\n",
       "      <td>1017.784398</td>\n",
       "      <td>6.523240</td>\n",
       "      <td>996.2</td>\n",
       "      <td>1013.100</td>\n",
       "      <td>1017.40</td>\n",
       "      <td>1022.300</td>\n",
       "      <td>1038.8</td>\n",
       "      <td>3192.0</td>\n",
       "      <td>1015.420457</td>\n",
       "      <td>6.121600</td>\n",
       "      <td>991.9</td>\n",
       "      <td>1011.000</td>\n",
       "      <td>1015.10</td>\n",
       "      <td>1019.700</td>\n",
       "      <td>1034.3</td>\n",
       "    </tr>\n",
       "    <tr>\n",
       "      <th>PerthAirport</th>\n",
       "      <td>3007.0</td>\n",
       "      <td>1017.890323</td>\n",
       "      <td>6.429501</td>\n",
       "      <td>996.7</td>\n",
       "      <td>1013.300</td>\n",
       "      <td>1017.60</td>\n",
       "      <td>1022.250</td>\n",
       "      <td>1038.7</td>\n",
       "      <td>3008.0</td>\n",
       "      <td>1015.366789</td>\n",
       "      <td>6.086753</td>\n",
       "      <td>992.0</td>\n",
       "      <td>1011.000</td>\n",
       "      <td>1015.10</td>\n",
       "      <td>1019.600</td>\n",
       "      <td>1034.2</td>\n",
       "    </tr>\n",
       "    <tr>\n",
       "      <th>Portland</th>\n",
       "      <td>2984.0</td>\n",
       "      <td>1017.686260</td>\n",
       "      <td>8.091115</td>\n",
       "      <td>986.7</td>\n",
       "      <td>1012.400</td>\n",
       "      <td>1018.10</td>\n",
       "      <td>1023.200</td>\n",
       "      <td>1038.8</td>\n",
       "      <td>2986.0</td>\n",
       "      <td>1016.620194</td>\n",
       "      <td>7.922645</td>\n",
       "      <td>985.5</td>\n",
       "      <td>1011.500</td>\n",
       "      <td>1017.10</td>\n",
       "      <td>1022.000</td>\n",
       "      <td>1037.3</td>\n",
       "    </tr>\n",
       "    <tr>\n",
       "      <th>Richmond</th>\n",
       "      <td>2931.0</td>\n",
       "      <td>1018.705527</td>\n",
       "      <td>7.028448</td>\n",
       "      <td>997.0</td>\n",
       "      <td>1014.100</td>\n",
       "      <td>1018.80</td>\n",
       "      <td>1023.400</td>\n",
       "      <td>1039.1</td>\n",
       "      <td>2928.0</td>\n",
       "      <td>1015.642316</td>\n",
       "      <td>6.995061</td>\n",
       "      <td>989.0</td>\n",
       "      <td>1010.900</td>\n",
       "      <td>1015.70</td>\n",
       "      <td>1020.400</td>\n",
       "      <td>1036.8</td>\n",
       "    </tr>\n",
       "    <tr>\n",
       "      <th>Sale</th>\n",
       "      <td>2986.0</td>\n",
       "      <td>1017.827294</td>\n",
       "      <td>8.020095</td>\n",
       "      <td>989.3</td>\n",
       "      <td>1012.700</td>\n",
       "      <td>1018.20</td>\n",
       "      <td>1023.275</td>\n",
       "      <td>1039.2</td>\n",
       "      <td>2985.0</td>\n",
       "      <td>1015.900637</td>\n",
       "      <td>7.815878</td>\n",
       "      <td>987.1</td>\n",
       "      <td>1010.700</td>\n",
       "      <td>1016.20</td>\n",
       "      <td>1021.300</td>\n",
       "      <td>1036.9</td>\n",
       "    </tr>\n",
       "    <tr>\n",
       "      <th>SalmonGums</th>\n",
       "      <td>0.0</td>\n",
       "      <td>NaN</td>\n",
       "      <td>NaN</td>\n",
       "      <td>NaN</td>\n",
       "      <td>NaN</td>\n",
       "      <td>NaN</td>\n",
       "      <td>NaN</td>\n",
       "      <td>NaN</td>\n",
       "      <td>0.0</td>\n",
       "      <td>NaN</td>\n",
       "      <td>NaN</td>\n",
       "      <td>NaN</td>\n",
       "      <td>NaN</td>\n",
       "      <td>NaN</td>\n",
       "      <td>NaN</td>\n",
       "      <td>NaN</td>\n",
       "    </tr>\n",
       "    <tr>\n",
       "      <th>Sydney</th>\n",
       "      <td>3317.0</td>\n",
       "      <td>1018.346156</td>\n",
       "      <td>7.021571</td>\n",
       "      <td>986.7</td>\n",
       "      <td>1013.700</td>\n",
       "      <td>1018.60</td>\n",
       "      <td>1023.100</td>\n",
       "      <td>1039.0</td>\n",
       "      <td>3318.0</td>\n",
       "      <td>1016.018774</td>\n",
       "      <td>7.032211</td>\n",
       "      <td>989.8</td>\n",
       "      <td>1011.300</td>\n",
       "      <td>1016.30</td>\n",
       "      <td>1020.800</td>\n",
       "      <td>1036.7</td>\n",
       "    </tr>\n",
       "    <tr>\n",
       "      <th>SydneyAirport</th>\n",
       "      <td>2997.0</td>\n",
       "      <td>1018.360594</td>\n",
       "      <td>6.979996</td>\n",
       "      <td>996.3</td>\n",
       "      <td>1013.800</td>\n",
       "      <td>1018.50</td>\n",
       "      <td>1023.100</td>\n",
       "      <td>1038.8</td>\n",
       "      <td>3002.0</td>\n",
       "      <td>1015.969654</td>\n",
       "      <td>7.038665</td>\n",
       "      <td>989.3</td>\n",
       "      <td>1011.225</td>\n",
       "      <td>1016.10</td>\n",
       "      <td>1020.700</td>\n",
       "      <td>1037.0</td>\n",
       "    </tr>\n",
       "    <tr>\n",
       "      <th>Townsville</th>\n",
       "      <td>3033.0</td>\n",
       "      <td>1015.173129</td>\n",
       "      <td>4.590418</td>\n",
       "      <td>994.3</td>\n",
       "      <td>1012.000</td>\n",
       "      <td>1015.60</td>\n",
       "      <td>1018.700</td>\n",
       "      <td>1026.1</td>\n",
       "      <td>3033.0</td>\n",
       "      <td>1011.913914</td>\n",
       "      <td>4.461417</td>\n",
       "      <td>991.6</td>\n",
       "      <td>1009.000</td>\n",
       "      <td>1012.30</td>\n",
       "      <td>1015.200</td>\n",
       "      <td>1023.3</td>\n",
       "    </tr>\n",
       "    <tr>\n",
       "      <th>Tuggeranong</th>\n",
       "      <td>2983.0</td>\n",
       "      <td>1018.521623</td>\n",
       "      <td>7.571827</td>\n",
       "      <td>992.8</td>\n",
       "      <td>1013.300</td>\n",
       "      <td>1018.40</td>\n",
       "      <td>1023.650</td>\n",
       "      <td>1040.6</td>\n",
       "      <td>2988.0</td>\n",
       "      <td>1015.672423</td>\n",
       "      <td>7.220017</td>\n",
       "      <td>985.0</td>\n",
       "      <td>1010.800</td>\n",
       "      <td>1015.40</td>\n",
       "      <td>1020.600</td>\n",
       "      <td>1037.7</td>\n",
       "    </tr>\n",
       "    <tr>\n",
       "      <th>Uluru</th>\n",
       "      <td>1518.0</td>\n",
       "      <td>1017.109881</td>\n",
       "      <td>6.437819</td>\n",
       "      <td>994.6</td>\n",
       "      <td>1012.300</td>\n",
       "      <td>1017.10</td>\n",
       "      <td>1021.800</td>\n",
       "      <td>1033.4</td>\n",
       "      <td>1520.0</td>\n",
       "      <td>1013.308289</td>\n",
       "      <td>6.464604</td>\n",
       "      <td>989.2</td>\n",
       "      <td>1008.500</td>\n",
       "      <td>1013.20</td>\n",
       "      <td>1017.800</td>\n",
       "      <td>1029.8</td>\n",
       "    </tr>\n",
       "    <tr>\n",
       "      <th>WaggaWagga</th>\n",
       "      <td>2976.0</td>\n",
       "      <td>1018.569120</td>\n",
       "      <td>7.077536</td>\n",
       "      <td>991.5</td>\n",
       "      <td>1013.700</td>\n",
       "      <td>1018.40</td>\n",
       "      <td>1023.300</td>\n",
       "      <td>1039.6</td>\n",
       "      <td>2976.0</td>\n",
       "      <td>1015.919724</td>\n",
       "      <td>6.907423</td>\n",
       "      <td>984.2</td>\n",
       "      <td>1011.100</td>\n",
       "      <td>1015.80</td>\n",
       "      <td>1020.600</td>\n",
       "      <td>1036.2</td>\n",
       "    </tr>\n",
       "    <tr>\n",
       "      <th>Walpole</th>\n",
       "      <td>2817.0</td>\n",
       "      <td>1017.845651</td>\n",
       "      <td>7.099440</td>\n",
       "      <td>988.9</td>\n",
       "      <td>1013.300</td>\n",
       "      <td>1018.10</td>\n",
       "      <td>1022.700</td>\n",
       "      <td>1040.4</td>\n",
       "      <td>2817.0</td>\n",
       "      <td>1016.189776</td>\n",
       "      <td>6.905890</td>\n",
       "      <td>985.1</td>\n",
       "      <td>1011.800</td>\n",
       "      <td>1016.30</td>\n",
       "      <td>1021.000</td>\n",
       "      <td>1037.7</td>\n",
       "    </tr>\n",
       "    <tr>\n",
       "      <th>Watsonia</th>\n",
       "      <td>2999.0</td>\n",
       "      <td>1018.035178</td>\n",
       "      <td>7.701749</td>\n",
       "      <td>989.7</td>\n",
       "      <td>1012.950</td>\n",
       "      <td>1018.20</td>\n",
       "      <td>1023.200</td>\n",
       "      <td>1039.2</td>\n",
       "      <td>2999.0</td>\n",
       "      <td>1016.093031</td>\n",
       "      <td>7.515305</td>\n",
       "      <td>988.3</td>\n",
       "      <td>1011.100</td>\n",
       "      <td>1016.50</td>\n",
       "      <td>1021.200</td>\n",
       "      <td>1035.8</td>\n",
       "    </tr>\n",
       "    <tr>\n",
       "      <th>Williamtown</th>\n",
       "      <td>2543.0</td>\n",
       "      <td>1018.365906</td>\n",
       "      <td>6.579661</td>\n",
       "      <td>997.8</td>\n",
       "      <td>1014.000</td>\n",
       "      <td>1018.50</td>\n",
       "      <td>1022.900</td>\n",
       "      <td>1038.7</td>\n",
       "      <td>2544.0</td>\n",
       "      <td>1015.842138</td>\n",
       "      <td>6.625788</td>\n",
       "      <td>992.8</td>\n",
       "      <td>1011.500</td>\n",
       "      <td>1016.00</td>\n",
       "      <td>1020.300</td>\n",
       "      <td>1035.9</td>\n",
       "    </tr>\n",
       "    <tr>\n",
       "      <th>Witchcliffe</th>\n",
       "      <td>2819.0</td>\n",
       "      <td>1018.473643</td>\n",
       "      <td>6.701009</td>\n",
       "      <td>992.3</td>\n",
       "      <td>1014.150</td>\n",
       "      <td>1018.50</td>\n",
       "      <td>1022.900</td>\n",
       "      <td>1041.0</td>\n",
       "      <td>2820.0</td>\n",
       "      <td>1016.804220</td>\n",
       "      <td>6.374450</td>\n",
       "      <td>987.8</td>\n",
       "      <td>1012.700</td>\n",
       "      <td>1016.70</td>\n",
       "      <td>1021.100</td>\n",
       "      <td>1037.0</td>\n",
       "    </tr>\n",
       "    <tr>\n",
       "      <th>Wollongong</th>\n",
       "      <td>2933.0</td>\n",
       "      <td>1018.112683</td>\n",
       "      <td>7.228269</td>\n",
       "      <td>994.0</td>\n",
       "      <td>1013.400</td>\n",
       "      <td>1018.30</td>\n",
       "      <td>1023.100</td>\n",
       "      <td>1039.2</td>\n",
       "      <td>2964.0</td>\n",
       "      <td>1016.023077</td>\n",
       "      <td>7.196256</td>\n",
       "      <td>987.4</td>\n",
       "      <td>1011.200</td>\n",
       "      <td>1016.30</td>\n",
       "      <td>1020.900</td>\n",
       "      <td>1037.8</td>\n",
       "    </tr>\n",
       "    <tr>\n",
       "      <th>Woomera</th>\n",
       "      <td>2979.0</td>\n",
       "      <td>1018.683317</td>\n",
       "      <td>6.726681</td>\n",
       "      <td>997.5</td>\n",
       "      <td>1013.900</td>\n",
       "      <td>1018.50</td>\n",
       "      <td>1023.400</td>\n",
       "      <td>1038.6</td>\n",
       "      <td>2976.0</td>\n",
       "      <td>1016.019926</td>\n",
       "      <td>6.558306</td>\n",
       "      <td>992.3</td>\n",
       "      <td>1011.300</td>\n",
       "      <td>1015.80</td>\n",
       "      <td>1020.500</td>\n",
       "      <td>1035.9</td>\n",
       "    </tr>\n",
       "  </tbody>\n",
       "</table>\n",
       "</div>"
      ],
      "text/plain": [
       "                 pressure9am                                                   \\\n",
       "                       count         mean       std    min       25%      50%   \n",
       "location                                                                        \n",
       "Adelaide              3082.0  1018.727579  7.357987  982.3  1013.700  1018.70   \n",
       "Albany                2991.0  1018.283049  7.251447  989.2  1013.600  1018.50   \n",
       "Albury                3011.0  1018.367253  7.361457  989.8  1013.400  1018.40   \n",
       "AliceSprings          3030.0  1016.699670  6.409189  997.7  1011.725  1016.70   \n",
       "BadgerysCreek         2785.0  1018.450880  7.014221  996.8  1013.900  1018.60   \n",
       "Ballarat              3004.0  1017.855293  7.611270  989.4  1012.900  1017.90   \n",
       "Bendigo               3020.0  1018.024272  7.448458  989.5  1013.000  1018.10   \n",
       "Brisbane              3161.0  1018.246947  5.461651  997.8  1014.600  1018.30   \n",
       "Cairns                2988.0  1014.154284  4.183403  994.4  1011.400  1014.70   \n",
       "Canberra              3194.0  1018.986725  7.492871  987.4  1013.925  1018.90   \n",
       "Cobar                 2961.0  1017.995137  6.462880  991.7  1013.300  1017.90   \n",
       "CoffsHarbour          2688.0  1018.222731  6.076822  998.3  1014.100  1018.30   \n",
       "Dartmoor              2942.0  1017.997621  7.962654  986.2  1012.800  1018.20   \n",
       "Darwin                3191.0  1011.888154  3.355192  996.3  1009.600  1012.20   \n",
       "GoldCoast             2980.0  1017.932081  5.457297  999.5  1014.200  1017.90   \n",
       "Hobart                3187.0  1014.526828  9.964205  982.2  1008.200  1015.40   \n",
       "Katherine             1558.0  1012.840244  3.797706  998.9  1010.125  1013.00   \n",
       "Launceston            1882.0  1015.666578  9.238052  985.0  1009.900  1016.35   \n",
       "Melbourne             2434.0  1017.732580  7.834652  988.9  1012.625  1018.00   \n",
       "MelbourneAirport      3009.0  1018.087670  7.682523  989.7  1013.100  1018.30   \n",
       "Mildura               3003.0  1018.771029  7.053044  991.3  1013.900  1018.70   \n",
       "Moree                 2854.0  1018.309706  5.952067  999.0  1014.000  1018.30   \n",
       "MountGambier          3029.0  1017.940112  7.934820  985.1  1012.800  1018.20   \n",
       "MountGinini              0.0          NaN       NaN    NaN       NaN      NaN   \n",
       "Newcastle                0.0          NaN       NaN    NaN       NaN      NaN   \n",
       "Nhil                  1569.0  1018.546335  7.543523  986.9  1013.500  1018.50   \n",
       "NorahHead             2917.0  1018.259033  6.732356  996.5  1013.900  1018.30   \n",
       "NorfolkIsland         2956.0  1017.631360  5.510219  980.5  1014.200  1018.00   \n",
       "Nuriootpa             2995.0  1018.915793  7.154657  982.0  1014.100  1018.80   \n",
       "PearceRAAF            2744.0  1017.746902  6.311765  996.9  1013.200  1017.50   \n",
       "Penrith                  0.0          NaN       NaN    NaN       NaN      NaN   \n",
       "Perth                 3192.0  1017.784398  6.523240  996.2  1013.100  1017.40   \n",
       "PerthAirport          3007.0  1017.890323  6.429501  996.7  1013.300  1017.60   \n",
       "Portland              2984.0  1017.686260  8.091115  986.7  1012.400  1018.10   \n",
       "Richmond              2931.0  1018.705527  7.028448  997.0  1014.100  1018.80   \n",
       "Sale                  2986.0  1017.827294  8.020095  989.3  1012.700  1018.20   \n",
       "SalmonGums               0.0          NaN       NaN    NaN       NaN      NaN   \n",
       "Sydney                3317.0  1018.346156  7.021571  986.7  1013.700  1018.60   \n",
       "SydneyAirport         2997.0  1018.360594  6.979996  996.3  1013.800  1018.50   \n",
       "Townsville            3033.0  1015.173129  4.590418  994.3  1012.000  1015.60   \n",
       "Tuggeranong           2983.0  1018.521623  7.571827  992.8  1013.300  1018.40   \n",
       "Uluru                 1518.0  1017.109881  6.437819  994.6  1012.300  1017.10   \n",
       "WaggaWagga            2976.0  1018.569120  7.077536  991.5  1013.700  1018.40   \n",
       "Walpole               2817.0  1017.845651  7.099440  988.9  1013.300  1018.10   \n",
       "Watsonia              2999.0  1018.035178  7.701749  989.7  1012.950  1018.20   \n",
       "Williamtown           2543.0  1018.365906  6.579661  997.8  1014.000  1018.50   \n",
       "Witchcliffe           2819.0  1018.473643  6.701009  992.3  1014.150  1018.50   \n",
       "Wollongong            2933.0  1018.112683  7.228269  994.0  1013.400  1018.30   \n",
       "Woomera               2979.0  1018.683317  6.726681  997.5  1013.900  1018.50   \n",
       "\n",
       "                                   pressure3pm                                \\\n",
       "                       75%     max       count         mean       std    min   \n",
       "location                                                                       \n",
       "Adelaide          1023.700  1039.2      3083.0  1016.772202  7.121669  986.4   \n",
       "Albany            1023.300  1040.9      2992.0  1016.500668  7.087741  986.9   \n",
       "Albury            1023.300  1039.9      3007.0  1015.755504  7.111794  982.9   \n",
       "AliceSprings      1021.700  1034.1      3028.0  1012.884478  6.407147  995.0   \n",
       "BadgerysCreek     1023.200  1039.2      2780.0  1015.632806  7.023405  993.1   \n",
       "Ballarat          1023.000  1039.5      3004.0  1016.274967  7.449705  987.3   \n",
       "Bendigo           1023.100  1039.3      3025.0  1015.869521  7.278211  988.6   \n",
       "Brisbane          1022.000  1033.9      3159.0  1015.116714  5.490139  993.2   \n",
       "Cairns            1017.300  1024.2      2988.0  1011.103447  4.143253  992.4   \n",
       "Canberra          1024.100  1040.6      3198.0  1016.235272  7.151006  985.5   \n",
       "Cobar             1022.700  1036.6      2963.0  1015.330037  6.293080  993.8   \n",
       "CoffsHarbour      1022.325  1036.8      2687.0  1015.833122  6.107954  993.7   \n",
       "Dartmoor          1023.400  1038.9      2941.0  1016.505304  7.792334  985.2   \n",
       "Darwin            1014.400  1019.3      3190.0  1008.348370  2.909818  996.0   \n",
       "GoldCoast         1021.700  1033.5      2980.0  1015.225101  5.543619  997.6   \n",
       "Hobart            1021.600  1040.4      3187.0  1012.955130  9.825168  977.1   \n",
       "Katherine         1015.600  1022.2      1554.0  1008.531660  3.632798  996.6   \n",
       "Launceston        1022.100  1040.5      1882.0  1013.745377  8.952101  980.2   \n",
       "Melbourne         1023.075  1039.0      2432.0  1015.847451  7.641476  988.3   \n",
       "MelbourneAirport  1023.300  1039.3      3009.0  1016.279096  7.531829  988.2   \n",
       "Mildura           1023.750  1038.6      3005.0  1016.262429  6.872942  987.7   \n",
       "Moree             1022.400  1035.9      2853.0  1014.935682  5.782420  995.9   \n",
       "MountGambier      1023.300  1038.8      3025.0  1016.380595  7.713794  984.9   \n",
       "MountGinini            NaN     NaN         0.0          NaN       NaN    NaN   \n",
       "Newcastle              NaN     NaN         0.0          NaN       NaN    NaN   \n",
       "Nhil              1023.600  1038.5      1569.0  1016.401402  7.334483  982.6   \n",
       "NorahHead         1022.800  1038.4      2921.0  1016.014824  6.815338  991.6   \n",
       "NorfolkIsland     1021.500  1033.0      2962.0  1015.887576  5.353440  979.0   \n",
       "Nuriootpa         1023.800  1038.7      2994.0  1016.791316  6.944641  986.4   \n",
       "PearceRAAF        1022.200  1038.2      2738.0  1015.177575  6.071857  992.6   \n",
       "Penrith                NaN     NaN         0.0          NaN       NaN    NaN   \n",
       "Perth             1022.300  1038.8      3192.0  1015.420457  6.121600  991.9   \n",
       "PerthAirport      1022.250  1038.7      3008.0  1015.366789  6.086753  992.0   \n",
       "Portland          1023.200  1038.8      2986.0  1016.620194  7.922645  985.5   \n",
       "Richmond          1023.400  1039.1      2928.0  1015.642316  6.995061  989.0   \n",
       "Sale              1023.275  1039.2      2985.0  1015.900637  7.815878  987.1   \n",
       "SalmonGums             NaN     NaN         0.0          NaN       NaN    NaN   \n",
       "Sydney            1023.100  1039.0      3318.0  1016.018774  7.032211  989.8   \n",
       "SydneyAirport     1023.100  1038.8      3002.0  1015.969654  7.038665  989.3   \n",
       "Townsville        1018.700  1026.1      3033.0  1011.913914  4.461417  991.6   \n",
       "Tuggeranong       1023.650  1040.6      2988.0  1015.672423  7.220017  985.0   \n",
       "Uluru             1021.800  1033.4      1520.0  1013.308289  6.464604  989.2   \n",
       "WaggaWagga        1023.300  1039.6      2976.0  1015.919724  6.907423  984.2   \n",
       "Walpole           1022.700  1040.4      2817.0  1016.189776  6.905890  985.1   \n",
       "Watsonia          1023.200  1039.2      2999.0  1016.093031  7.515305  988.3   \n",
       "Williamtown       1022.900  1038.7      2544.0  1015.842138  6.625788  992.8   \n",
       "Witchcliffe       1022.900  1041.0      2820.0  1016.804220  6.374450  987.8   \n",
       "Wollongong        1023.100  1039.2      2964.0  1016.023077  7.196256  987.4   \n",
       "Woomera           1023.400  1038.6      2976.0  1016.019926  6.558306  992.3   \n",
       "\n",
       "                                                       \n",
       "                       25%      50%       75%     max  \n",
       "location                                               \n",
       "Adelaide          1011.900  1016.80  1021.500  1036.8  \n",
       "Albany            1012.000  1016.60  1021.400  1038.2  \n",
       "Albury            1010.700  1015.60  1020.500  1036.1  \n",
       "AliceSprings      1007.900  1012.70  1017.800  1029.2  \n",
       "BadgerysCreek     1010.800  1015.80  1020.400  1036.8  \n",
       "Ballarat          1011.400  1016.35  1021.300  1036.3  \n",
       "Bendigo           1011.100  1015.90  1020.700  1036.3  \n",
       "Brisbane          1011.500  1015.20  1018.800  1031.5  \n",
       "Cairns            1008.400  1011.55  1014.200  1021.9  \n",
       "Canberra          1011.400  1016.10  1021.075  1037.9  \n",
       "Cobar             1010.700  1015.20  1019.800  1033.3  \n",
       "CoffsHarbour      1011.900  1015.90  1019.900  1035.0  \n",
       "Dartmoor          1011.400  1016.90  1021.900  1036.9  \n",
       "Darwin            1006.400  1008.60  1010.500  1015.4  \n",
       "GoldCoast         1011.500  1015.35  1019.000  1031.8  \n",
       "Hobart            1006.700  1013.90  1019.900  1038.9  \n",
       "Katherine         1005.900  1008.60  1011.200  1017.2  \n",
       "Launceston        1008.100  1014.30  1019.900  1039.6  \n",
       "Melbourne         1010.800  1016.30  1021.100  1035.8  \n",
       "MelbourneAirport  1011.300  1016.70  1021.400  1036.0  \n",
       "Mildura           1011.600  1016.20  1020.900  1036.0  \n",
       "Moree             1010.900  1014.90  1018.900  1032.3  \n",
       "MountGambier      1011.300  1016.60  1021.700  1036.9  \n",
       "MountGinini            NaN      NaN       NaN     NaN  \n",
       "Newcastle              NaN      NaN       NaN     NaN  \n",
       "Nhil              1011.500  1016.40  1021.300  1036.3  \n",
       "NorahHead         1011.500  1016.20  1020.600  1035.9  \n",
       "NorfolkIsland     1012.600  1016.20  1019.600  1030.6  \n",
       "Nuriootpa         1012.200  1016.70  1021.375  1036.4  \n",
       "PearceRAAF        1010.700  1014.90  1019.500  1033.8  \n",
       "Penrith                NaN      NaN       NaN     NaN  \n",
       "Perth             1011.000  1015.10  1019.700  1034.3  \n",
       "PerthAirport      1011.000  1015.10  1019.600  1034.2  \n",
       "Portland          1011.500  1017.10  1022.000  1037.3  \n",
       "Richmond          1010.900  1015.70  1020.400  1036.8  \n",
       "Sale              1010.700  1016.20  1021.300  1036.9  \n",
       "SalmonGums             NaN      NaN       NaN     NaN  \n",
       "Sydney            1011.300  1016.30  1020.800  1036.7  \n",
       "SydneyAirport     1011.225  1016.10  1020.700  1037.0  \n",
       "Townsville        1009.000  1012.30  1015.200  1023.3  \n",
       "Tuggeranong       1010.800  1015.40  1020.600  1037.7  \n",
       "Uluru             1008.500  1013.20  1017.800  1029.8  \n",
       "WaggaWagga        1011.100  1015.80  1020.600  1036.2  \n",
       "Walpole           1011.800  1016.30  1021.000  1037.7  \n",
       "Watsonia          1011.100  1016.50  1021.200  1035.8  \n",
       "Williamtown       1011.500  1016.00  1020.300  1035.9  \n",
       "Witchcliffe       1012.700  1016.70  1021.100  1037.0  \n",
       "Wollongong        1011.200  1016.30  1020.900  1037.8  \n",
       "Woomera           1011.300  1015.80  1020.500  1035.9  "
      ]
     },
     "execution_count": 15,
     "metadata": {},
     "output_type": "execute_result"
    }
   ],
   "source": [
    "rain.groupby(by= 'location')[['pressure9am', 'pressure3pm']].describe()"
   ]
  },
  {
   "cell_type": "markdown",
   "metadata": {},
   "source": [
    "Grouping by location we can see that some cities do not record the values of these features. Despite the possible relevance of these features, we decided to drop the columns to make a baseline and later we will check these columns. We chose to drop the columns instead of the rows because by dropping the rows we could lose all values for those cities."
   ]
  },
  {
   "cell_type": "code",
   "execution_count": 16,
   "metadata": {},
   "outputs": [],
   "source": [
    "rain = rain.drop(['pressure9am','pressure3pm'], axis=1)"
   ]
  },
  {
   "cell_type": "markdown",
   "metadata": {},
   "source": [
    "Now let's drop the rows that contain missing values"
   ]
  },
  {
   "cell_type": "code",
   "execution_count": 17,
   "metadata": {},
   "outputs": [],
   "source": [
    "rain = rain.dropna()"
   ]
  },
  {
   "cell_type": "code",
   "execution_count": 18,
   "metadata": {},
   "outputs": [
    {
     "data": {
      "text/plain": [
       "(136489, 17)"
      ]
     },
     "execution_count": 18,
     "metadata": {},
     "output_type": "execute_result"
    }
   ],
   "source": [
    "rain.shape"
   ]
  },
  {
   "cell_type": "markdown",
   "metadata": {},
   "source": [
    "Let's check if there are still any missing values"
   ]
  },
  {
   "cell_type": "code",
   "execution_count": 19,
   "metadata": {},
   "outputs": [
    {
     "name": "stdout",
     "output_type": "stream",
     "text": [
      "<class 'pandas.core.frame.DataFrame'>\n",
      "Int64Index: 136489 entries, 0 to 142192\n",
      "Data columns (total 17 columns):\n",
      " #   Column            Non-Null Count   Dtype  \n",
      "---  ------            --------------   -----  \n",
      " 0   date              136489 non-null  object \n",
      " 1   location          136489 non-null  object \n",
      " 2   mintemp           136489 non-null  float64\n",
      " 3   maxtemp           136489 non-null  float64\n",
      " 4   rainfall          136489 non-null  float64\n",
      " 5   humidity9am       136489 non-null  float64\n",
      " 6   humidity3pm       136489 non-null  float64\n",
      " 7   temp9am           136489 non-null  float64\n",
      " 8   temp3pm           136489 non-null  float64\n",
      " 9   raintoday         136489 non-null  object \n",
      " 10  amountOfRain      136489 non-null  float64\n",
      " 11  raintomorrow      136489 non-null  object \n",
      " 12  temp              136489 non-null  float64\n",
      " 13  humidity          136489 non-null  float64\n",
      " 14  precipitation3pm  136489 non-null  int64  \n",
      " 15  precipitation9am  136489 non-null  float64\n",
      " 16  modelo_vigente    136489 non-null  float64\n",
      "dtypes: float64(12), int64(1), object(4)\n",
      "memory usage: 18.7+ MB\n"
     ]
    }
   ],
   "source": [
    "rain.info()"
   ]
  },
  {
   "cell_type": "markdown",
   "metadata": {},
   "source": [
    "## Treating object columns"
   ]
  },
  {
   "cell_type": "code",
   "execution_count": 20,
   "metadata": {},
   "outputs": [
    {
     "data": {
      "text/plain": [
       "Index(['date', 'location', 'raintoday', 'raintomorrow'], dtype='object')"
      ]
     },
     "execution_count": 20,
     "metadata": {},
     "output_type": "execute_result"
    }
   ],
   "source": [
    "rain.select_dtypes(include='object').columns"
   ]
  },
  {
   "cell_type": "markdown",
   "metadata": {},
   "source": [
    "Transform date into datetime values"
   ]
  },
  {
   "cell_type": "code",
   "execution_count": 21,
   "metadata": {},
   "outputs": [],
   "source": [
    "rain['date'] = pd.to_datetime(rain.date)"
   ]
  },
  {
   "cell_type": "markdown",
   "metadata": {},
   "source": [
    "Transform binary values of 'raintoday' and 'raintomorrow' into 0 and 1"
   ]
  },
  {
   "cell_type": "code",
   "execution_count": 22,
   "metadata": {},
   "outputs": [],
   "source": [
    "rain['raintoday'] = rain.raintoday.apply(lambda x: 0 if x == 'No' else 1)"
   ]
  },
  {
   "cell_type": "code",
   "execution_count": 23,
   "metadata": {},
   "outputs": [],
   "source": [
    "rain['raintomorrow'] = rain.raintomorrow.apply(lambda x: 0 if x == 'No' else 1)"
   ]
  },
  {
   "cell_type": "code",
   "execution_count": 24,
   "metadata": {},
   "outputs": [
    {
     "name": "stdout",
     "output_type": "stream",
     "text": [
      "<class 'pandas.core.frame.DataFrame'>\n",
      "Int64Index: 136489 entries, 0 to 142192\n",
      "Data columns (total 17 columns):\n",
      " #   Column            Non-Null Count   Dtype         \n",
      "---  ------            --------------   -----         \n",
      " 0   date              136489 non-null  datetime64[ns]\n",
      " 1   location          136489 non-null  object        \n",
      " 2   mintemp           136489 non-null  float64       \n",
      " 3   maxtemp           136489 non-null  float64       \n",
      " 4   rainfall          136489 non-null  float64       \n",
      " 5   humidity9am       136489 non-null  float64       \n",
      " 6   humidity3pm       136489 non-null  float64       \n",
      " 7   temp9am           136489 non-null  float64       \n",
      " 8   temp3pm           136489 non-null  float64       \n",
      " 9   raintoday         136489 non-null  int64         \n",
      " 10  amountOfRain      136489 non-null  float64       \n",
      " 11  raintomorrow      136489 non-null  int64         \n",
      " 12  temp              136489 non-null  float64       \n",
      " 13  humidity          136489 non-null  float64       \n",
      " 14  precipitation3pm  136489 non-null  int64         \n",
      " 15  precipitation9am  136489 non-null  float64       \n",
      " 16  modelo_vigente    136489 non-null  float64       \n",
      "dtypes: datetime64[ns](1), float64(12), int64(3), object(1)\n",
      "memory usage: 18.7+ MB\n"
     ]
    }
   ],
   "source": [
    "rain.info()"
   ]
  },
  {
   "cell_type": "markdown",
   "metadata": {},
   "source": [
    "Location columns:"
   ]
  },
  {
   "cell_type": "code",
   "execution_count": 25,
   "metadata": {},
   "outputs": [
    {
     "data": {
      "text/plain": [
       "Canberra            3328\n",
       "Sydney              3308\n",
       "Darwin              3188\n",
       "Perth               3180\n",
       "Hobart              3164\n",
       "Brisbane            3120\n",
       "Townsville          3026\n",
       "Bendigo             3022\n",
       "AliceSprings        3018\n",
       "Adelaide            3012\n",
       "PerthAirport        3008\n",
       "Launceston          3006\n",
       "MountGambier        3005\n",
       "Mildura             3000\n",
       "MelbourneAirport    2999\n",
       "SydneyAirport       2997\n",
       "Ballarat            2993\n",
       "Albury              2981\n",
       "Watsonia            2972\n",
       "Sale                2967\n",
       "Cairns              2963\n",
       "Nuriootpa           2962\n",
       "WaggaWagga          2955\n",
       "Woomera             2950\n",
       "Tuggeranong         2943\n",
       "NorfolkIsland       2937\n",
       "SalmonGums          2934\n",
       "Wollongong          2926\n",
       "Portland            2919\n",
       "CoffsHarbour        2917\n",
       "GoldCoast           2913\n",
       "NorahHead           2875\n",
       "Richmond            2863\n",
       "Cobar               2860\n",
       "Penrith             2844\n",
       "BadgerysCreek       2842\n",
       "Moree               2783\n",
       "Dartmoor            2770\n",
       "Walpole             2726\n",
       "Witchcliffe         2678\n",
       "PearceRAAF          2597\n",
       "MountGinini         2408\n",
       "Williamtown         2364\n",
       "Albany              2297\n",
       "Melbourne           2291\n",
       "Newcastle           1903\n",
       "Nhil                1565\n",
       "Uluru               1501\n",
       "Katherine            709\n",
       "Name: location, dtype: int64"
      ]
     },
     "execution_count": 25,
     "metadata": {},
     "output_type": "execute_result"
    }
   ],
   "source": [
    "rain['location'].value_counts()"
   ]
  },
  {
   "cell_type": "markdown",
   "metadata": {},
   "source": [
    "We will deal with the 'location' column later"
   ]
  },
  {
   "cell_type": "markdown",
   "metadata": {},
   "source": [
    "## Baseline Model"
   ]
  },
  {
   "cell_type": "markdown",
   "metadata": {},
   "source": [
    "### Logistic Regression Model"
   ]
  },
  {
   "cell_type": "markdown",
   "metadata": {},
   "source": [
    "We decided to make a baseline first with all the columns and applying a logistic regression."
   ]
  },
  {
   "cell_type": "code",
   "execution_count": 26,
   "metadata": {},
   "outputs": [],
   "source": [
    "model = LogisticRegression(n_jobs= -1)"
   ]
  },
  {
   "cell_type": "markdown",
   "metadata": {},
   "source": [
    "### Divide Train X Test"
   ]
  },
  {
   "cell_type": "code",
   "execution_count": 27,
   "metadata": {},
   "outputs": [],
   "source": [
    "y = rain['raintomorrow']"
   ]
  },
  {
   "cell_type": "code",
   "execution_count": 28,
   "metadata": {},
   "outputs": [],
   "source": [
    "X = rain[['mintemp', 'maxtemp', 'rainfall', 'humidity9am',\n",
    "       'humidity3pm', 'temp9am', 'temp3pm', 'amountOfRain',\n",
    "       'temp', 'humidity', 'precipitation3pm', 'precipitation9am']]"
   ]
  },
  {
   "cell_type": "code",
   "execution_count": 29,
   "metadata": {},
   "outputs": [],
   "source": [
    "X_train, X_test, y_train, y_test = train_test_split(X, y, \n",
    "                                                    test_size = 0.2, \n",
    "                                                    random_state = 42)"
   ]
  },
  {
   "cell_type": "markdown",
   "metadata": {},
   "source": [
    "### Training Model"
   ]
  },
  {
   "cell_type": "code",
   "execution_count": 30,
   "metadata": {},
   "outputs": [
    {
     "data": {
      "text/plain": [
       "LogisticRegression(C=1.0, class_weight=None, dual=False, fit_intercept=True,\n",
       "                   intercept_scaling=1, l1_ratio=None, max_iter=100,\n",
       "                   multi_class='auto', n_jobs=-1, penalty='l2',\n",
       "                   random_state=None, solver='lbfgs', tol=0.0001, verbose=0,\n",
       "                   warm_start=False)"
      ]
     },
     "execution_count": 30,
     "metadata": {},
     "output_type": "execute_result"
    }
   ],
   "source": [
    "model.fit(X_train, y_train)"
   ]
  },
  {
   "cell_type": "code",
   "execution_count": 31,
   "metadata": {},
   "outputs": [
    {
     "data": {
      "text/plain": [
       "array([0, 0, 0, ..., 0, 0, 0], dtype=int64)"
      ]
     },
     "execution_count": 31,
     "metadata": {},
     "output_type": "execute_result"
    }
   ],
   "source": [
    "model.predict(X_train)"
   ]
  },
  {
   "cell_type": "code",
   "execution_count": 32,
   "metadata": {},
   "outputs": [
    {
     "data": {
      "text/plain": [
       "array([0, 0, 0, ..., 1, 0, 0], dtype=int64)"
      ]
     },
     "execution_count": 32,
     "metadata": {},
     "output_type": "execute_result"
    }
   ],
   "source": [
    "model.predict(X_test)"
   ]
  },
  {
   "cell_type": "code",
   "execution_count": 33,
   "metadata": {},
   "outputs": [
    {
     "data": {
      "text/plain": [
       "array([[1.00000000e+00, 2.57870406e-10],\n",
       "       [9.99999998e-01, 1.92534962e-09],\n",
       "       [9.99999985e-01, 1.48931038e-08],\n",
       "       ...,\n",
       "       [0.00000000e+00, 1.00000000e+00],\n",
       "       [9.99982352e-01, 1.76479925e-05],\n",
       "       [9.99999997e-01, 3.20151321e-09]])"
      ]
     },
     "execution_count": 33,
     "metadata": {},
     "output_type": "execute_result"
    }
   ],
   "source": [
    "model.predict_proba(X_test)"
   ]
  },
  {
   "cell_type": "markdown",
   "metadata": {},
   "source": [
    "### Accuracy Score"
   ]
  },
  {
   "cell_type": "code",
   "execution_count": 34,
   "metadata": {},
   "outputs": [
    {
     "data": {
      "text/plain": [
       "0.9959704007619605"
      ]
     },
     "execution_count": 34,
     "metadata": {},
     "output_type": "execute_result"
    }
   ],
   "source": [
    "baseline_score = model.score(X_test, y_test)\n",
    "baseline_score"
   ]
  },
  {
   "cell_type": "code",
   "execution_count": 35,
   "metadata": {},
   "outputs": [
    {
     "data": {
      "text/plain": [
       "0.9956864576750831"
      ]
     },
     "execution_count": 35,
     "metadata": {},
     "output_type": "execute_result"
    }
   ],
   "source": [
    "model.score(X_train, y_train)"
   ]
  },
  {
   "cell_type": "markdown",
   "metadata": {},
   "source": [
    "The score is too high! What's happening? Let's explore:"
   ]
  },
  {
   "cell_type": "code",
   "execution_count": 36,
   "metadata": {},
   "outputs": [
    {
     "data": {
      "text/plain": [
       "<matplotlib.axes._subplots.AxesSubplot at 0x175b0c306c8>"
      ]
     },
     "execution_count": 36,
     "metadata": {},
     "output_type": "execute_result"
    },
    {
     "data": {
      "image/png": "[encoded data removed]",
      "text/plain": [
       "<Figure size 576x396 with 1 Axes>"
      ]
     },
     "metadata": {},
     "output_type": "display_data"
    }
   ],
   "source": [
    "sns.countplot(rain['raintomorrow'])"
   ]
  },
  {
   "cell_type": "markdown",
   "metadata": {},
   "source": [
    "### Confusion Matrix"
   ]
  },
  {
   "cell_type": "code",
   "execution_count": 37,
   "metadata": {},
   "outputs": [
    {
     "data": {
      "text/plain": [
       "array([[21249,    46],\n",
       "       [   64,  5939]], dtype=int64)"
      ]
     },
     "execution_count": 37,
     "metadata": {},
     "output_type": "execute_result"
    }
   ],
   "source": [
    "confusion_matrix(y_test, model.predict(X_test))"
   ]
  },
  {
   "cell_type": "code",
   "execution_count": 38,
   "metadata": {},
   "outputs": [
    {
     "data": {
      "text/plain": [
       "<sklearn.metrics._plot.confusion_matrix.ConfusionMatrixDisplay at 0x175b0c67c08>"
      ]
     },
     "execution_count": 38,
     "metadata": {},
     "output_type": "execute_result"
    },
    {
     "data": {
      "image/png": "[encoded data removed]",
      "text/plain": [
       "<Figure size 576x396 with 2 Axes>"
      ]
     },
     "metadata": {},
     "output_type": "display_data"
    }
   ],
   "source": [
    "plot_confusion_matrix(model, X_test, y_test, values_format='.0f')"
   ]
  },
  {
   "cell_type": "markdown",
   "metadata": {},
   "source": [
    "Recall X Precision"
   ]
  },
  {
   "cell_type": "code",
   "execution_count": 39,
   "metadata": {},
   "outputs": [
    {
     "data": {
      "text/plain": [
       "0.9923141186299081"
      ]
     },
     "execution_count": 39,
     "metadata": {},
     "output_type": "execute_result"
    }
   ],
   "source": [
    "baseline_precision = precision_score(y_test, model.predict(X_test))\n",
    "baseline_precision"
   ]
  },
  {
   "cell_type": "code",
   "execution_count": 40,
   "metadata": {},
   "outputs": [
    {
     "data": {
      "text/plain": [
       "0.9893386640013326"
      ]
     },
     "execution_count": 40,
     "metadata": {},
     "output_type": "execute_result"
    }
   ],
   "source": [
    "baseline_recall = recall_score(y_test, model.predict(X_test))\n",
    "baseline_recall"
   ]
  },
  {
   "cell_type": "markdown",
   "metadata": {},
   "source": [
    "Roc Curve"
   ]
  },
  {
   "cell_type": "code",
   "execution_count": 41,
   "metadata": {},
   "outputs": [
    {
     "data": {
      "image/png": "[encoded data removed]",
      "text/plain": [
       "<Figure size 576x396 with 1 Axes>"
      ]
     },
     "metadata": {},
     "output_type": "display_data"
    }
   ],
   "source": [
    "plot_roc_curve(model, X_test, y_test);"
   ]
  },
  {
   "cell_type": "markdown",
   "metadata": {},
   "source": [
    "The AUC is also too high"
   ]
  },
  {
   "cell_type": "markdown",
   "metadata": {},
   "source": [
    "### Investigating further"
   ]
  },
  {
   "cell_type": "code",
   "execution_count": 42,
   "metadata": {},
   "outputs": [
    {
     "data": {
      "text/plain": [
       "Index(['mintemp', 'maxtemp', 'rainfall', 'humidity9am', 'humidity3pm',\n",
       "       'temp9am', 'temp3pm', 'amountOfRain', 'temp', 'humidity',\n",
       "       'precipitation3pm', 'precipitation9am'],\n",
       "      dtype='object')"
      ]
     },
     "execution_count": 42,
     "metadata": {},
     "output_type": "execute_result"
    }
   ],
   "source": [
    "X_test.columns"
   ]
  },
  {
   "cell_type": "markdown",
   "metadata": {},
   "source": [
    "Importância de cada variável usada no modelo:"
   ]
  },
  {
   "cell_type": "code",
   "execution_count": 43,
   "metadata": {},
   "outputs": [
    {
     "data": {
      "text/plain": [
       "[('mintemp', 0.3550370996389116),\n",
       " ('maxtemp', -0.3466592631598441),\n",
       " ('rainfall', 0.009116481706666613),\n",
       " ('humidity9am', -0.06909502437812896),\n",
       " ('humidity3pm', -0.05872191950488647),\n",
       " ('temp9am', -0.1724352501822587),\n",
       " ('temp3pm', 0.0062879944974473315),\n",
       " ('amountOfRain', 17.23015145462481),\n",
       " ('temp', -3.828696433501224e-05),\n",
       " ('humidity', -0.0024619580833508464),\n",
       " ('precipitation3pm', -0.24535394918662684),\n",
       " ('precipitation9am', -0.08127572691255971)]"
      ]
     },
     "execution_count": 43,
     "metadata": {},
     "output_type": "execute_result"
    }
   ],
   "source": [
    "list(zip(list(X.columns), list(model.coef_[0])))"
   ]
  },
  {
   "cell_type": "markdown",
   "metadata": {},
   "source": [
    "The feature 'amountOfRain' explains basically by itself the target 'raintomorrow'. We are leaking the data about tomorrow. In \"real life\" we woudn't have the column \"RainTomorrow\" if we wanted to predict if it's going to rain tomorrow."
   ]
  },
  {
   "cell_type": "markdown",
   "metadata": {},
   "source": [
    "## Scores DataFrame"
   ]
  },
  {
   "cell_type": "markdown",
   "metadata": {},
   "source": [
    "Let's create a DataFrame to store every scores we get by testing some models"
   ]
  },
  {
   "cell_type": "code",
   "execution_count": 44,
   "metadata": {},
   "outputs": [],
   "source": [
    "def scores(Column, score, precision, recall):\n",
    "    '''\n",
    "    Append a new colum of scores into a dataframe of scores, use it to compare your models.\n",
    "    \n",
    "    Columns: Name of the columns/model\n",
    "    score: Accuracy score\n",
    "    precision: Precision Score\n",
    "    recall: Recall Score\n",
    "    '''\n",
    "    \n",
    "    df = pd.DataFrame({Column : [score,precision,recall]}, index=['SCORE', 'PRECISION', 'RECALL'])\n",
    "    x = pd.concat([rain_scores, df], axis = 1)\n",
    "    return x"
   ]
  },
  {
   "cell_type": "markdown",
   "metadata": {},
   "source": [
    "### Storing Baseline Scores"
   ]
  },
  {
   "cell_type": "code",
   "execution_count": 45,
   "metadata": {},
   "outputs": [
    {
     "data": {
      "text/html": [
       "<div>\n",
       "<style scoped>\n",
       "    .dataframe tbody tr th:only-of-type {\n",
       "        vertical-align: middle;\n",
       "    }\n",
       "\n",
       "    .dataframe tbody tr th {\n",
       "        vertical-align: top;\n",
       "    }\n",
       "\n",
       "    .dataframe thead th {\n",
       "        text-align: right;\n",
       "    }\n",
       "</style>\n",
       "<table border=\"1\" class=\"dataframe\">\n",
       "  <thead>\n",
       "    <tr style=\"text-align: right;\">\n",
       "      <th></th>\n",
       "      <th>Baseline (Log. Regression)</th>\n",
       "    </tr>\n",
       "  </thead>\n",
       "  <tbody>\n",
       "    <tr>\n",
       "      <th>SCORE</th>\n",
       "      <td>0.995970</td>\n",
       "    </tr>\n",
       "    <tr>\n",
       "      <th>PRECISION</th>\n",
       "      <td>0.992314</td>\n",
       "    </tr>\n",
       "    <tr>\n",
       "      <th>RECALL</th>\n",
       "      <td>0.989339</td>\n",
       "    </tr>\n",
       "  </tbody>\n",
       "</table>\n",
       "</div>"
      ],
      "text/plain": [
       "           Baseline (Log. Regression)\n",
       "SCORE                        0.995970\n",
       "PRECISION                    0.992314\n",
       "RECALL                       0.989339"
      ]
     },
     "execution_count": 45,
     "metadata": {},
     "output_type": "execute_result"
    }
   ],
   "source": [
    "rain_scores = pd.DataFrame({'Baseline (Log. Regression)' : [baseline_score,baseline_precision, baseline_recall]}, index=['SCORE', 'PRECISION', 'RECALL'])\n",
    "rain_scores"
   ]
  },
  {
   "cell_type": "markdown",
   "metadata": {},
   "source": [
    "## Standardize Data"
   ]
  },
  {
   "cell_type": "code",
   "execution_count": 46,
   "metadata": {},
   "outputs": [],
   "source": [
    "from sklearn.preprocessing import StandardScaler"
   ]
  },
  {
   "cell_type": "code",
   "execution_count": 47,
   "metadata": {},
   "outputs": [],
   "source": [
    "scaler = StandardScaler()"
   ]
  },
  {
   "cell_type": "code",
   "execution_count": 48,
   "metadata": {},
   "outputs": [],
   "source": [
    "X_std = scaler.fit_transform(X)"
   ]
  },
  {
   "cell_type": "code",
   "execution_count": 49,
   "metadata": {},
   "outputs": [],
   "source": [
    "X_std = pd.DataFrame(X_std, columns=X.columns)"
   ]
  },
  {
   "cell_type": "markdown",
   "metadata": {},
   "source": [
    "# Baseline Model 2"
   ]
  },
  {
   "cell_type": "markdown",
   "metadata": {},
   "source": [
    "## Logistic Regression Model Without 'amountOfRain'"
   ]
  },
  {
   "cell_type": "code",
   "execution_count": 50,
   "metadata": {},
   "outputs": [],
   "source": [
    "y = rain['raintomorrow']"
   ]
  },
  {
   "cell_type": "code",
   "execution_count": 51,
   "metadata": {},
   "outputs": [],
   "source": [
    "X_2 = X_std[['humidity9am', 'humidity3pm', 'temp9am', 'rainfall',\n",
    "             'temp3pm', 'precipitation3pm', 'precipitation9am']]"
   ]
  },
  {
   "cell_type": "code",
   "execution_count": 52,
   "metadata": {},
   "outputs": [],
   "source": [
    "X_train, X_test, y_train, y_test = train_test_split(X_2, y, \n",
    "                                                    test_size = 0.2, \n",
    "                                                    random_state = 42)"
   ]
  },
  {
   "cell_type": "code",
   "execution_count": 53,
   "metadata": {},
   "outputs": [
    {
     "data": {
      "text/plain": [
       "LogisticRegression(C=1.0, class_weight=None, dual=False, fit_intercept=True,\n",
       "                   intercept_scaling=1, l1_ratio=None, max_iter=100,\n",
       "                   multi_class='auto', n_jobs=-1, penalty='l2',\n",
       "                   random_state=None, solver='lbfgs', tol=0.0001, verbose=0,\n",
       "                   warm_start=False)"
      ]
     },
     "execution_count": 53,
     "metadata": {},
     "output_type": "execute_result"
    }
   ],
   "source": [
    "model.fit(X_train, y_train)"
   ]
  },
  {
   "cell_type": "code",
   "execution_count": 54,
   "metadata": {},
   "outputs": [
    {
     "data": {
      "text/plain": [
       "array([0, 0, 0, ..., 0, 1, 0], dtype=int64)"
      ]
     },
     "execution_count": 54,
     "metadata": {},
     "output_type": "execute_result"
    }
   ],
   "source": [
    "model.predict(X_train)"
   ]
  },
  {
   "cell_type": "code",
   "execution_count": 55,
   "metadata": {},
   "outputs": [
    {
     "data": {
      "text/plain": [
       "array([0, 0, 0, ..., 0, 0, 0], dtype=int64)"
      ]
     },
     "execution_count": 55,
     "metadata": {},
     "output_type": "execute_result"
    }
   ],
   "source": [
    "model.predict(X_test)"
   ]
  },
  {
   "cell_type": "code",
   "execution_count": 56,
   "metadata": {},
   "outputs": [
    {
     "data": {
      "text/plain": [
       "array([[0.93495853, 0.06504147],\n",
       "       [0.77049493, 0.22950507],\n",
       "       [0.98047341, 0.01952659],\n",
       "       ...,\n",
       "       [0.69695575, 0.30304425],\n",
       "       [0.50074457, 0.49925543],\n",
       "       [0.96810529, 0.03189471]])"
      ]
     },
     "execution_count": 56,
     "metadata": {},
     "output_type": "execute_result"
    }
   ],
   "source": [
    "model.predict_proba(X_test)"
   ]
  },
  {
   "cell_type": "code",
   "execution_count": 57,
   "metadata": {},
   "outputs": [
    {
     "data": {
      "text/plain": [
       "0.8344201040369258"
      ]
     },
     "execution_count": 57,
     "metadata": {},
     "output_type": "execute_result"
    }
   ],
   "source": [
    "baseline2_score = model.score(X_test, y_test)\n",
    "baseline2_score"
   ]
  },
  {
   "cell_type": "code",
   "execution_count": 58,
   "metadata": {},
   "outputs": [
    {
     "data": {
      "text/plain": [
       "0.8328433662115009"
      ]
     },
     "execution_count": 58,
     "metadata": {},
     "output_type": "execute_result"
    }
   ],
   "source": [
    "model.score(X_train, y_train)"
   ]
  },
  {
   "cell_type": "markdown",
   "metadata": {},
   "source": [
    "Without the \"amountOfRain\" feature we got a more realistic score."
   ]
  },
  {
   "cell_type": "markdown",
   "metadata": {},
   "source": [
    "### Confusion Matrix"
   ]
  },
  {
   "cell_type": "code",
   "execution_count": 59,
   "metadata": {},
   "outputs": [
    {
     "data": {
      "text/plain": [
       "array([[20456,   839],\n",
       "       [ 3681,  2322]], dtype=int64)"
      ]
     },
     "execution_count": 59,
     "metadata": {},
     "output_type": "execute_result"
    }
   ],
   "source": [
    "confusion_matrix(y_test, model.predict(X_test))"
   ]
  },
  {
   "cell_type": "code",
   "execution_count": 60,
   "metadata": {},
   "outputs": [
    {
     "data": {
      "text/plain": [
       "<sklearn.metrics._plot.confusion_matrix.ConfusionMatrixDisplay at 0x175b1b6bc88>"
      ]
     },
     "execution_count": 60,
     "metadata": {},
     "output_type": "execute_result"
    },
    {
     "data": {
      "image/png": "[encoded data removed]",
      "text/plain": [
       "<Figure size 576x396 with 2 Axes>"
      ]
     },
     "metadata": {},
     "output_type": "display_data"
    }
   ],
   "source": [
    "plot_confusion_matrix(model, X_test, y_test, values_format='.0f')"
   ]
  },
  {
   "cell_type": "markdown",
   "metadata": {},
   "source": [
    "### Precision X Recall"
   ]
  },
  {
   "cell_type": "markdown",
   "metadata": {},
   "source": [
    "Precision:"
   ]
  },
  {
   "cell_type": "code",
   "execution_count": 61,
   "metadata": {},
   "outputs": [
    {
     "data": {
      "text/plain": [
       "0.7345776652957925"
      ]
     },
     "execution_count": 61,
     "metadata": {},
     "output_type": "execute_result"
    }
   ],
   "source": [
    "precision2_score = precision_score(y_test, model.predict(X_test))\n",
    "precision2_score"
   ]
  },
  {
   "cell_type": "markdown",
   "metadata": {},
   "source": [
    "Recall:"
   ]
  },
  {
   "cell_type": "code",
   "execution_count": 62,
   "metadata": {},
   "outputs": [
    {
     "data": {
      "text/plain": [
       "0.3868065967016492"
      ]
     },
     "execution_count": 62,
     "metadata": {},
     "output_type": "execute_result"
    }
   ],
   "source": [
    "recall2_score = recall_score(y_test, model.predict(X_test))\n",
    "recall2_score"
   ]
  },
  {
   "cell_type": "code",
   "execution_count": 63,
   "metadata": {},
   "outputs": [
    {
     "data": {
      "text/plain": [
       "<sklearn.metrics._plot.roc_curve.RocCurveDisplay at 0x175b1766948>"
      ]
     },
     "execution_count": 63,
     "metadata": {},
     "output_type": "execute_result"
    },
    {
     "data": {
      "image/png": "[encoded data removed]",
      "text/plain": [
       "<Figure size 576x396 with 1 Axes>"
      ]
     },
     "metadata": {},
     "output_type": "display_data"
    }
   ],
   "source": [
    "plot_roc_curve(model, X_test, y_test)"
   ]
  },
  {
   "cell_type": "code",
   "execution_count": 64,
   "metadata": {},
   "outputs": [
    {
     "data": {
      "text/plain": [
       "[('humidity9am', 0.02222601624887074),\n",
       " ('humidity3pm', 1.2155828731665648),\n",
       " ('temp9am', 0.35699563485172137),\n",
       " ('rainfall', 0.3227663896182043),\n",
       " ('temp3pm', -0.26656427666405264),\n",
       " ('precipitation3pm', 0.017384867001949942),\n",
       " ('precipitation9am', -0.01848696242245492)]"
      ]
     },
     "execution_count": 64,
     "metadata": {},
     "output_type": "execute_result"
    }
   ],
   "source": [
    "list(zip(list(X_2.columns), list(model.coef_[0])))"
   ]
  },
  {
   "cell_type": "code",
   "execution_count": 65,
   "metadata": {},
   "outputs": [
    {
     "data": {
      "text/html": [
       "<div>\n",
       "<style scoped>\n",
       "    .dataframe tbody tr th:only-of-type {\n",
       "        vertical-align: middle;\n",
       "    }\n",
       "\n",
       "    .dataframe tbody tr th {\n",
       "        vertical-align: top;\n",
       "    }\n",
       "\n",
       "    .dataframe thead th {\n",
       "        text-align: right;\n",
       "    }\n",
       "</style>\n",
       "<table border=\"1\" class=\"dataframe\">\n",
       "  <thead>\n",
       "    <tr style=\"text-align: right;\">\n",
       "      <th></th>\n",
       "      <th>date</th>\n",
       "      <th>location</th>\n",
       "      <th>mintemp</th>\n",
       "      <th>maxtemp</th>\n",
       "      <th>rainfall</th>\n",
       "      <th>humidity9am</th>\n",
       "      <th>humidity3pm</th>\n",
       "      <th>temp9am</th>\n",
       "      <th>temp3pm</th>\n",
       "      <th>raintoday</th>\n",
       "      <th>amountOfRain</th>\n",
       "      <th>raintomorrow</th>\n",
       "      <th>temp</th>\n",
       "      <th>humidity</th>\n",
       "      <th>precipitation3pm</th>\n",
       "      <th>precipitation9am</th>\n",
       "      <th>modelo_vigente</th>\n",
       "    </tr>\n",
       "  </thead>\n",
       "  <tbody>\n",
       "    <tr>\n",
       "      <th>0</th>\n",
       "      <td>2008-12-01</td>\n",
       "      <td>Albury</td>\n",
       "      <td>13.4</td>\n",
       "      <td>22.9</td>\n",
       "      <td>0.6</td>\n",
       "      <td>71.0</td>\n",
       "      <td>22.0</td>\n",
       "      <td>16.9</td>\n",
       "      <td>21.8</td>\n",
       "      <td>0</td>\n",
       "      <td>0.0</td>\n",
       "      <td>0</td>\n",
       "      <td>29.48</td>\n",
       "      <td>28.400000</td>\n",
       "      <td>12</td>\n",
       "      <td>5.115360</td>\n",
       "      <td>0.089825</td>\n",
       "    </tr>\n",
       "    <tr>\n",
       "      <th>1</th>\n",
       "      <td>2008-12-02</td>\n",
       "      <td>Albury</td>\n",
       "      <td>7.4</td>\n",
       "      <td>25.1</td>\n",
       "      <td>0.0</td>\n",
       "      <td>44.0</td>\n",
       "      <td>25.0</td>\n",
       "      <td>17.2</td>\n",
       "      <td>24.3</td>\n",
       "      <td>0</td>\n",
       "      <td>0.0</td>\n",
       "      <td>0</td>\n",
       "      <td>32.12</td>\n",
       "      <td>2.208569</td>\n",
       "      <td>10</td>\n",
       "      <td>21.497100</td>\n",
       "      <td>0.023477</td>\n",
       "    </tr>\n",
       "    <tr>\n",
       "      <th>2</th>\n",
       "      <td>2008-12-03</td>\n",
       "      <td>Albury</td>\n",
       "      <td>12.9</td>\n",
       "      <td>25.7</td>\n",
       "      <td>0.0</td>\n",
       "      <td>38.0</td>\n",
       "      <td>30.0</td>\n",
       "      <td>21.0</td>\n",
       "      <td>23.2</td>\n",
       "      <td>0</td>\n",
       "      <td>0.0</td>\n",
       "      <td>0</td>\n",
       "      <td>32.84</td>\n",
       "      <td>38.000000</td>\n",
       "      <td>17</td>\n",
       "      <td>20.782859</td>\n",
       "      <td>0.027580</td>\n",
       "    </tr>\n",
       "    <tr>\n",
       "      <th>3</th>\n",
       "      <td>2008-12-04</td>\n",
       "      <td>Albury</td>\n",
       "      <td>9.2</td>\n",
       "      <td>28.0</td>\n",
       "      <td>0.0</td>\n",
       "      <td>45.0</td>\n",
       "      <td>16.0</td>\n",
       "      <td>18.1</td>\n",
       "      <td>26.5</td>\n",
       "      <td>0</td>\n",
       "      <td>1.0</td>\n",
       "      <td>0</td>\n",
       "      <td>35.60</td>\n",
       "      <td>21.200000</td>\n",
       "      <td>8</td>\n",
       "      <td>12.028646</td>\n",
       "      <td>0.023962</td>\n",
       "    </tr>\n",
       "    <tr>\n",
       "      <th>4</th>\n",
       "      <td>2008-12-05</td>\n",
       "      <td>Albury</td>\n",
       "      <td>17.5</td>\n",
       "      <td>32.3</td>\n",
       "      <td>1.0</td>\n",
       "      <td>82.0</td>\n",
       "      <td>33.0</td>\n",
       "      <td>17.8</td>\n",
       "      <td>29.7</td>\n",
       "      <td>0</td>\n",
       "      <td>0.2</td>\n",
       "      <td>0</td>\n",
       "      <td>40.76</td>\n",
       "      <td>41.600000</td>\n",
       "      <td>9</td>\n",
       "      <td>11.883546</td>\n",
       "      <td>0.220164</td>\n",
       "    </tr>\n",
       "  </tbody>\n",
       "</table>\n",
       "</div>"
      ],
      "text/plain": [
       "        date location  mintemp  maxtemp  rainfall  humidity9am  humidity3pm  \\\n",
       "0 2008-12-01   Albury     13.4     22.9       0.6         71.0         22.0   \n",
       "1 2008-12-02   Albury      7.4     25.1       0.0         44.0         25.0   \n",
       "2 2008-12-03   Albury     12.9     25.7       0.0         38.0         30.0   \n",
       "3 2008-12-04   Albury      9.2     28.0       0.0         45.0         16.0   \n",
       "4 2008-12-05   Albury     17.5     32.3       1.0         82.0         33.0   \n",
       "\n",
       "   temp9am  temp3pm  raintoday  amountOfRain  raintomorrow   temp   humidity  \\\n",
       "0     16.9     21.8          0           0.0             0  29.48  28.400000   \n",
       "1     17.2     24.3          0           0.0             0  32.12   2.208569   \n",
       "2     21.0     23.2          0           0.0             0  32.84  38.000000   \n",
       "3     18.1     26.5          0           1.0             0  35.60  21.200000   \n",
       "4     17.8     29.7          0           0.2             0  40.76  41.600000   \n",
       "\n",
       "   precipitation3pm  precipitation9am  modelo_vigente  \n",
       "0                12          5.115360        0.089825  \n",
       "1                10         21.497100        0.023477  \n",
       "2                17         20.782859        0.027580  \n",
       "3                 8         12.028646        0.023962  \n",
       "4                 9         11.883546        0.220164  "
      ]
     },
     "execution_count": 65,
     "metadata": {},
     "output_type": "execute_result"
    }
   ],
   "source": [
    "rain.head()"
   ]
  },
  {
   "cell_type": "markdown",
   "metadata": {},
   "source": [
    "## Comparing Models"
   ]
  },
  {
   "cell_type": "code",
   "execution_count": 66,
   "metadata": {},
   "outputs": [
    {
     "data": {
      "text/html": [
       "<div>\n",
       "<style scoped>\n",
       "    .dataframe tbody tr th:only-of-type {\n",
       "        vertical-align: middle;\n",
       "    }\n",
       "\n",
       "    .dataframe tbody tr th {\n",
       "        vertical-align: top;\n",
       "    }\n",
       "\n",
       "    .dataframe thead th {\n",
       "        text-align: right;\n",
       "    }\n",
       "</style>\n",
       "<table border=\"1\" class=\"dataframe\">\n",
       "  <thead>\n",
       "    <tr style=\"text-align: right;\">\n",
       "      <th></th>\n",
       "      <th>Baseline (Log. Regression)</th>\n",
       "      <th>Baseline 2 (Log. Regression)</th>\n",
       "    </tr>\n",
       "  </thead>\n",
       "  <tbody>\n",
       "    <tr>\n",
       "      <th>SCORE</th>\n",
       "      <td>0.995970</td>\n",
       "      <td>0.834420</td>\n",
       "    </tr>\n",
       "    <tr>\n",
       "      <th>PRECISION</th>\n",
       "      <td>0.992314</td>\n",
       "      <td>0.734578</td>\n",
       "    </tr>\n",
       "    <tr>\n",
       "      <th>RECALL</th>\n",
       "      <td>0.989339</td>\n",
       "      <td>0.386807</td>\n",
       "    </tr>\n",
       "  </tbody>\n",
       "</table>\n",
       "</div>"
      ],
      "text/plain": [
       "           Baseline (Log. Regression)  Baseline 2 (Log. Regression)\n",
       "SCORE                        0.995970                      0.834420\n",
       "PRECISION                    0.992314                      0.734578\n",
       "RECALL                       0.989339                      0.386807"
      ]
     },
     "execution_count": 66,
     "metadata": {},
     "output_type": "execute_result"
    }
   ],
   "source": [
    "rain_scores = scores('Baseline 2 (Log. Regression)', baseline2_score, precision2_score, recall2_score)\n",
    "rain_scores"
   ]
  },
  {
   "cell_type": "markdown",
   "metadata": {},
   "source": [
    "# Rain + Wind"
   ]
  },
  {
   "cell_type": "code",
   "execution_count": 67,
   "metadata": {},
   "outputs": [],
   "source": [
    "rain = pd.read_csv('./data/rain_data_aus.csv')\n",
    "wind = pd.DataFrame()\n",
    "for i in range(1,9):\n",
    "    df_aux = pd.read_csv(f'./data/wind_table_0{i}.csv')\n",
    "    df_aux.columns = ['date', 'location', 'wind_gustdir', 'wind_gustspeed', 'wind_dir9am',\n",
    "       'wind_dir3pm', 'wind_speed9am', 'wind_speed3pm']\n",
    "    wind = pd.concat([wind,df_aux])\n",
    "rain_wind =  pd.merge(rain, wind, how='left', on=['date', 'location'])"
   ]
  },
  {
   "cell_type": "code",
   "execution_count": 68,
   "metadata": {},
   "outputs": [
    {
     "data": {
      "image/png": "[encoded data removed]",
      "text/plain": [
       "<Figure size 1440x720 with 1 Axes>"
      ]
     },
     "metadata": {},
     "output_type": "display_data"
    }
   ],
   "source": [
    "#Heatmap of nulls\n",
    "fig, ax = plt.subplots(figsize=(20, 10))\n",
    "sns.heatmap(rain_wind.isnull(), cbar=False);"
   ]
  },
  {
   "cell_type": "code",
   "execution_count": 69,
   "metadata": {},
   "outputs": [],
   "source": [
    "#Droping columns and rows again\n",
    "rain_wind.drop(['evaporation', 'sunshine', 'pressure9am', 'pressure3pm', 'cloud9am', 'cloud3pm'], axis = 1, inplace = True)\n",
    "rain_wind.dropna(axis=0, inplace=True)"
   ]
  },
  {
   "cell_type": "code",
   "execution_count": 70,
   "metadata": {},
   "outputs": [],
   "source": [
    "X = rain_wind[['rainfall', 'humidity9am', 'humidity3pm',\n",
    "       'temp9am', 'temp3pm', 'precipitation3pm', 'precipitation9am',\n",
    "        'wind_speed9am','wind_speed3pm']]"
   ]
  },
  {
   "cell_type": "markdown",
   "metadata": {},
   "source": [
    "## Standardize Data"
   ]
  },
  {
   "cell_type": "code",
   "execution_count": 71,
   "metadata": {},
   "outputs": [],
   "source": [
    "scaler = StandardScaler()\n",
    "X_std = scaler.fit_transform(X)"
   ]
  },
  {
   "cell_type": "code",
   "execution_count": 72,
   "metadata": {},
   "outputs": [],
   "source": [
    "rain_wind['raintomorrow'] = rain_wind['raintomorrow'].apply(lambda x: 0 if x == 'No' else 1)"
   ]
  },
  {
   "cell_type": "code",
   "execution_count": 73,
   "metadata": {},
   "outputs": [],
   "source": [
    "y = rain_wind['raintomorrow']"
   ]
  },
  {
   "cell_type": "code",
   "execution_count": 74,
   "metadata": {},
   "outputs": [
    {
     "data": {
      "text/plain": [
       "array([0, 0, 0, ..., 0, 0, 0], dtype=int64)"
      ]
     },
     "execution_count": 74,
     "metadata": {},
     "output_type": "execute_result"
    }
   ],
   "source": [
    "X_train, X_test, y_train, y_test = train_test_split(X_std, y, \n",
    "                                                    test_size = 0.2, \n",
    "                                                    random_state = 42)\n",
    "\n",
    "model.fit(X_train, y_train)\n",
    "model.predict(X_train)\n",
    "model.predict(X_test)"
   ]
  },
  {
   "cell_type": "code",
   "execution_count": 75,
   "metadata": {},
   "outputs": [
    {
     "data": {
      "text/plain": [
       "array([[0.95081228, 0.04918772],\n",
       "       [0.81467153, 0.18532847],\n",
       "       [0.52799775, 0.47200225],\n",
       "       ...,\n",
       "       [0.73096056, 0.26903944],\n",
       "       [0.87668775, 0.12331225],\n",
       "       [0.71018026, 0.28981974]])"
      ]
     },
     "execution_count": 75,
     "metadata": {},
     "output_type": "execute_result"
    }
   ],
   "source": [
    "model.predict_proba(X_test)"
   ]
  },
  {
   "cell_type": "code",
   "execution_count": 76,
   "metadata": {},
   "outputs": [
    {
     "data": {
      "text/plain": [
       "0.8295688614248171"
      ]
     },
     "execution_count": 76,
     "metadata": {},
     "output_type": "execute_result"
    }
   ],
   "source": [
    "wind_score = model.score(X_test, y_test)\n",
    "wind_score"
   ]
  },
  {
   "cell_type": "code",
   "execution_count": 77,
   "metadata": {},
   "outputs": [
    {
     "data": {
      "text/plain": [
       "0.8334724318565213"
      ]
     },
     "execution_count": 77,
     "metadata": {},
     "output_type": "execute_result"
    }
   ],
   "source": [
    "model.score(X_train, y_train)"
   ]
  },
  {
   "cell_type": "code",
   "execution_count": 78,
   "metadata": {},
   "outputs": [
    {
     "data": {
      "text/plain": [
       "0.7166713840928389"
      ]
     },
     "execution_count": 78,
     "metadata": {},
     "output_type": "execute_result"
    }
   ],
   "source": [
    "wind_precision = precision_score(y_test, model.predict(X_test))\n",
    "wind_precision"
   ]
  },
  {
   "cell_type": "code",
   "execution_count": 79,
   "metadata": {},
   "outputs": [
    {
     "data": {
      "text/plain": [
       "0.4"
      ]
     },
     "execution_count": 79,
     "metadata": {},
     "output_type": "execute_result"
    }
   ],
   "source": [
    "wind_recall = recall_score(y_test, model.predict(X_test))\n",
    "wind_recall"
   ]
  },
  {
   "cell_type": "markdown",
   "metadata": {},
   "source": [
    "## Confusion Matrix"
   ]
  },
  {
   "cell_type": "code",
   "execution_count": 80,
   "metadata": {},
   "outputs": [
    {
     "data": {
      "text/plain": [
       "<sklearn.metrics._plot.confusion_matrix.ConfusionMatrixDisplay at 0x175b42ec6c8>"
      ]
     },
     "execution_count": 80,
     "metadata": {},
     "output_type": "execute_result"
    },
    {
     "data": {
      "image/png": "[encoded data removed]",
      "text/plain": [
       "<Figure size 576x396 with 2 Axes>"
      ]
     },
     "metadata": {},
     "output_type": "display_data"
    }
   ],
   "source": [
    "plot_confusion_matrix(model, X_test, y_test, values_format='.0f')"
   ]
  },
  {
   "cell_type": "markdown",
   "metadata": {},
   "source": [
    "## Comparing Models"
   ]
  },
  {
   "cell_type": "code",
   "execution_count": 81,
   "metadata": {},
   "outputs": [
    {
     "data": {
      "text/html": [
       "<div>\n",
       "<style scoped>\n",
       "    .dataframe tbody tr th:only-of-type {\n",
       "        vertical-align: middle;\n",
       "    }\n",
       "\n",
       "    .dataframe tbody tr th {\n",
       "        vertical-align: top;\n",
       "    }\n",
       "\n",
       "    .dataframe thead th {\n",
       "        text-align: right;\n",
       "    }\n",
       "</style>\n",
       "<table border=\"1\" class=\"dataframe\">\n",
       "  <thead>\n",
       "    <tr style=\"text-align: right;\">\n",
       "      <th></th>\n",
       "      <th>Baseline (Log. Regression)</th>\n",
       "      <th>Baseline 2 (Log. Regression)</th>\n",
       "      <th>Model 3 + Wind Speed (Log. Regression)</th>\n",
       "    </tr>\n",
       "  </thead>\n",
       "  <tbody>\n",
       "    <tr>\n",
       "      <th>SCORE</th>\n",
       "      <td>0.995970</td>\n",
       "      <td>0.834420</td>\n",
       "      <td>0.829569</td>\n",
       "    </tr>\n",
       "    <tr>\n",
       "      <th>PRECISION</th>\n",
       "      <td>0.992314</td>\n",
       "      <td>0.734578</td>\n",
       "      <td>0.716671</td>\n",
       "    </tr>\n",
       "    <tr>\n",
       "      <th>RECALL</th>\n",
       "      <td>0.989339</td>\n",
       "      <td>0.386807</td>\n",
       "      <td>0.400000</td>\n",
       "    </tr>\n",
       "  </tbody>\n",
       "</table>\n",
       "</div>"
      ],
      "text/plain": [
       "           Baseline (Log. Regression)  Baseline 2 (Log. Regression)  \\\n",
       "SCORE                        0.995970                      0.834420   \n",
       "PRECISION                    0.992314                      0.734578   \n",
       "RECALL                       0.989339                      0.386807   \n",
       "\n",
       "           Model 3 + Wind Speed (Log. Regression)  \n",
       "SCORE                                    0.829569  \n",
       "PRECISION                                0.716671  \n",
       "RECALL                                   0.400000  "
      ]
     },
     "execution_count": 81,
     "metadata": {},
     "output_type": "execute_result"
    }
   ],
   "source": [
    "rain_scores = scores('Model 3 + Wind Speed (Log. Regression)', wind_score, wind_precision, wind_recall)\n",
    "rain_scores"
   ]
  },
  {
   "cell_type": "markdown",
   "metadata": {},
   "source": [
    "# Rain + Wind 2"
   ]
  },
  {
   "cell_type": "code",
   "execution_count": 82,
   "metadata": {},
   "outputs": [],
   "source": [
    "rain = pd.read_csv('./data/rain_data_aus.csv')\n",
    "wind = pd.DataFrame()\n",
    "for i in range(1,9):\n",
    "    df_aux = pd.read_csv(f'./data/wind_table_0{i}.csv')\n",
    "    df_aux.columns = ['date', 'location', 'wind_gustdir', 'wind_gustspeed', 'wind_dir9am',\n",
    "       'wind_dir3pm', 'wind_speed9am', 'wind_speed3pm']\n",
    "    wind = pd.concat([wind,df_aux])\n",
    "rain_wind =  pd.merge(rain, wind, how='left', on=['date', 'location'])"
   ]
  },
  {
   "cell_type": "markdown",
   "metadata": {},
   "source": [
    "Checking if there are dupplicated rows"
   ]
  },
  {
   "cell_type": "code",
   "execution_count": 83,
   "metadata": {},
   "outputs": [
    {
     "data": {
      "text/plain": [
       "22193"
      ]
     },
     "execution_count": 83,
     "metadata": {},
     "output_type": "execute_result"
    }
   ],
   "source": [
    "rain_wind.duplicated().sum()"
   ]
  },
  {
   "cell_type": "code",
   "execution_count": 84,
   "metadata": {},
   "outputs": [
    {
     "data": {
      "text/plain": [
       "(164386, 29)"
      ]
     },
     "execution_count": 84,
     "metadata": {},
     "output_type": "execute_result"
    }
   ],
   "source": [
    "rain_wind.shape"
   ]
  },
  {
   "cell_type": "markdown",
   "metadata": {},
   "source": [
    "Droping duplicated rows"
   ]
  },
  {
   "cell_type": "code",
   "execution_count": 85,
   "metadata": {},
   "outputs": [],
   "source": [
    "rain_wind.drop_duplicates(inplace=True)"
   ]
  },
  {
   "cell_type": "code",
   "execution_count": 86,
   "metadata": {},
   "outputs": [
    {
     "data": {
      "text/plain": [
       "(142193, 29)"
      ]
     },
     "execution_count": 86,
     "metadata": {},
     "output_type": "execute_result"
    }
   ],
   "source": [
    "rain_wind.shape"
   ]
  },
  {
   "cell_type": "markdown",
   "metadata": {},
   "source": [
    "## Cleaning Dataset"
   ]
  },
  {
   "cell_type": "markdown",
   "metadata": {},
   "source": [
    "### Treating object columns"
   ]
  },
  {
   "cell_type": "markdown",
   "metadata": {},
   "source": [
    "Transform binary values of 'raintoday' and 'raintomorrow' into 0 and 1"
   ]
  },
  {
   "cell_type": "code",
   "execution_count": 87,
   "metadata": {},
   "outputs": [],
   "source": [
    "rain_wind['raintoday'] = rain_wind['raintoday'].apply(lambda x: 0 if x == 'No' else 1)"
   ]
  },
  {
   "cell_type": "code",
   "execution_count": 88,
   "metadata": {},
   "outputs": [],
   "source": [
    "rain_wind['raintomorrow'] = rain_wind['raintomorrow'].apply(lambda x: 0 if x == 'No' else 1)"
   ]
  },
  {
   "cell_type": "markdown",
   "metadata": {},
   "source": [
    "Drop 'amountOfRain' column, because we won't use it in the model"
   ]
  },
  {
   "cell_type": "code",
   "execution_count": 89,
   "metadata": {},
   "outputs": [],
   "source": [
    "rain_wind = rain_wind.drop(columns='amountOfRain')"
   ]
  },
  {
   "cell_type": "markdown",
   "metadata": {},
   "source": [
    "Datetime column:"
   ]
  },
  {
   "cell_type": "code",
   "execution_count": 90,
   "metadata": {},
   "outputs": [],
   "source": [
    "rain_wind['date'] = pd.to_datetime(rain_wind['date'])"
   ]
  },
  {
   "cell_type": "markdown",
   "metadata": {},
   "source": [
    "Creating the columns: day, month, year separately"
   ]
  },
  {
   "cell_type": "code",
   "execution_count": 91,
   "metadata": {},
   "outputs": [],
   "source": [
    "rain_wind['day'] = rain_wind['date'].dt.day"
   ]
  },
  {
   "cell_type": "code",
   "execution_count": 92,
   "metadata": {},
   "outputs": [],
   "source": [
    "rain_wind['month'] = rain_wind['date'].dt.month"
   ]
  },
  {
   "cell_type": "code",
   "execution_count": 93,
   "metadata": {},
   "outputs": [],
   "source": [
    "rain_wind['year'] = rain_wind['date'].dt.year"
   ]
  },
  {
   "cell_type": "markdown",
   "metadata": {},
   "source": [
    "Drop the column 'date', because we don't need it anymore"
   ]
  },
  {
   "cell_type": "code",
   "execution_count": 94,
   "metadata": {},
   "outputs": [],
   "source": [
    "rain_wind = rain_wind.drop(columns='date')"
   ]
  },
  {
   "cell_type": "markdown",
   "metadata": {},
   "source": [
    "Get Dummies on the categorical features"
   ]
  },
  {
   "cell_type": "code",
   "execution_count": 95,
   "metadata": {},
   "outputs": [],
   "source": [
    "rain_wind = pd.concat([rain_wind, pd.get_dummies(rain_wind['location'], prefix='loc')], axis=1)"
   ]
  },
  {
   "cell_type": "code",
   "execution_count": 96,
   "metadata": {},
   "outputs": [],
   "source": [
    "rain_wind = pd.concat([rain_wind, pd.get_dummies(rain_wind['wind_dir9am'], prefix='wind_dir9am')], axis=1)"
   ]
  },
  {
   "cell_type": "code",
   "execution_count": 97,
   "metadata": {},
   "outputs": [],
   "source": [
    "rain_wind = pd.concat([rain_wind, pd.get_dummies(rain_wind['wind_dir3pm'], prefix='wind_dir3pm')], axis=1)"
   ]
  },
  {
   "cell_type": "markdown",
   "metadata": {},
   "source": [
    "Dropping columns:"
   ]
  },
  {
   "cell_type": "code",
   "execution_count": 98,
   "metadata": {},
   "outputs": [],
   "source": [
    "rain_wind = rain_wind.drop(columns=['location', 'wind_dir9am', 'wind_dir3pm', 'evaporation', 'sunshine', 'wind_gustdir',\n",
    "                                   'mintemp', 'maxtemp', 'raintoday', 'temp', 'humidity', 'modelo_vigente', 'wind_gustspeed',\n",
    "                                   'cloud3pm', 'cloud9am'])"
   ]
  },
  {
   "cell_type": "code",
   "execution_count": 99,
   "metadata": {},
   "outputs": [
    {
     "data": {
      "text/plain": [
       "(142193, 96)"
      ]
     },
     "execution_count": 99,
     "metadata": {},
     "output_type": "execute_result"
    }
   ],
   "source": [
    "rain_wind.shape"
   ]
  },
  {
   "cell_type": "code",
   "execution_count": 100,
   "metadata": {},
   "outputs": [],
   "source": [
    "rain_wind = rain_wind.dropna()"
   ]
  },
  {
   "cell_type": "code",
   "execution_count": 101,
   "metadata": {},
   "outputs": [
    {
     "data": {
      "text/plain": [
       "(124105, 96)"
      ]
     },
     "execution_count": 101,
     "metadata": {},
     "output_type": "execute_result"
    }
   ],
   "source": [
    "rain_wind.shape"
   ]
  },
  {
   "cell_type": "markdown",
   "metadata": {},
   "source": [
    "## Logistic Regression"
   ]
  },
  {
   "cell_type": "code",
   "execution_count": 102,
   "metadata": {},
   "outputs": [],
   "source": [
    "logistic = LogisticRegression(n_jobs=-1)"
   ]
  },
  {
   "cell_type": "code",
   "execution_count": 103,
   "metadata": {},
   "outputs": [
    {
     "data": {
      "text/html": [
       "<div>\n",
       "<style scoped>\n",
       "    .dataframe tbody tr th:only-of-type {\n",
       "        vertical-align: middle;\n",
       "    }\n",
       "\n",
       "    .dataframe tbody tr th {\n",
       "        vertical-align: top;\n",
       "    }\n",
       "\n",
       "    .dataframe thead th {\n",
       "        text-align: right;\n",
       "    }\n",
       "</style>\n",
       "<table border=\"1\" class=\"dataframe\">\n",
       "  <thead>\n",
       "    <tr style=\"text-align: right;\">\n",
       "      <th></th>\n",
       "      <th>rainfall</th>\n",
       "      <th>humidity9am</th>\n",
       "      <th>humidity3pm</th>\n",
       "      <th>pressure9am</th>\n",
       "      <th>pressure3pm</th>\n",
       "      <th>temp9am</th>\n",
       "      <th>temp3pm</th>\n",
       "      <th>raintomorrow</th>\n",
       "      <th>precipitation3pm</th>\n",
       "      <th>precipitation9am</th>\n",
       "      <th>wind_speed9am</th>\n",
       "      <th>wind_speed3pm</th>\n",
       "      <th>day</th>\n",
       "      <th>month</th>\n",
       "      <th>year</th>\n",
       "      <th>loc_Adelaide</th>\n",
       "      <th>loc_Albany</th>\n",
       "      <th>loc_Albury</th>\n",
       "      <th>loc_AliceSprings</th>\n",
       "      <th>loc_BadgerysCreek</th>\n",
       "      <th>loc_Ballarat</th>\n",
       "      <th>loc_Bendigo</th>\n",
       "      <th>loc_Brisbane</th>\n",
       "      <th>loc_Cairns</th>\n",
       "      <th>loc_Canberra</th>\n",
       "      <th>loc_Cobar</th>\n",
       "      <th>loc_CoffsHarbour</th>\n",
       "      <th>loc_Dartmoor</th>\n",
       "      <th>loc_Darwin</th>\n",
       "      <th>loc_GoldCoast</th>\n",
       "      <th>loc_Hobart</th>\n",
       "      <th>loc_Katherine</th>\n",
       "      <th>loc_Launceston</th>\n",
       "      <th>loc_Melbourne</th>\n",
       "      <th>loc_MelbourneAirport</th>\n",
       "      <th>loc_Mildura</th>\n",
       "      <th>loc_Moree</th>\n",
       "      <th>loc_MountGambier</th>\n",
       "      <th>loc_MountGinini</th>\n",
       "      <th>loc_Newcastle</th>\n",
       "      <th>loc_Nhil</th>\n",
       "      <th>loc_NorahHead</th>\n",
       "      <th>loc_NorfolkIsland</th>\n",
       "      <th>loc_Nuriootpa</th>\n",
       "      <th>loc_PearceRAAF</th>\n",
       "      <th>loc_Penrith</th>\n",
       "      <th>loc_Perth</th>\n",
       "      <th>loc_PerthAirport</th>\n",
       "      <th>loc_Portland</th>\n",
       "      <th>loc_Richmond</th>\n",
       "      <th>loc_Sale</th>\n",
       "      <th>loc_SalmonGums</th>\n",
       "      <th>loc_Sydney</th>\n",
       "      <th>loc_SydneyAirport</th>\n",
       "      <th>loc_Townsville</th>\n",
       "      <th>loc_Tuggeranong</th>\n",
       "      <th>loc_Uluru</th>\n",
       "      <th>loc_WaggaWagga</th>\n",
       "      <th>loc_Walpole</th>\n",
       "      <th>loc_Watsonia</th>\n",
       "      <th>loc_Williamtown</th>\n",
       "      <th>loc_Witchcliffe</th>\n",
       "      <th>loc_Wollongong</th>\n",
       "      <th>loc_Woomera</th>\n",
       "      <th>wind_dir9am_E</th>\n",
       "      <th>wind_dir9am_ENE</th>\n",
       "      <th>wind_dir9am_ESE</th>\n",
       "      <th>wind_dir9am_N</th>\n",
       "      <th>wind_dir9am_NE</th>\n",
       "      <th>wind_dir9am_NNE</th>\n",
       "      <th>wind_dir9am_NNW</th>\n",
       "      <th>wind_dir9am_NW</th>\n",
       "      <th>wind_dir9am_S</th>\n",
       "      <th>wind_dir9am_SE</th>\n",
       "      <th>wind_dir9am_SSE</th>\n",
       "      <th>wind_dir9am_SSW</th>\n",
       "      <th>wind_dir9am_SW</th>\n",
       "      <th>wind_dir9am_W</th>\n",
       "      <th>wind_dir9am_WNW</th>\n",
       "      <th>wind_dir9am_WSW</th>\n",
       "      <th>wind_dir3pm_E</th>\n",
       "      <th>wind_dir3pm_ENE</th>\n",
       "      <th>wind_dir3pm_ESE</th>\n",
       "      <th>wind_dir3pm_N</th>\n",
       "      <th>wind_dir3pm_NE</th>\n",
       "      <th>wind_dir3pm_NNE</th>\n",
       "      <th>wind_dir3pm_NNW</th>\n",
       "      <th>wind_dir3pm_NW</th>\n",
       "      <th>wind_dir3pm_S</th>\n",
       "      <th>wind_dir3pm_SE</th>\n",
       "      <th>wind_dir3pm_SSE</th>\n",
       "      <th>wind_dir3pm_SSW</th>\n",
       "      <th>wind_dir3pm_SW</th>\n",
       "      <th>wind_dir3pm_W</th>\n",
       "      <th>wind_dir3pm_WNW</th>\n",
       "      <th>wind_dir3pm_WSW</th>\n",
       "    </tr>\n",
       "  </thead>\n",
       "  <tbody>\n",
       "    <tr>\n",
       "      <th>0</th>\n",
       "      <td>0.6</td>\n",
       "      <td>71.0</td>\n",
       "      <td>22.0</td>\n",
       "      <td>1007.7</td>\n",
       "      <td>1007.1</td>\n",
       "      <td>16.9</td>\n",
       "      <td>21.8</td>\n",
       "      <td>0</td>\n",
       "      <td>12</td>\n",
       "      <td>5.115360</td>\n",
       "      <td>20.0</td>\n",
       "      <td>24.0</td>\n",
       "      <td>1</td>\n",
       "      <td>12</td>\n",
       "      <td>2008</td>\n",
       "      <td>0</td>\n",
       "      <td>0</td>\n",
       "      <td>1</td>\n",
       "      <td>0</td>\n",
       "      <td>0</td>\n",
       "      <td>0</td>\n",
       "      <td>0</td>\n",
       "      <td>0</td>\n",
       "      <td>0</td>\n",
       "      <td>0</td>\n",
       "      <td>0</td>\n",
       "      <td>0</td>\n",
       "      <td>0</td>\n",
       "      <td>0</td>\n",
       "      <td>0</td>\n",
       "      <td>0</td>\n",
       "      <td>0</td>\n",
       "      <td>0</td>\n",
       "      <td>0</td>\n",
       "      <td>0</td>\n",
       "      <td>0</td>\n",
       "      <td>0</td>\n",
       "      <td>0</td>\n",
       "      <td>0</td>\n",
       "      <td>0</td>\n",
       "      <td>0</td>\n",
       "      <td>0</td>\n",
       "      <td>0</td>\n",
       "      <td>0</td>\n",
       "      <td>0</td>\n",
       "      <td>0</td>\n",
       "      <td>0</td>\n",
       "      <td>0</td>\n",
       "      <td>0</td>\n",
       "      <td>0</td>\n",
       "      <td>0</td>\n",
       "      <td>0</td>\n",
       "      <td>0</td>\n",
       "      <td>0</td>\n",
       "      <td>0</td>\n",
       "      <td>0</td>\n",
       "      <td>0</td>\n",
       "      <td>0</td>\n",
       "      <td>0</td>\n",
       "      <td>0</td>\n",
       "      <td>0</td>\n",
       "      <td>0</td>\n",
       "      <td>0</td>\n",
       "      <td>0</td>\n",
       "      <td>0</td>\n",
       "      <td>0</td>\n",
       "      <td>0</td>\n",
       "      <td>0</td>\n",
       "      <td>0</td>\n",
       "      <td>0</td>\n",
       "      <td>0</td>\n",
       "      <td>0</td>\n",
       "      <td>0</td>\n",
       "      <td>0</td>\n",
       "      <td>0</td>\n",
       "      <td>0</td>\n",
       "      <td>0</td>\n",
       "      <td>1</td>\n",
       "      <td>0</td>\n",
       "      <td>0</td>\n",
       "      <td>0</td>\n",
       "      <td>0</td>\n",
       "      <td>0</td>\n",
       "      <td>0</td>\n",
       "      <td>0</td>\n",
       "      <td>0</td>\n",
       "      <td>0</td>\n",
       "      <td>0</td>\n",
       "      <td>0</td>\n",
       "      <td>0</td>\n",
       "      <td>0</td>\n",
       "      <td>0</td>\n",
       "      <td>0</td>\n",
       "      <td>0</td>\n",
       "      <td>1</td>\n",
       "      <td>0</td>\n",
       "    </tr>\n",
       "    <tr>\n",
       "      <th>1</th>\n",
       "      <td>0.0</td>\n",
       "      <td>44.0</td>\n",
       "      <td>25.0</td>\n",
       "      <td>1010.6</td>\n",
       "      <td>1007.8</td>\n",
       "      <td>17.2</td>\n",
       "      <td>24.3</td>\n",
       "      <td>0</td>\n",
       "      <td>10</td>\n",
       "      <td>21.497100</td>\n",
       "      <td>4.0</td>\n",
       "      <td>22.0</td>\n",
       "      <td>2</td>\n",
       "      <td>12</td>\n",
       "      <td>2008</td>\n",
       "      <td>0</td>\n",
       "      <td>0</td>\n",
       "      <td>1</td>\n",
       "      <td>0</td>\n",
       "      <td>0</td>\n",
       "      <td>0</td>\n",
       "      <td>0</td>\n",
       "      <td>0</td>\n",
       "      <td>0</td>\n",
       "      <td>0</td>\n",
       "      <td>0</td>\n",
       "      <td>0</td>\n",
       "      <td>0</td>\n",
       "      <td>0</td>\n",
       "      <td>0</td>\n",
       "      <td>0</td>\n",
       "      <td>0</td>\n",
       "      <td>0</td>\n",
       "      <td>0</td>\n",
       "      <td>0</td>\n",
       "      <td>0</td>\n",
       "      <td>0</td>\n",
       "      <td>0</td>\n",
       "      <td>0</td>\n",
       "      <td>0</td>\n",
       "      <td>0</td>\n",
       "      <td>0</td>\n",
       "      <td>0</td>\n",
       "      <td>0</td>\n",
       "      <td>0</td>\n",
       "      <td>0</td>\n",
       "      <td>0</td>\n",
       "      <td>0</td>\n",
       "      <td>0</td>\n",
       "      <td>0</td>\n",
       "      <td>0</td>\n",
       "      <td>0</td>\n",
       "      <td>0</td>\n",
       "      <td>0</td>\n",
       "      <td>0</td>\n",
       "      <td>0</td>\n",
       "      <td>0</td>\n",
       "      <td>0</td>\n",
       "      <td>0</td>\n",
       "      <td>0</td>\n",
       "      <td>0</td>\n",
       "      <td>0</td>\n",
       "      <td>0</td>\n",
       "      <td>0</td>\n",
       "      <td>0</td>\n",
       "      <td>0</td>\n",
       "      <td>0</td>\n",
       "      <td>0</td>\n",
       "      <td>0</td>\n",
       "      <td>0</td>\n",
       "      <td>1</td>\n",
       "      <td>0</td>\n",
       "      <td>0</td>\n",
       "      <td>0</td>\n",
       "      <td>0</td>\n",
       "      <td>0</td>\n",
       "      <td>0</td>\n",
       "      <td>0</td>\n",
       "      <td>0</td>\n",
       "      <td>0</td>\n",
       "      <td>0</td>\n",
       "      <td>0</td>\n",
       "      <td>0</td>\n",
       "      <td>0</td>\n",
       "      <td>0</td>\n",
       "      <td>0</td>\n",
       "      <td>0</td>\n",
       "      <td>0</td>\n",
       "      <td>0</td>\n",
       "      <td>0</td>\n",
       "      <td>0</td>\n",
       "      <td>0</td>\n",
       "      <td>0</td>\n",
       "      <td>0</td>\n",
       "      <td>0</td>\n",
       "      <td>1</td>\n",
       "    </tr>\n",
       "    <tr>\n",
       "      <th>2</th>\n",
       "      <td>0.0</td>\n",
       "      <td>38.0</td>\n",
       "      <td>30.0</td>\n",
       "      <td>1007.6</td>\n",
       "      <td>1008.7</td>\n",
       "      <td>21.0</td>\n",
       "      <td>23.2</td>\n",
       "      <td>0</td>\n",
       "      <td>17</td>\n",
       "      <td>20.782859</td>\n",
       "      <td>19.0</td>\n",
       "      <td>26.0</td>\n",
       "      <td>3</td>\n",
       "      <td>12</td>\n",
       "      <td>2008</td>\n",
       "      <td>0</td>\n",
       "      <td>0</td>\n",
       "      <td>1</td>\n",
       "      <td>0</td>\n",
       "      <td>0</td>\n",
       "      <td>0</td>\n",
       "      <td>0</td>\n",
       "      <td>0</td>\n",
       "      <td>0</td>\n",
       "      <td>0</td>\n",
       "      <td>0</td>\n",
       "      <td>0</td>\n",
       "      <td>0</td>\n",
       "      <td>0</td>\n",
       "      <td>0</td>\n",
       "      <td>0</td>\n",
       "      <td>0</td>\n",
       "      <td>0</td>\n",
       "      <td>0</td>\n",
       "      <td>0</td>\n",
       "      <td>0</td>\n",
       "      <td>0</td>\n",
       "      <td>0</td>\n",
       "      <td>0</td>\n",
       "      <td>0</td>\n",
       "      <td>0</td>\n",
       "      <td>0</td>\n",
       "      <td>0</td>\n",
       "      <td>0</td>\n",
       "      <td>0</td>\n",
       "      <td>0</td>\n",
       "      <td>0</td>\n",
       "      <td>0</td>\n",
       "      <td>0</td>\n",
       "      <td>0</td>\n",
       "      <td>0</td>\n",
       "      <td>0</td>\n",
       "      <td>0</td>\n",
       "      <td>0</td>\n",
       "      <td>0</td>\n",
       "      <td>0</td>\n",
       "      <td>0</td>\n",
       "      <td>0</td>\n",
       "      <td>0</td>\n",
       "      <td>0</td>\n",
       "      <td>0</td>\n",
       "      <td>0</td>\n",
       "      <td>0</td>\n",
       "      <td>0</td>\n",
       "      <td>0</td>\n",
       "      <td>0</td>\n",
       "      <td>0</td>\n",
       "      <td>0</td>\n",
       "      <td>0</td>\n",
       "      <td>0</td>\n",
       "      <td>0</td>\n",
       "      <td>0</td>\n",
       "      <td>0</td>\n",
       "      <td>0</td>\n",
       "      <td>0</td>\n",
       "      <td>0</td>\n",
       "      <td>0</td>\n",
       "      <td>1</td>\n",
       "      <td>0</td>\n",
       "      <td>0</td>\n",
       "      <td>0</td>\n",
       "      <td>0</td>\n",
       "      <td>0</td>\n",
       "      <td>0</td>\n",
       "      <td>0</td>\n",
       "      <td>0</td>\n",
       "      <td>0</td>\n",
       "      <td>0</td>\n",
       "      <td>0</td>\n",
       "      <td>0</td>\n",
       "      <td>0</td>\n",
       "      <td>0</td>\n",
       "      <td>0</td>\n",
       "      <td>0</td>\n",
       "      <td>0</td>\n",
       "      <td>1</td>\n",
       "    </tr>\n",
       "    <tr>\n",
       "      <th>3</th>\n",
       "      <td>0.0</td>\n",
       "      <td>45.0</td>\n",
       "      <td>16.0</td>\n",
       "      <td>1017.6</td>\n",
       "      <td>1012.8</td>\n",
       "      <td>18.1</td>\n",
       "      <td>26.5</td>\n",
       "      <td>0</td>\n",
       "      <td>8</td>\n",
       "      <td>12.028646</td>\n",
       "      <td>11.0</td>\n",
       "      <td>9.0</td>\n",
       "      <td>4</td>\n",
       "      <td>12</td>\n",
       "      <td>2008</td>\n",
       "      <td>0</td>\n",
       "      <td>0</td>\n",
       "      <td>1</td>\n",
       "      <td>0</td>\n",
       "      <td>0</td>\n",
       "      <td>0</td>\n",
       "      <td>0</td>\n",
       "      <td>0</td>\n",
       "      <td>0</td>\n",
       "      <td>0</td>\n",
       "      <td>0</td>\n",
       "      <td>0</td>\n",
       "      <td>0</td>\n",
       "      <td>0</td>\n",
       "      <td>0</td>\n",
       "      <td>0</td>\n",
       "      <td>0</td>\n",
       "      <td>0</td>\n",
       "      <td>0</td>\n",
       "      <td>0</td>\n",
       "      <td>0</td>\n",
       "      <td>0</td>\n",
       "      <td>0</td>\n",
       "      <td>0</td>\n",
       "      <td>0</td>\n",
       "      <td>0</td>\n",
       "      <td>0</td>\n",
       "      <td>0</td>\n",
       "      <td>0</td>\n",
       "      <td>0</td>\n",
       "      <td>0</td>\n",
       "      <td>0</td>\n",
       "      <td>0</td>\n",
       "      <td>0</td>\n",
       "      <td>0</td>\n",
       "      <td>0</td>\n",
       "      <td>0</td>\n",
       "      <td>0</td>\n",
       "      <td>0</td>\n",
       "      <td>0</td>\n",
       "      <td>0</td>\n",
       "      <td>0</td>\n",
       "      <td>0</td>\n",
       "      <td>0</td>\n",
       "      <td>0</td>\n",
       "      <td>0</td>\n",
       "      <td>0</td>\n",
       "      <td>0</td>\n",
       "      <td>0</td>\n",
       "      <td>0</td>\n",
       "      <td>0</td>\n",
       "      <td>0</td>\n",
       "      <td>0</td>\n",
       "      <td>0</td>\n",
       "      <td>0</td>\n",
       "      <td>0</td>\n",
       "      <td>0</td>\n",
       "      <td>0</td>\n",
       "      <td>1</td>\n",
       "      <td>0</td>\n",
       "      <td>0</td>\n",
       "      <td>0</td>\n",
       "      <td>0</td>\n",
       "      <td>0</td>\n",
       "      <td>0</td>\n",
       "      <td>1</td>\n",
       "      <td>0</td>\n",
       "      <td>0</td>\n",
       "      <td>0</td>\n",
       "      <td>0</td>\n",
       "      <td>0</td>\n",
       "      <td>0</td>\n",
       "      <td>0</td>\n",
       "      <td>0</td>\n",
       "      <td>0</td>\n",
       "      <td>0</td>\n",
       "      <td>0</td>\n",
       "      <td>0</td>\n",
       "      <td>0</td>\n",
       "      <td>0</td>\n",
       "      <td>0</td>\n",
       "    </tr>\n",
       "    <tr>\n",
       "      <th>4</th>\n",
       "      <td>1.0</td>\n",
       "      <td>82.0</td>\n",
       "      <td>33.0</td>\n",
       "      <td>1010.8</td>\n",
       "      <td>1006.0</td>\n",
       "      <td>17.8</td>\n",
       "      <td>29.7</td>\n",
       "      <td>0</td>\n",
       "      <td>9</td>\n",
       "      <td>11.883546</td>\n",
       "      <td>7.0</td>\n",
       "      <td>20.0</td>\n",
       "      <td>5</td>\n",
       "      <td>12</td>\n",
       "      <td>2008</td>\n",
       "      <td>0</td>\n",
       "      <td>0</td>\n",
       "      <td>1</td>\n",
       "      <td>0</td>\n",
       "      <td>0</td>\n",
       "      <td>0</td>\n",
       "      <td>0</td>\n",
       "      <td>0</td>\n",
       "      <td>0</td>\n",
       "      <td>0</td>\n",
       "      <td>0</td>\n",
       "      <td>0</td>\n",
       "      <td>0</td>\n",
       "      <td>0</td>\n",
       "      <td>0</td>\n",
       "      <td>0</td>\n",
       "      <td>0</td>\n",
       "      <td>0</td>\n",
       "      <td>0</td>\n",
       "      <td>0</td>\n",
       "      <td>0</td>\n",
       "      <td>0</td>\n",
       "      <td>0</td>\n",
       "      <td>0</td>\n",
       "      <td>0</td>\n",
       "      <td>0</td>\n",
       "      <td>0</td>\n",
       "      <td>0</td>\n",
       "      <td>0</td>\n",
       "      <td>0</td>\n",
       "      <td>0</td>\n",
       "      <td>0</td>\n",
       "      <td>0</td>\n",
       "      <td>0</td>\n",
       "      <td>0</td>\n",
       "      <td>0</td>\n",
       "      <td>0</td>\n",
       "      <td>0</td>\n",
       "      <td>0</td>\n",
       "      <td>0</td>\n",
       "      <td>0</td>\n",
       "      <td>0</td>\n",
       "      <td>0</td>\n",
       "      <td>0</td>\n",
       "      <td>0</td>\n",
       "      <td>0</td>\n",
       "      <td>0</td>\n",
       "      <td>0</td>\n",
       "      <td>0</td>\n",
       "      <td>0</td>\n",
       "      <td>1</td>\n",
       "      <td>0</td>\n",
       "      <td>0</td>\n",
       "      <td>0</td>\n",
       "      <td>0</td>\n",
       "      <td>0</td>\n",
       "      <td>0</td>\n",
       "      <td>0</td>\n",
       "      <td>0</td>\n",
       "      <td>0</td>\n",
       "      <td>0</td>\n",
       "      <td>0</td>\n",
       "      <td>0</td>\n",
       "      <td>0</td>\n",
       "      <td>0</td>\n",
       "      <td>0</td>\n",
       "      <td>0</td>\n",
       "      <td>0</td>\n",
       "      <td>0</td>\n",
       "      <td>0</td>\n",
       "      <td>0</td>\n",
       "      <td>0</td>\n",
       "      <td>1</td>\n",
       "      <td>0</td>\n",
       "      <td>0</td>\n",
       "      <td>0</td>\n",
       "      <td>0</td>\n",
       "      <td>0</td>\n",
       "      <td>0</td>\n",
       "      <td>0</td>\n",
       "      <td>0</td>\n",
       "    </tr>\n",
       "  </tbody>\n",
       "</table>\n",
       "</div>"
      ],
      "text/plain": [
       "   rainfall  humidity9am  humidity3pm  pressure9am  pressure3pm  temp9am  \\\n",
       "0       0.6         71.0         22.0       1007.7       1007.1     16.9   \n",
       "1       0.0         44.0         25.0       1010.6       1007.8     17.2   \n",
       "2       0.0         38.0         30.0       1007.6       1008.7     21.0   \n",
       "3       0.0         45.0         16.0       1017.6       1012.8     18.1   \n",
       "4       1.0         82.0         33.0       1010.8       1006.0     17.8   \n",
       "\n",
       "   temp3pm  raintomorrow  precipitation3pm  precipitation9am  wind_speed9am  \\\n",
       "0     21.8             0                12          5.115360           20.0   \n",
       "1     24.3             0                10         21.497100            4.0   \n",
       "2     23.2             0                17         20.782859           19.0   \n",
       "3     26.5             0                 8         12.028646           11.0   \n",
       "4     29.7             0                 9         11.883546            7.0   \n",
       "\n",
       "   wind_speed3pm  day  month  year  loc_Adelaide  loc_Albany  loc_Albury  \\\n",
       "0           24.0    1     12  2008             0           0           1   \n",
       "1           22.0    2     12  2008             0           0           1   \n",
       "2           26.0    3     12  2008             0           0           1   \n",
       "3            9.0    4     12  2008             0           0           1   \n",
       "4           20.0    5     12  2008             0           0           1   \n",
       "\n",
       "   loc_AliceSprings  loc_BadgerysCreek  loc_Ballarat  loc_Bendigo  \\\n",
       "0                 0                  0             0            0   \n",
       "1                 0                  0             0            0   \n",
       "2                 0                  0             0            0   \n",
       "3                 0                  0             0            0   \n",
       "4                 0                  0             0            0   \n",
       "\n",
       "   loc_Brisbane  loc_Cairns  loc_Canberra  loc_Cobar  loc_CoffsHarbour  \\\n",
       "0             0           0             0          0                 0   \n",
       "1             0           0             0          0                 0   \n",
       "2             0           0             0          0                 0   \n",
       "3             0           0             0          0                 0   \n",
       "4             0           0             0          0                 0   \n",
       "\n",
       "   loc_Dartmoor  loc_Darwin  loc_GoldCoast  loc_Hobart  loc_Katherine  \\\n",
       "0             0           0              0           0              0   \n",
       "1             0           0              0           0              0   \n",
       "2             0           0              0           0              0   \n",
       "3             0           0              0           0              0   \n",
       "4             0           0              0           0              0   \n",
       "\n",
       "   loc_Launceston  loc_Melbourne  loc_MelbourneAirport  loc_Mildura  \\\n",
       "0               0              0                     0            0   \n",
       "1               0              0                     0            0   \n",
       "2               0              0                     0            0   \n",
       "3               0              0                     0            0   \n",
       "4               0              0                     0            0   \n",
       "\n",
       "   loc_Moree  loc_MountGambier  loc_MountGinini  loc_Newcastle  loc_Nhil  \\\n",
       "0          0                 0                0              0         0   \n",
       "1          0                 0                0              0         0   \n",
       "2          0                 0                0              0         0   \n",
       "3          0                 0                0              0         0   \n",
       "4          0                 0                0              0         0   \n",
       "\n",
       "   loc_NorahHead  loc_NorfolkIsland  loc_Nuriootpa  loc_PearceRAAF  \\\n",
       "0              0                  0              0               0   \n",
       "1              0                  0              0               0   \n",
       "2              0                  0              0               0   \n",
       "3              0                  0              0               0   \n",
       "4              0                  0              0               0   \n",
       "\n",
       "   loc_Penrith  loc_Perth  loc_PerthAirport  loc_Portland  loc_Richmond  \\\n",
       "0            0          0                 0             0             0   \n",
       "1            0          0                 0             0             0   \n",
       "2            0          0                 0             0             0   \n",
       "3            0          0                 0             0             0   \n",
       "4            0          0                 0             0             0   \n",
       "\n",
       "   loc_Sale  loc_SalmonGums  loc_Sydney  loc_SydneyAirport  loc_Townsville  \\\n",
       "0         0               0           0                  0               0   \n",
       "1         0               0           0                  0               0   \n",
       "2         0               0           0                  0               0   \n",
       "3         0               0           0                  0               0   \n",
       "4         0               0           0                  0               0   \n",
       "\n",
       "   loc_Tuggeranong  loc_Uluru  loc_WaggaWagga  loc_Walpole  loc_Watsonia  \\\n",
       "0                0          0               0            0             0   \n",
       "1                0          0               0            0             0   \n",
       "2                0          0               0            0             0   \n",
       "3                0          0               0            0             0   \n",
       "4                0          0               0            0             0   \n",
       "\n",
       "   loc_Williamtown  loc_Witchcliffe  loc_Wollongong  loc_Woomera  \\\n",
       "0                0                0               0            0   \n",
       "1                0                0               0            0   \n",
       "2                0                0               0            0   \n",
       "3                0                0               0            0   \n",
       "4                0                0               0            0   \n",
       "\n",
       "   wind_dir9am_E  wind_dir9am_ENE  wind_dir9am_ESE  wind_dir9am_N  \\\n",
       "0              0                0                0              0   \n",
       "1              0                0                0              0   \n",
       "2              0                0                0              0   \n",
       "3              0                0                0              0   \n",
       "4              0                1                0              0   \n",
       "\n",
       "   wind_dir9am_NE  wind_dir9am_NNE  wind_dir9am_NNW  wind_dir9am_NW  \\\n",
       "0               0                0                0               0   \n",
       "1               0                0                1               0   \n",
       "2               0                0                0               0   \n",
       "3               0                0                0               0   \n",
       "4               0                0                0               0   \n",
       "\n",
       "   wind_dir9am_S  wind_dir9am_SE  wind_dir9am_SSE  wind_dir9am_SSW  \\\n",
       "0              0               0                0                0   \n",
       "1              0               0                0                0   \n",
       "2              0               0                0                0   \n",
       "3              0               1                0                0   \n",
       "4              0               0                0                0   \n",
       "\n",
       "   wind_dir9am_SW  wind_dir9am_W  wind_dir9am_WNW  wind_dir9am_WSW  \\\n",
       "0               0              1                0                0   \n",
       "1               0              0                0                0   \n",
       "2               0              1                0                0   \n",
       "3               0              0                0                0   \n",
       "4               0              0                0                0   \n",
       "\n",
       "   wind_dir3pm_E  wind_dir3pm_ENE  wind_dir3pm_ESE  wind_dir3pm_N  \\\n",
       "0              0                0                0              0   \n",
       "1              0                0                0              0   \n",
       "2              0                0                0              0   \n",
       "3              1                0                0              0   \n",
       "4              0                0                0              0   \n",
       "\n",
       "   wind_dir3pm_NE  wind_dir3pm_NNE  wind_dir3pm_NNW  wind_dir3pm_NW  \\\n",
       "0               0                0                0               0   \n",
       "1               0                0                0               0   \n",
       "2               0                0                0               0   \n",
       "3               0                0                0               0   \n",
       "4               0                0                0               1   \n",
       "\n",
       "   wind_dir3pm_S  wind_dir3pm_SE  wind_dir3pm_SSE  wind_dir3pm_SSW  \\\n",
       "0              0               0                0                0   \n",
       "1              0               0                0                0   \n",
       "2              0               0                0                0   \n",
       "3              0               0                0                0   \n",
       "4              0               0                0                0   \n",
       "\n",
       "   wind_dir3pm_SW  wind_dir3pm_W  wind_dir3pm_WNW  wind_dir3pm_WSW  \n",
       "0               0              0                1                0  \n",
       "1               0              0                0                1  \n",
       "2               0              0                0                1  \n",
       "3               0              0                0                0  \n",
       "4               0              0                0                0  "
      ]
     },
     "execution_count": 103,
     "metadata": {},
     "output_type": "execute_result"
    }
   ],
   "source": [
    "rain_wind.head()"
   ]
  },
  {
   "cell_type": "code",
   "execution_count": 104,
   "metadata": {},
   "outputs": [],
   "source": [
    "y = rain_wind['raintomorrow']\n",
    "X = rain_wind.loc[:, rain_wind.columns!='raintomorrow']"
   ]
  },
  {
   "cell_type": "code",
   "execution_count": 105,
   "metadata": {},
   "outputs": [],
   "source": [
    "X_train, X_test, y_train, y_test = train_test_split(X, y, \n",
    "                                                    test_size = 0.2, \n",
    "                                                    random_state = 42,\n",
    "                                                    stratify=y)"
   ]
  },
  {
   "cell_type": "code",
   "execution_count": 106,
   "metadata": {},
   "outputs": [
    {
     "data": {
      "text/plain": [
       "LogisticRegression(C=1.0, class_weight=None, dual=False, fit_intercept=True,\n",
       "                   intercept_scaling=1, l1_ratio=None, max_iter=100,\n",
       "                   multi_class='auto', n_jobs=-1, penalty='l2',\n",
       "                   random_state=None, solver='lbfgs', tol=0.0001, verbose=0,\n",
       "                   warm_start=False)"
      ]
     },
     "execution_count": 106,
     "metadata": {},
     "output_type": "execute_result"
    }
   ],
   "source": [
    "logistic.fit(X_train, y_train)"
   ]
  },
  {
   "cell_type": "code",
   "execution_count": 107,
   "metadata": {},
   "outputs": [
    {
     "data": {
      "text/plain": [
       "0.8398029894041336"
      ]
     },
     "execution_count": 107,
     "metadata": {},
     "output_type": "execute_result"
    }
   ],
   "source": [
    "logistic.score(X_train, y_train)"
   ]
  },
  {
   "cell_type": "code",
   "execution_count": 108,
   "metadata": {},
   "outputs": [
    {
     "data": {
      "text/plain": [
       "0.8366705612183232"
      ]
     },
     "execution_count": 108,
     "metadata": {},
     "output_type": "execute_result"
    }
   ],
   "source": [
    "wind_score = logistic.score(X_test, y_test)\n",
    "wind_score"
   ]
  },
  {
   "cell_type": "code",
   "execution_count": 109,
   "metadata": {},
   "outputs": [
    {
     "data": {
      "text/plain": [
       "0.715792646172393"
      ]
     },
     "execution_count": 109,
     "metadata": {},
     "output_type": "execute_result"
    }
   ],
   "source": [
    "wind_precision = precision_score(y_test, logistic.predict(X_test))\n",
    "wind_precision"
   ]
  },
  {
   "cell_type": "code",
   "execution_count": 110,
   "metadata": {},
   "outputs": [
    {
     "data": {
      "text/plain": [
       "0.43292016040831205"
      ]
     },
     "execution_count": 110,
     "metadata": {},
     "output_type": "execute_result"
    }
   ],
   "source": [
    "wind_recall = recall_score(y_test, logistic.predict(X_test))\n",
    "wind_recall"
   ]
  },
  {
   "cell_type": "code",
   "execution_count": 111,
   "metadata": {},
   "outputs": [
    {
     "data": {
      "text/plain": [
       "<sklearn.metrics._plot.confusion_matrix.ConfusionMatrixDisplay at 0x175b182bc08>"
      ]
     },
     "execution_count": 111,
     "metadata": {},
     "output_type": "execute_result"
    },
    {
     "data": {
      "image/png": "[encoded data removed]",
      "text/plain": [
       "<Figure size 576x396 with 2 Axes>"
      ]
     },
     "metadata": {},
     "output_type": "display_data"
    }
   ],
   "source": [
    "plot_confusion_matrix(logistic, X_test, y_test, values_format='.0f')"
   ]
  },
  {
   "cell_type": "code",
   "execution_count": 112,
   "metadata": {},
   "outputs": [
    {
     "data": {
      "text/html": [
       "<div>\n",
       "<style scoped>\n",
       "    .dataframe tbody tr th:only-of-type {\n",
       "        vertical-align: middle;\n",
       "    }\n",
       "\n",
       "    .dataframe tbody tr th {\n",
       "        vertical-align: top;\n",
       "    }\n",
       "\n",
       "    .dataframe thead th {\n",
       "        text-align: right;\n",
       "    }\n",
       "</style>\n",
       "<table border=\"1\" class=\"dataframe\">\n",
       "  <thead>\n",
       "    <tr style=\"text-align: right;\">\n",
       "      <th></th>\n",
       "      <th>Baseline (Log. Regression)</th>\n",
       "      <th>Baseline 2 (Log. Regression)</th>\n",
       "      <th>Model 3 + Wind Speed (Log. Regression)</th>\n",
       "      <th>Model 4 + Wind Speed (Log. Regression)</th>\n",
       "    </tr>\n",
       "  </thead>\n",
       "  <tbody>\n",
       "    <tr>\n",
       "      <th>SCORE</th>\n",
       "      <td>0.995970</td>\n",
       "      <td>0.834420</td>\n",
       "      <td>0.829569</td>\n",
       "      <td>0.836671</td>\n",
       "    </tr>\n",
       "    <tr>\n",
       "      <th>PRECISION</th>\n",
       "      <td>0.992314</td>\n",
       "      <td>0.734578</td>\n",
       "      <td>0.716671</td>\n",
       "      <td>0.715793</td>\n",
       "    </tr>\n",
       "    <tr>\n",
       "      <th>RECALL</th>\n",
       "      <td>0.989339</td>\n",
       "      <td>0.386807</td>\n",
       "      <td>0.400000</td>\n",
       "      <td>0.432920</td>\n",
       "    </tr>\n",
       "  </tbody>\n",
       "</table>\n",
       "</div>"
      ],
      "text/plain": [
       "           Baseline (Log. Regression)  Baseline 2 (Log. Regression)  \\\n",
       "SCORE                        0.995970                      0.834420   \n",
       "PRECISION                    0.992314                      0.734578   \n",
       "RECALL                       0.989339                      0.386807   \n",
       "\n",
       "           Model 3 + Wind Speed (Log. Regression)  \\\n",
       "SCORE                                    0.829569   \n",
       "PRECISION                                0.716671   \n",
       "RECALL                                   0.400000   \n",
       "\n",
       "           Model 4 + Wind Speed (Log. Regression)  \n",
       "SCORE                                    0.836671  \n",
       "PRECISION                                0.715793  \n",
       "RECALL                                   0.432920  "
      ]
     },
     "execution_count": 112,
     "metadata": {},
     "output_type": "execute_result"
    }
   ],
   "source": [
    "rain_scores = scores('Model 4 + Wind Speed (Log. Regression)', wind_score, wind_precision, wind_recall)\n",
    "rain_scores"
   ]
  },
  {
   "cell_type": "markdown",
   "metadata": {},
   "source": [
    "# Random Forest"
   ]
  },
  {
   "cell_type": "code",
   "execution_count": 113,
   "metadata": {},
   "outputs": [],
   "source": [
    "y = rain_wind['raintomorrow']\n",
    "X = rain_wind.loc[:, rain_wind.columns!='raintomorrow']"
   ]
  },
  {
   "cell_type": "code",
   "execution_count": 114,
   "metadata": {},
   "outputs": [],
   "source": [
    "X_train, X_test, y_train, y_test = train_test_split(X, y, \n",
    "                                                    test_size = 0.2, \n",
    "                                                    random_state = 42,\n",
    "                                                    stratify=y)"
   ]
  },
  {
   "cell_type": "code",
   "execution_count": 115,
   "metadata": {},
   "outputs": [],
   "source": [
    "from sklearn.ensemble import RandomForestClassifier\n",
    "forest = RandomForestClassifier(max_depth=5, n_estimators=200, n_jobs=-1)"
   ]
  },
  {
   "cell_type": "code",
   "execution_count": 116,
   "metadata": {},
   "outputs": [
    {
     "data": {
      "text/plain": [
       "(0.8366346454866767, 0.003836853157231356)"
      ]
     },
     "execution_count": 116,
     "metadata": {},
     "output_type": "execute_result"
    }
   ],
   "source": [
    "from sklearn.model_selection import cross_val_score, KFold\n",
    "results = cross_val_score(forest, X_train, y_train, cv=KFold(3, shuffle=True), scoring='roc_auc')\n",
    "(np.mean(results), np.std(results))"
   ]
  },
  {
   "cell_type": "code",
   "execution_count": 117,
   "metadata": {},
   "outputs": [
    {
     "data": {
      "text/plain": [
       "RandomForestClassifier(bootstrap=True, ccp_alpha=0.0, class_weight=None,\n",
       "                       criterion='gini', max_depth=5, max_features='auto',\n",
       "                       max_leaf_nodes=None, max_samples=None,\n",
       "                       min_impurity_decrease=0.0, min_impurity_split=None,\n",
       "                       min_samples_leaf=1, min_samples_split=2,\n",
       "                       min_weight_fraction_leaf=0.0, n_estimators=200,\n",
       "                       n_jobs=-1, oob_score=False, random_state=None, verbose=0,\n",
       "                       warm_start=False)"
      ]
     },
     "execution_count": 117,
     "metadata": {},
     "output_type": "execute_result"
    }
   ],
   "source": [
    "forest.fit(X_train, y_train)"
   ]
  },
  {
   "cell_type": "code",
   "execution_count": 118,
   "metadata": {},
   "outputs": [
    {
     "data": {
      "text/plain": [
       "0.8100801740461706"
      ]
     },
     "execution_count": 118,
     "metadata": {},
     "output_type": "execute_result"
    }
   ],
   "source": [
    "wind_score = forest.score(X_test, y_test)\n",
    "wind_score"
   ]
  },
  {
   "cell_type": "code",
   "execution_count": 119,
   "metadata": {},
   "outputs": [
    {
     "data": {
      "text/plain": [
       "0.16715275246080932"
      ]
     },
     "execution_count": 119,
     "metadata": {},
     "output_type": "execute_result"
    }
   ],
   "source": [
    "score_recall = recall_score(y_test, forest.predict(X_test))\n",
    "score_recall"
   ]
  },
  {
   "cell_type": "code",
   "execution_count": 120,
   "metadata": {},
   "outputs": [
    {
     "data": {
      "text/plain": [
       "0.8634651600753296"
      ]
     },
     "execution_count": 120,
     "metadata": {},
     "output_type": "execute_result"
    }
   ],
   "source": [
    "score_precision = precision_score(y_test, forest.predict(X_test))\n",
    "score_precision"
   ]
  },
  {
   "cell_type": "code",
   "execution_count": 121,
   "metadata": {},
   "outputs": [
    {
     "data": {
      "text/plain": [
       "<sklearn.metrics._plot.confusion_matrix.ConfusionMatrixDisplay at 0x175b465d288>"
      ]
     },
     "execution_count": 121,
     "metadata": {},
     "output_type": "execute_result"
    },
    {
     "data": {
      "image/png": "[encoded data removed]",
      "text/plain": [
       "<Figure size 576x396 with 2 Axes>"
      ]
     },
     "metadata": {},
     "output_type": "display_data"
    }
   ],
   "source": [
    "plot_confusion_matrix(forest, X_test, y_test, values_format='.0f')"
   ]
  },
  {
   "cell_type": "code",
   "execution_count": 122,
   "metadata": {},
   "outputs": [
    {
     "data": {
      "text/plain": [
       "<sklearn.metrics._plot.roc_curve.RocCurveDisplay at 0x175b40321c8>"
      ]
     },
     "execution_count": 122,
     "metadata": {},
     "output_type": "execute_result"
    },
    {
     "data": {
      "image/png": "[encoded data removed]",
      "text/plain": [
       "<Figure size 576x396 with 1 Axes>"
      ]
     },
     "metadata": {},
     "output_type": "display_data"
    }
   ],
   "source": [
    "fig, ax = plt.subplots()\n",
    "\n",
    "plot_roc_curve(forest, X_test, y_test, ax=ax)\n",
    "plot_roc_curve(forest, X_train, y_train, ax=ax)"
   ]
  },
  {
   "cell_type": "code",
   "execution_count": 123,
   "metadata": {},
   "outputs": [
    {
     "data": {
      "image/png": "[encoded data removed]",
      "text/plain": [
       "<Figure size 576x396 with 1 Axes>"
      ]
     },
     "metadata": {},
     "output_type": "display_data"
    }
   ],
   "source": [
    "from sklearn.model_selection import learning_curve\n",
    "curves = learning_curve(forest, X_train, y_train, scoring='roc_auc')\n",
    "\n",
    "train_sizes = curves[0]\n",
    "train_scores = curves[1]\n",
    "test_scores = curves[2]\n",
    "\n",
    "plt.plot(train_sizes, train_scores.mean(axis=1),'-o', label='Training Score')\n",
    "plt.plot(train_sizes, test_scores.mean(axis=1),'-o', label='Validation Score');\n",
    "plt.ylim([0.5, 1])\n",
    "plt.legend()\n",
    "plt.grid()"
   ]
  },
  {
   "cell_type": "code",
   "execution_count": 124,
   "metadata": {},
   "outputs": [
    {
     "data": {
      "text/plain": [
       "<matplotlib.axes._subplots.AxesSubplot at 0x175b3eeb648>"
      ]
     },
     "execution_count": 124,
     "metadata": {},
     "output_type": "execute_result"
    },
    {
     "data": {
      "image/png": "[encoded data removed]",
      "text/plain": [
       "<Figure size 576x396 with 1 Axes>"
      ]
     },
     "metadata": {},
     "output_type": "display_data"
    }
   ],
   "source": [
    "sns.distplot(forest.predict_proba(X_test)[:,1])"
   ]
  },
  {
   "cell_type": "code",
   "execution_count": 125,
   "metadata": {},
   "outputs": [],
   "source": [
    "y_pred = forest.predict_proba(X_test)[:,1] > 0.3"
   ]
  },
  {
   "cell_type": "code",
   "execution_count": 126,
   "metadata": {},
   "outputs": [
    {
     "data": {
      "text/plain": [
       "array([[17414,  1921],\n",
       "       [ 2334,  3152]], dtype=int64)"
      ]
     },
     "execution_count": 126,
     "metadata": {},
     "output_type": "execute_result"
    }
   ],
   "source": [
    "confusion_matrix(y_test, y_pred)"
   ]
  },
  {
   "cell_type": "code",
   "execution_count": 127,
   "metadata": {},
   "outputs": [
    {
     "data": {
      "text/html": [
       "<div>\n",
       "<style scoped>\n",
       "    .dataframe tbody tr th:only-of-type {\n",
       "        vertical-align: middle;\n",
       "    }\n",
       "\n",
       "    .dataframe tbody tr th {\n",
       "        vertical-align: top;\n",
       "    }\n",
       "\n",
       "    .dataframe thead th {\n",
       "        text-align: right;\n",
       "    }\n",
       "</style>\n",
       "<table border=\"1\" class=\"dataframe\">\n",
       "  <thead>\n",
       "    <tr style=\"text-align: right;\">\n",
       "      <th></th>\n",
       "      <th>precipitation3pm</th>\n",
       "      <th>precipitation9am</th>\n",
       "    </tr>\n",
       "  </thead>\n",
       "  <tbody>\n",
       "    <tr>\n",
       "      <th>count</th>\n",
       "      <td>124105.000000</td>\n",
       "      <td>124105.000000</td>\n",
       "    </tr>\n",
       "    <tr>\n",
       "      <th>mean</th>\n",
       "      <td>10.016824</td>\n",
       "      <td>10.002394</td>\n",
       "    </tr>\n",
       "    <tr>\n",
       "      <th>std</th>\n",
       "      <td>3.171637</td>\n",
       "      <td>4.999267</td>\n",
       "    </tr>\n",
       "    <tr>\n",
       "      <th>min</th>\n",
       "      <td>0.000000</td>\n",
       "      <td>-17.739346</td>\n",
       "    </tr>\n",
       "    <tr>\n",
       "      <th>25%</th>\n",
       "      <td>8.000000</td>\n",
       "      <td>6.652184</td>\n",
       "    </tr>\n",
       "    <tr>\n",
       "      <th>50%</th>\n",
       "      <td>10.000000</td>\n",
       "      <td>9.998280</td>\n",
       "    </tr>\n",
       "    <tr>\n",
       "      <th>75%</th>\n",
       "      <td>12.000000</td>\n",
       "      <td>13.390655</td>\n",
       "    </tr>\n",
       "    <tr>\n",
       "      <th>max</th>\n",
       "      <td>26.000000</td>\n",
       "      <td>32.478590</td>\n",
       "    </tr>\n",
       "  </tbody>\n",
       "</table>\n",
       "</div>"
      ],
      "text/plain": [
       "       precipitation3pm  precipitation9am\n",
       "count     124105.000000     124105.000000\n",
       "mean          10.016824         10.002394\n",
       "std            3.171637          4.999267\n",
       "min            0.000000        -17.739346\n",
       "25%            8.000000          6.652184\n",
       "50%           10.000000          9.998280\n",
       "75%           12.000000         13.390655\n",
       "max           26.000000         32.478590"
      ]
     },
     "execution_count": 127,
     "metadata": {},
     "output_type": "execute_result"
    }
   ],
   "source": [
    "rain_wind[['precipitation3pm', 'precipitation9am']].describe()"
   ]
  },
  {
   "cell_type": "code",
   "execution_count": 128,
   "metadata": {},
   "outputs": [],
   "source": [
    "from sklearn.metrics import plot_precision_recall_curve"
   ]
  },
  {
   "cell_type": "code",
   "execution_count": 129,
   "metadata": {},
   "outputs": [
    {
     "data": {
      "text/plain": [
       "<sklearn.metrics._plot.precision_recall_curve.PrecisionRecallDisplay at 0x175b17ec808>"
      ]
     },
     "execution_count": 129,
     "metadata": {},
     "output_type": "execute_result"
    },
    {
     "data": {
      "image/png": "[encoded data removed]",
      "text/plain": [
       "<Figure size 576x396 with 1 Axes>"
      ]
     },
     "metadata": {},
     "output_type": "display_data"
    }
   ],
   "source": [
    "plot_precision_recall_curve(forest, X, y, name='Random Forest')"
   ]
  },
  {
   "cell_type": "code",
   "execution_count": 130,
   "metadata": {},
   "outputs": [
    {
     "data": {
      "text/html": [
       "<div>\n",
       "<style scoped>\n",
       "    .dataframe tbody tr th:only-of-type {\n",
       "        vertical-align: middle;\n",
       "    }\n",
       "\n",
       "    .dataframe tbody tr th {\n",
       "        vertical-align: top;\n",
       "    }\n",
       "\n",
       "    .dataframe thead th {\n",
       "        text-align: right;\n",
       "    }\n",
       "</style>\n",
       "<table border=\"1\" class=\"dataframe\">\n",
       "  <thead>\n",
       "    <tr style=\"text-align: right;\">\n",
       "      <th></th>\n",
       "      <th>Baseline (Log. Regression)</th>\n",
       "      <th>Baseline 2 (Log. Regression)</th>\n",
       "      <th>Model 3 + Wind Speed (Log. Regression)</th>\n",
       "      <th>Model 4 + Wind Speed (Log. Regression)</th>\n",
       "      <th>Model 5 - Random Forest</th>\n",
       "    </tr>\n",
       "  </thead>\n",
       "  <tbody>\n",
       "    <tr>\n",
       "      <th>SCORE</th>\n",
       "      <td>0.995970</td>\n",
       "      <td>0.834420</td>\n",
       "      <td>0.829569</td>\n",
       "      <td>0.836671</td>\n",
       "      <td>0.810080</td>\n",
       "    </tr>\n",
       "    <tr>\n",
       "      <th>PRECISION</th>\n",
       "      <td>0.992314</td>\n",
       "      <td>0.734578</td>\n",
       "      <td>0.716671</td>\n",
       "      <td>0.715793</td>\n",
       "      <td>0.863465</td>\n",
       "    </tr>\n",
       "    <tr>\n",
       "      <th>RECALL</th>\n",
       "      <td>0.989339</td>\n",
       "      <td>0.386807</td>\n",
       "      <td>0.400000</td>\n",
       "      <td>0.432920</td>\n",
       "      <td>0.167153</td>\n",
       "    </tr>\n",
       "  </tbody>\n",
       "</table>\n",
       "</div>"
      ],
      "text/plain": [
       "           Baseline (Log. Regression)  Baseline 2 (Log. Regression)  \\\n",
       "SCORE                        0.995970                      0.834420   \n",
       "PRECISION                    0.992314                      0.734578   \n",
       "RECALL                       0.989339                      0.386807   \n",
       "\n",
       "           Model 3 + Wind Speed (Log. Regression)  \\\n",
       "SCORE                                    0.829569   \n",
       "PRECISION                                0.716671   \n",
       "RECALL                                   0.400000   \n",
       "\n",
       "           Model 4 + Wind Speed (Log. Regression)  Model 5 - Random Forest  \n",
       "SCORE                                    0.836671                 0.810080  \n",
       "PRECISION                                0.715793                 0.863465  \n",
       "RECALL                                   0.432920                 0.167153  "
      ]
     },
     "execution_count": 130,
     "metadata": {},
     "output_type": "execute_result"
    }
   ],
   "source": [
    "rain_scores = scores('Model 5 - Random Forest', wind_score, score_precision, score_recall)\n",
    "rain_scores"
   ]
  },
  {
   "cell_type": "markdown",
   "metadata": {},
   "source": [
    "#  Decision Tree"
   ]
  },
  {
   "cell_type": "code",
   "execution_count": 131,
   "metadata": {},
   "outputs": [],
   "source": [
    "from sklearn.tree import DecisionTreeClassifier\n",
    "from sklearn.model_selection import cross_val_score,KFold"
   ]
  },
  {
   "cell_type": "code",
   "execution_count": 132,
   "metadata": {},
   "outputs": [],
   "source": [
    "y=rain_wind['raintomorrow']\n",
    "X=rain_wind.drop(columns=['raintomorrow'])"
   ]
  },
  {
   "cell_type": "code",
   "execution_count": 133,
   "metadata": {},
   "outputs": [],
   "source": [
    "model = DecisionTreeClassifier(max_depth=5,ccp_alpha=0.001)"
   ]
  },
  {
   "cell_type": "code",
   "execution_count": 134,
   "metadata": {},
   "outputs": [
    {
     "data": {
      "text/plain": [
       "array([0.81331208, 0.81563552, 0.81283698, 0.80359778, 0.81666984,\n",
       "       0.80839496, 0.81693981, 0.8071281 , 0.80289318, 0.81167521])"
      ]
     },
     "execution_count": 134,
     "metadata": {},
     "output_type": "execute_result"
    }
   ],
   "source": [
    "cross_val_score(model, X, y, cv=KFold(10, shuffle=True), scoring='roc_auc')"
   ]
  },
  {
   "cell_type": "code",
   "execution_count": 135,
   "metadata": {},
   "outputs": [
    {
     "data": {
      "image/png": "[encoded data removed]",
      "text/plain": [
       "<Figure size 576x396 with 1 Axes>"
      ]
     },
     "metadata": {},
     "output_type": "display_data"
    }
   ],
   "source": [
    "from sklearn.model_selection import learning_curve\n",
    "curves = learning_curve(model, X, y, scoring='roc_auc')\n",
    "\n",
    "train_sizes = curves[0]\n",
    "train_scores = curves[1]\n",
    "test_scores = curves[2]\n",
    "\n",
    "plt.plot(train_sizes, train_scores.mean(axis=1),'-o', label='Training Score')\n",
    "plt.plot(train_sizes, test_scores.mean(axis=1),'-o', label='Validation Score');\n",
    "plt.ylim([0.5, 1])\n",
    "plt.legend()\n",
    "plt.grid()"
   ]
  },
  {
   "cell_type": "code",
   "execution_count": 136,
   "metadata": {},
   "outputs": [
    {
     "data": {
      "text/plain": [
       "DecisionTreeClassifier(ccp_alpha=0.001, class_weight=None, criterion='gini',\n",
       "                       max_depth=5, max_features=None, max_leaf_nodes=None,\n",
       "                       min_impurity_decrease=0.0, min_impurity_split=None,\n",
       "                       min_samples_leaf=1, min_samples_split=2,\n",
       "                       min_weight_fraction_leaf=0.0, presort='deprecated',\n",
       "                       random_state=None, splitter='best')"
      ]
     },
     "execution_count": 136,
     "metadata": {},
     "output_type": "execute_result"
    }
   ],
   "source": [
    "model.fit(X,y)"
   ]
  },
  {
   "cell_type": "code",
   "execution_count": 137,
   "metadata": {},
   "outputs": [
    {
     "data": {
      "text/plain": [
       "<sklearn.metrics._plot.precision_recall_curve.PrecisionRecallDisplay at 0x175b40cb948>"
      ]
     },
     "execution_count": 137,
     "metadata": {},
     "output_type": "execute_result"
    },
    {
     "data": {
      "image/png": "[encoded data removed]",
      "text/plain": [
       "<Figure size 576x396 with 1 Axes>"
      ]
     },
     "metadata": {},
     "output_type": "display_data"
    }
   ],
   "source": [
    "plot_precision_recall_curve(model, X, y, name='Random Forest')"
   ]
  },
  {
   "cell_type": "code",
   "execution_count": 138,
   "metadata": {},
   "outputs": [],
   "source": [
    "score=model.score(X,y)"
   ]
  },
  {
   "cell_type": "code",
   "execution_count": 139,
   "metadata": {},
   "outputs": [
    {
     "data": {
      "text/plain": [
       "0.407130618643141"
      ]
     },
     "execution_count": 139,
     "metadata": {},
     "output_type": "execute_result"
    }
   ],
   "source": [
    "score_recall = recall_score(y, model.predict(X))\n",
    "score_recall"
   ]
  },
  {
   "cell_type": "code",
   "execution_count": 140,
   "metadata": {},
   "outputs": [
    {
     "data": {
      "text/plain": [
       "0.725666016894087"
      ]
     },
     "execution_count": 140,
     "metadata": {},
     "output_type": "execute_result"
    }
   ],
   "source": [
    "precision_recall = precision_score(y, model.predict(X))\n",
    "precision_recall"
   ]
  },
  {
   "cell_type": "code",
   "execution_count": 141,
   "metadata": {},
   "outputs": [
    {
     "data": {
      "text/html": [
       "<div>\n",
       "<style scoped>\n",
       "    .dataframe tbody tr th:only-of-type {\n",
       "        vertical-align: middle;\n",
       "    }\n",
       "\n",
       "    .dataframe tbody tr th {\n",
       "        vertical-align: top;\n",
       "    }\n",
       "\n",
       "    .dataframe thead th {\n",
       "        text-align: right;\n",
       "    }\n",
       "</style>\n",
       "<table border=\"1\" class=\"dataframe\">\n",
       "  <thead>\n",
       "    <tr style=\"text-align: right;\">\n",
       "      <th></th>\n",
       "      <th>Baseline (Log. Regression)</th>\n",
       "      <th>Baseline 2 (Log. Regression)</th>\n",
       "      <th>Model 3 + Wind Speed (Log. Regression)</th>\n",
       "      <th>Model 4 + Wind Speed (Log. Regression)</th>\n",
       "      <th>Model 5 - Random Forest</th>\n",
       "      <th>Model 6 - Decision Tree</th>\n",
       "    </tr>\n",
       "  </thead>\n",
       "  <tbody>\n",
       "    <tr>\n",
       "      <th>SCORE</th>\n",
       "      <td>0.995970</td>\n",
       "      <td>0.834420</td>\n",
       "      <td>0.829569</td>\n",
       "      <td>0.836671</td>\n",
       "      <td>0.810080</td>\n",
       "      <td>0.834938</td>\n",
       "    </tr>\n",
       "    <tr>\n",
       "      <th>PRECISION</th>\n",
       "      <td>0.992314</td>\n",
       "      <td>0.734578</td>\n",
       "      <td>0.716671</td>\n",
       "      <td>0.715793</td>\n",
       "      <td>0.863465</td>\n",
       "      <td>0.725666</td>\n",
       "    </tr>\n",
       "    <tr>\n",
       "      <th>RECALL</th>\n",
       "      <td>0.989339</td>\n",
       "      <td>0.386807</td>\n",
       "      <td>0.400000</td>\n",
       "      <td>0.432920</td>\n",
       "      <td>0.167153</td>\n",
       "      <td>0.407131</td>\n",
       "    </tr>\n",
       "  </tbody>\n",
       "</table>\n",
       "</div>"
      ],
      "text/plain": [
       "           Baseline (Log. Regression)  Baseline 2 (Log. Regression)  \\\n",
       "SCORE                        0.995970                      0.834420   \n",
       "PRECISION                    0.992314                      0.734578   \n",
       "RECALL                       0.989339                      0.386807   \n",
       "\n",
       "           Model 3 + Wind Speed (Log. Regression)  \\\n",
       "SCORE                                    0.829569   \n",
       "PRECISION                                0.716671   \n",
       "RECALL                                   0.400000   \n",
       "\n",
       "           Model 4 + Wind Speed (Log. Regression)  Model 5 - Random Forest  \\\n",
       "SCORE                                    0.836671                 0.810080   \n",
       "PRECISION                                0.715793                 0.863465   \n",
       "RECALL                                   0.432920                 0.167153   \n",
       "\n",
       "           Model 6 - Decision Tree  \n",
       "SCORE                     0.834938  \n",
       "PRECISION                 0.725666  \n",
       "RECALL                    0.407131  "
      ]
     },
     "execution_count": 141,
     "metadata": {},
     "output_type": "execute_result"
    }
   ],
   "source": [
    "rain_scores = scores('Model 6 - Decision Tree', score, precision_recall, score_recall)\n",
    "rain_scores"
   ]
  }
 ],
 "metadata": {
  "hide_input": false,
  "kernelspec": {
   "display_name": "Python 3",
   "language": "python",
   "name": "python3"
  },
  "language_info": {
   "codemirror_mode": {
    "name": "ipython",
    "version": 3
   },
   "file_extension": ".py",
   "mimetype": "text/x-python",
   "name": "python",
   "nbconvert_exporter": "python",
   "pygments_lexer": "ipython3",
   "version": "3.8.2"
  },
  "toc": {
   "base_numbering": 1,
   "nav_menu": {},
   "number_sections": true,
   "sideBar": true,
   "skip_h1_title": false,
   "title_cell": "Table of Contents",
   "title_sidebar": "Contents",
   "toc_cell": false,
   "toc_position": {
    "height": "calc(100% - 180px)",
    "left": "10px",
    "top": "150px",
    "width": "244.578125px"
   },
   "toc_section_display": true,
   "toc_window_display": true
  },
  "varInspector": {
   "cols": {
    "lenName": 16,
    "lenType": 16,
    "lenVar": 40
   },
   "kernels_config": {
    "python": {
     "delete_cmd_postfix": "",
     "delete_cmd_prefix": "del ",
     "library": "var_list.py",
     "varRefreshCmd": "print(var_dic_list())"
    },
    "r": {
     "delete_cmd_postfix": ") ",
     "delete_cmd_prefix": "rm(",
     "library": "var_list.r",
     "varRefreshCmd": "cat(var_dic_list()) "
    }
   },
   "types_to_exclude": [
    "module",
    "function",
    "builtin_function_or_method",
    "instance",
    "_Feature"
   ],
   "window_display": false
  }
 },
 "nbformat": 4,
 "nbformat_minor": 2
}
