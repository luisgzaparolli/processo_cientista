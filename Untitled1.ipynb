{
 "cells": [
  {
   "cell_type": "code",
   "execution_count": 16,
   "metadata": {},
   "outputs": [],
   "source": [
    "import requests\n",
    "from bs4 import BeautifulSoup\n",
    "import re\n",
    "import numpy as np\n",
    "from selenium import webdriver\n",
    "from selenium.webdriver.common.keys import Keys\n",
    "import pandas as pd"
   ]
  },
  {
   "cell_type": "code",
   "execution_count": 11,
   "metadata": {},
   "outputs": [],
   "source": [
    "loc=('-34.928181,138.599931')"
   ]
  },
  {
   "cell_type": "code",
   "execution_count": 17,
   "metadata": {},
   "outputs": [],
   "source": [
    "driver = webdriver.Chrome(executable_path='C:/Users/pedro/selenium/chromedriver.exe')\n",
    "url='http://www.bom.gov.au/places/sa/adelaide/'\n",
    "driver.get(url)\n",
    "elem = driver.find_element_by_xpath('//*[@id=\"location-search-box\"]')\n",
    "elem.send_keys(loc)\n",
    "elem.send_keys(Keys.ENTER)\n",
    "elem = driver.find_element_by_xpath('//*[@id=\"content\"]/div[2]/ul/li[4]/a')\n",
    "elem.click()\n",
    "elem = driver.find_element_by_xpath('//*[@id=\"day2\"]/h2/a')\n",
    "elem.click()\n",
    "html = driver.page_source\n",
    "dfs=pd.read_html(html)\n",
    "driver.close()"
   ]
  },
  {
   "cell_type": "code",
   "execution_count": 23,
   "metadata": {},
   "outputs": [],
   "source": [
    "df=dfs[3]"
   ]
  },
  {
   "cell_type": "code",
   "execution_count": 44,
   "metadata": {},
   "outputs": [],
   "source": [
    "mintemp=df['Temp (°C)'].min()\n",
    "maxtemp=df['Temp (°C)'].max()\n",
    "rainfall=df.loc[df['Time (ACST)']=='9:00 am','Rainfall since 9 am (mm)'].values[0]\n",
    "humidity9am=df.loc[df['Time (ACST)']=='9:00 am','Humidity(%)'].values[0]\n",
    "humidity3pm=df.loc[df['Time (ACST)']=='3:00 pm','Humidity(%)'].values[0]\n",
    "pressure9am=df.loc[df['Time (ACST)']=='9:00 am','Pressure (hPa)'].values[0]\n",
    "pressure3pm=df.loc[df['Time (ACST)']=='3:00 pm','Pressure (hPa)'].values[0]\n",
    "temp9am=df.loc[df['Time (ACST)']=='9:00 am','Temp (°C)'].values[0]\n",
    "temp3pm=df.loc[df['Time (ACST)']=='3:00 pm','Temp (°C)'].values[0]\n",
    "wind_dir9am=df.loc[df['Time (ACST)']=='9:00 am','Wind Direction'].values[0]\n",
    "wind_dir3pm=df.loc[df['Time (ACST)']=='3:00 pm','Wind Direction'].values[0]"
   ]
  },
  {
   "cell_type": "code",
   "execution_count": 46,
   "metadata": {},
   "outputs": [],
   "source": [
    "mydict={}\n",
    "mydict['mintemp']=df['Temp (°C)'].min()\n",
    "mydict['maxtemp']=df['Temp (°C)'].max()\n",
    "mydict['rainfall']=df.loc[df['Time (ACST)']=='9:00 am','Rainfall since 9 am (mm)'].values[0]\n",
    "mydict['humidity9am']=df.loc[df['Time (ACST)']=='9:00 am','Humidity(%)'].values[0]\n",
    "mydict['humidity3pm']=df.loc[df['Time (ACST)']=='3:00 pm','Humidity(%)'].values[0]\n",
    "mydict['pressure9am']=df.loc[df['Time (ACST)']=='9:00 am','Pressure (hPa)'].values[0]\n",
    "mydict['pressure3pm']=df.loc[df['Time (ACST)']=='3:00 pm','Pressure (hPa)'].values[0]\n",
    "mydict['temp9am']=df.loc[df['Time (ACST)']=='9:00 am','Temp (°C)'].values[0]\n",
    "mydict['temp3pm']=df.loc[df['Time (ACST)']=='3:00 pm','Temp (°C)'].values[0]\n",
    "mydict['wind_dir9am']=df.loc[df['Time (ACST)']=='9:00 am','Wind Direction'].values[0]\n",
    "mydict['wind_dir3pm']=df.loc[df['Time (ACST)']=='3:00 pm','Wind Direction'].values[0]"
   ]
  },
  {
   "cell_type": "code",
   "execution_count": 51,
   "metadata": {},
   "outputs": [
    {
     "data": {
      "text/html": [
       "<div>\n",
       "<style scoped>\n",
       "    .dataframe tbody tr th:only-of-type {\n",
       "        vertical-align: middle;\n",
       "    }\n",
       "\n",
       "    .dataframe tbody tr th {\n",
       "        vertical-align: top;\n",
       "    }\n",
       "\n",
       "    .dataframe thead th {\n",
       "        text-align: right;\n",
       "    }\n",
       "</style>\n",
       "<table border=\"1\" class=\"dataframe\">\n",
       "  <thead>\n",
       "    <tr style=\"text-align: right;\">\n",
       "      <th></th>\n",
       "      <th>mintemp</th>\n",
       "      <th>maxtemp</th>\n",
       "      <th>rainfall</th>\n",
       "      <th>humidity9am</th>\n",
       "      <th>humidity3pm</th>\n",
       "      <th>pressure9am</th>\n",
       "      <th>pressure3pm</th>\n",
       "      <th>temp9am</th>\n",
       "      <th>temp3pm</th>\n",
       "      <th>wind_dir9am</th>\n",
       "      <th>wind_dir3pm</th>\n",
       "    </tr>\n",
       "  </thead>\n",
       "  <tbody>\n",
       "    <tr>\n",
       "      <th>0</th>\n",
       "      <td>9.8</td>\n",
       "      <td>15.1</td>\n",
       "      <td>0.2</td>\n",
       "      <td>65</td>\n",
       "      <td>62</td>\n",
       "      <td>1027.4</td>\n",
       "      <td>1026.4</td>\n",
       "      <td>13.3</td>\n",
       "      <td>14.7</td>\n",
       "      <td>SE</td>\n",
       "      <td>W</td>\n",
       "    </tr>\n",
       "  </tbody>\n",
       "</table>\n",
       "</div>"
      ],
      "text/plain": [
       "   mintemp  maxtemp  rainfall  humidity9am  humidity3pm  pressure9am  \\\n",
       "0      9.8     15.1       0.2           65           62       1027.4   \n",
       "\n",
       "   pressure3pm  temp9am  temp3pm wind_dir9am wind_dir3pm  \n",
       "0       1026.4     13.3     14.7          SE           W  "
      ]
     },
     "execution_count": 51,
     "metadata": {},
     "output_type": "execute_result"
    }
   ],
   "source": [
    "pd.DataFrame(mydict,index=[0])"
   ]
  }
 ],
 "metadata": {
  "hide_input": false,
  "kernelspec": {
   "display_name": "Python 3",
   "language": "python",
   "name": "python3"
  },
  "language_info": {
   "codemirror_mode": {
    "name": "ipython",
    "version": 3
   },
   "file_extension": ".py",
   "mimetype": "text/x-python",
   "name": "python",
   "nbconvert_exporter": "python",
   "pygments_lexer": "ipython3",
   "version": "3.7.4"
  },
  "toc": {
   "base_numbering": 1,
   "nav_menu": {},
   "number_sections": true,
   "sideBar": true,
   "skip_h1_title": false,
   "title_cell": "Table of Contents",
   "title_sidebar": "Contents",
   "toc_cell": false,
   "toc_position": {},
   "toc_section_display": true,
   "toc_window_display": false
  },
  "varInspector": {
   "cols": {
    "lenName": 16,
    "lenType": 16,
    "lenVar": 40
   },
   "kernels_config": {
    "python": {
     "delete_cmd_postfix": "",
     "delete_cmd_prefix": "del ",
     "library": "var_list.py",
     "varRefreshCmd": "print(var_dic_list())"
    },
    "r": {
     "delete_cmd_postfix": ") ",
     "delete_cmd_prefix": "rm(",
     "library": "var_list.r",
     "varRefreshCmd": "cat(var_dic_list()) "
    }
   },
   "types_to_exclude": [
    "module",
    "function",
    "builtin_function_or_method",
    "instance",
    "_Feature"
   ],
   "window_display": false
  }
 },
 "nbformat": 4,
 "nbformat_minor": 2
}
