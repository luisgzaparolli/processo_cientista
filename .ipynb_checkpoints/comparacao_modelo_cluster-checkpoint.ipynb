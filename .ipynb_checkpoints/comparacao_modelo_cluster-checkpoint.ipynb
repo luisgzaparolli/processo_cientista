{
 "cells": [
  {
   "cell_type": "code",
   "execution_count": 1,
   "metadata": {},
   "outputs": [
    {
     "name": "stderr",
     "output_type": "stream",
     "text": [
      "C:\\Users\\pedro\\Anaconda3\\lib\\site-packages\\statsmodels\\tools\\_testing.py:19: FutureWarning: pandas.util.testing is deprecated. Use the functions in the public API at pandas.testing instead.\n",
      "  import pandas.util.testing as tm\n"
     ]
    }
   ],
   "source": [
    "import matplotlib.pyplot as plt\n",
    "import seaborn as sns\n",
    "import numpy as np\n",
    "import pandas as pd\n",
    "from sklearn.model_selection import train_test_split\n",
    "from sklearn.metrics import precision_score, recall_score, roc_auc_score, plot_roc_curve\n",
    "from sklearn.preprocessing import StandardScaler\n",
    "from sklearn.linear_model import LogisticRegression\n",
    "from sklearn.metrics import plot_roc_curve\n",
    "from mlxtend.plotting import plot_decision_regions\n",
    "from sklearn.datasets import make_classification\n",
    "from sklearn.model_selection import KFold\n",
    "from sklearn.model_selection import cross_val_score\n",
    "from sklearn.neighbors import KNeighborsClassifier\n",
    "from sklearn.tree import DecisionTreeClassifier\n",
    "from sklearn.model_selection import learning_curve\n",
    "\n",
    "from lightgbm import LGBMClassifier\n",
    "from lightgbm import plot_importance\n",
    "\n",
    "from sklearn.metrics import confusion_matrix, plot_confusion_matrix, precision_score, recall_score, plot_roc_curve\n",
    "from sklearn.metrics import classification_report\n"
   ]
  },
  {
   "cell_type": "code",
   "execution_count": 26,
   "metadata": {},
   "outputs": [],
   "source": [
    "rw = pd.read_csv('./data/rw_clean.csv', index_col=0)\n",
    "rw=rw.drop(columns=['date','wind_dir3pm','modelo_vigente','location'])\n",
    "df_aux=[]\n",
    "lgbm_cluster={}\n",
    "logistic_cluster={}\n",
    "tree_cluster = {}\n",
    "for x in range(1,4):\n",
    "    for i in range(0,rw[f'cluster_{x}'].unique().max()+1):\n",
    "        df_aux =rw[(rw[f'cluster_{x}'] == i)]\n",
    "        df_aux = df_aux.drop(['lat', 'lng', 'cluster_1', 'cluster_2', 'cluster_3'], axis=1)\n",
    "        y = df_aux.raintomorrow\n",
    "        X = df_aux.drop('raintomorrow', axis=1)\n",
    "        lgb = LGBMClassifier(max_depth=5, num_leaves=32, min_data_in_leaf=6, \n",
    "                     learning_rate=0.001, n_estimators=1000, \n",
    "                     bagging_fraction=1, bagging_freq=2, feature_fraction=1,\n",
    "                     max_bin=5,\n",
    "                     colsample_bytree=.7, n_jobs=-1)\n",
    "        results = cross_val_score(lgb, X, y, cv=KFold(4, shuffle=True), scoring='roc_auc')\n",
    "        name=f'modelo {x} cluster {i}'\n",
    "        lgbm[name]=(np.mean(results), np.std(results))\n",
    "        log = LogisticRegression(n_jobs=-1)\n",
    "        results = cross_val_score(log, X, y, cv=KFold(4, shuffle=True), scoring='roc_auc')\n",
    "        logistic[name]=(np.mean(results), np.std(results))\n",
    "        tree_m = DecisionTreeClassifier(max_depth=5,ccp_alpha=0.001,random_state=42)\n",
    "        results = cross_val_score(tree_m, X, y, cv=KFold(4, shuffle=True), scoring='roc_auc')\n",
    "        tree[name]=(np.mean(results), np.std(results))\n",
    "        "
   ]
  },
  {
   "cell_type": "code",
   "execution_count": 41,
   "metadata": {},
   "outputs": [],
   "source": [
    "rw = pd.read_csv('./data/rw_clean.csv', index_col=0)\n",
    "rw=rw.drop(columns=['date','wind_dir3pm','modelo_vigente','location', 'cluster_1', 'cluster_2', 'cluster_3'])\n",
    "y = rw.raintomorrow\n",
    "X = rw.drop('raintomorrow', axis=1)\n",
    "lgb = LGBMClassifier(max_depth=5, num_leaves=32, min_data_in_leaf=6, \n",
    "             learning_rate=0.001, n_estimators=1000, \n",
    "             bagging_fraction=1, bagging_freq=2, feature_fraction=1,\n",
    "             max_bin=5,\n",
    "             colsample_bytree=.7, n_jobs=-1)\n",
    "results = cross_val_score(lgb, X, y, cv=KFold(4, shuffle=True), scoring='roc_auc')\n",
    "lgbm=(np.mean(results), np.std(results))\n",
    "log = LogisticRegression(n_jobs=-1)\n",
    "results = cross_val_score(log, X, y, cv=KFold(4, shuffle=True), scoring='roc_auc')\n",
    "logistic=(np.mean(results), np.std(results))\n",
    "tree_m = DecisionTreeClassifier(max_depth=5,ccp_alpha=0.001,random_state=42)\n",
    "results = cross_val_score(tree_m, X, y, cv=KFold(4, shuffle=True), scoring='roc_auc')\n",
    "tree=(np.mean(results), np.std(results))"
   ]
  },
  {
   "cell_type": "code",
   "execution_count": 36,
   "metadata": {
    "scrolled": true
   },
   "outputs": [
    {
     "data": {
      "text/plain": [
       "0.8558101894502887"
      ]
     },
     "execution_count": 36,
     "metadata": {},
     "output_type": "execute_result"
    }
   ],
   "source": [
    "pd.DataFrame(lgbm).T[0].mean()"
   ]
  },
  {
   "cell_type": "code",
   "execution_count": 42,
   "metadata": {
    "scrolled": true
   },
   "outputs": [
    {
     "data": {
      "text/plain": [
       "(0.8432055150977585, 0.0039367251716415155)"
      ]
     },
     "execution_count": 42,
     "metadata": {},
     "output_type": "execute_result"
    }
   ],
   "source": [
    "lgbm"
   ]
  },
  {
   "cell_type": "code",
   "execution_count": 37,
   "metadata": {
    "scrolled": true
   },
   "outputs": [
    {
     "data": {
      "text/plain": [
       "0.8451167838432551"
      ]
     },
     "execution_count": 37,
     "metadata": {},
     "output_type": "execute_result"
    }
   ],
   "source": [
    "pd.DataFrame(logistic).T[0].mean()"
   ]
  },
  {
   "cell_type": "code",
   "execution_count": 43,
   "metadata": {
    "scrolled": true
   },
   "outputs": [
    {
     "data": {
      "text/plain": [
       "(0.8208304543811356, 0.005815462783598415)"
      ]
     },
     "execution_count": 43,
     "metadata": {},
     "output_type": "execute_result"
    }
   ],
   "source": [
    "logistic"
   ]
  },
  {
   "cell_type": "code",
   "execution_count": 38,
   "metadata": {
    "scrolled": true
   },
   "outputs": [
    {
     "data": {
      "text/plain": [
       "0.8273531029530695"
      ]
     },
     "execution_count": 38,
     "metadata": {},
     "output_type": "execute_result"
    }
   ],
   "source": [
    "pd.DataFrame(tree).T[0].mean()"
   ]
  },
  {
   "cell_type": "code",
   "execution_count": 44,
   "metadata": {
    "scrolled": true
   },
   "outputs": [
    {
     "data": {
      "text/plain": [
       "(0.8121806322900681, 0.0018434463627228811)"
      ]
     },
     "execution_count": 44,
     "metadata": {},
     "output_type": "execute_result"
    }
   ],
   "source": [
    "tree"
   ]
  },
  {
   "cell_type": "code",
   "execution_count": 47,
   "metadata": {},
   "outputs": [],
   "source": [
    "rain = pd.read_csv('./data/rain_data_aus.csv')"
   ]
  }
 ],
 "metadata": {
  "hide_input": false,
  "kernelspec": {
   "display_name": "Python 3",
   "language": "python",
   "name": "python3"
  },
  "language_info": {
   "codemirror_mode": {
    "name": "ipython",
    "version": 3
   },
   "file_extension": ".py",
   "mimetype": "text/x-python",
   "name": "python",
   "nbconvert_exporter": "python",
   "pygments_lexer": "ipython3",
   "version": "3.7.4"
  },
  "toc": {
   "base_numbering": 1,
   "nav_menu": {},
   "number_sections": true,
   "sideBar": true,
   "skip_h1_title": false,
   "title_cell": "Table of Contents",
   "title_sidebar": "Contents",
   "toc_cell": false,
   "toc_position": {},
   "toc_section_display": true,
   "toc_window_display": false
  },
  "varInspector": {
   "cols": {
    "lenName": 16,
    "lenType": 16,
    "lenVar": 40
   },
   "kernels_config": {
    "python": {
     "delete_cmd_postfix": "",
     "delete_cmd_prefix": "del ",
     "library": "var_list.py",
     "varRefreshCmd": "print(var_dic_list())"
    },
    "r": {
     "delete_cmd_postfix": ") ",
     "delete_cmd_prefix": "rm(",
     "library": "var_list.r",
     "varRefreshCmd": "cat(var_dic_list()) "
    }
   },
   "types_to_exclude": [
    "module",
    "function",
    "builtin_function_or_method",
    "instance",
    "_Feature"
   ],
   "window_display": false
  }
 },
 "nbformat": 4,
 "nbformat_minor": 2
}
